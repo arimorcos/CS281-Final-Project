{
 "cells": [
  {
   "cell_type": "code",
   "execution_count": 207,
   "metadata": {
    "collapsed": true
   },
   "outputs": [],
   "source": [
    "import theano_lstm\n",
    "import theano\n",
    "import cPickle\n",
    "import numpy as np\n",
    "import sys\n",
    "import os\n",
    "import re"
   ]
  },
  {
   "cell_type": "code",
   "execution_count": 239,
   "metadata": {
    "collapsed": false
   },
   "outputs": [],
   "source": [
    "reload(theano_lstm)\n",
    "theano.config.mode=\"FAST_COMPILE\"\n",
    "network = theano_lstm.lstm_rnn(6,\n",
    "                  [(5, 10)],\n",
    "                  7)"
   ]
  },
  {
   "cell_type": "code",
   "execution_count": 240,
   "metadata": {
    "collapsed": false
   },
   "outputs": [],
   "source": [
    "network.initialize_network_weights()\n",
    "network.set_log_dir('test_log')"
   ]
  },
  {
   "cell_type": "code",
   "execution_count": 60,
   "metadata": {
    "collapsed": false
   },
   "outputs": [
    {
     "name": "stdout",
     "output_type": "stream",
     "text": [
      "num_hidden: 5\n",
      "num_outputs: 10\n",
      "num_inputs: 20\n",
      "num_layers: 1\n"
     ]
    }
   ],
   "source": [
    "print \"num_hidden: {}\".format(network.LSTM_stack.layers[0].num_hidden)\n",
    "print \"num_outputs: {}\".format(network.LSTM_stack.layers[0].num_outputs)\n",
    "print \"num_inputs: {}\".format(network.LSTM_stack.layers[0].num_inputs)\n",
    "print \"num_layers: {}\".format(len(network.LSTM_stack.layers))"
   ]
  },
  {
   "cell_type": "code",
   "execution_count": 257,
   "metadata": {
    "collapsed": true
   },
   "outputs": [],
   "source": []
  },
  {
   "cell_type": "code",
   "execution_count": 260,
   "metadata": {
    "collapsed": false
   },
   "outputs": [],
   "source": [
    "network.set_parameters(epoch=0)"
   ]
  },
  {
   "cell_type": "code",
   "execution_count": null,
   "metadata": {
    "collapsed": true
   },
   "outputs": [],
   "source": []
  }
 ],
 "metadata": {
  "kernelspec": {
   "display_name": "Python 2",
   "language": "python",
   "name": "python2"
  },
  "language_info": {
   "codemirror_mode": {
    "name": "ipython",
    "version": 2
   },
   "file_extension": ".py",
   "mimetype": "text/x-python",
   "name": "python",
   "nbconvert_exporter": "python",
   "pygments_lexer": "ipython2",
   "version": "2.7.10"
  }
 },
 "nbformat": 4,
 "nbformat_minor": 0
}
