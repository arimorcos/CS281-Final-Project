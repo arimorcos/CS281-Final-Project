{
 "cells": [
  {
   "cell_type": "code",
   "execution_count": 207,
   "metadata": {
    "collapsed": true
   },
   "outputs": [],
   "source": [
    "import theano_lstm\n",
    "import theano\n",
    "import cPickle\n",
    "import numpy as np\n",
    "import sys\n",
    "import os\n",
    "import re"
   ]
  },
  {
   "cell_type": "code",
   "execution_count": 419,
   "metadata": {
    "collapsed": false
   },
   "outputs": [
    {
     "name": "stdout",
     "output_type": "stream",
     "text": [
      "CPU times: user 3min 14s, sys: 2.02 s, total: 3min 16s\n",
      "Wall time: 3min 18s\n"
     ]
    }
   ],
   "source": [
    "%%time\n",
    "reload(theano_lstm)\n",
    "theano.config.mode=\"FAST_COMPILE\"\n",
    "network = theano_lstm.lstm_rnn(300,\n",
    "                  [(128, 128)],\n",
    "                  50)"
   ]
  },
  {
   "cell_type": "code",
   "execution_count": 422,
   "metadata": {
    "collapsed": false,
    "scrolled": true
   },
   "outputs": [
    {
     "name": "stdout",
     "output_type": "stream",
     "text": [
      "CPU times: user 3min 47s, sys: 2.58 s, total: 3min 50s\n",
      "Wall time: 3min 57s\n"
     ]
    }
   ],
   "source": [
    "%%time\n",
    "reload(theano_lstm)\n",
    "theano.config.mode=\"FAST_RUN\"\n",
    "network_opt = theano_lstm.lstm_rnn(300,\n",
    "                  [(128, 128)],\n",
    "                  50)"
   ]
  },
  {
   "cell_type": "code",
   "execution_count": 423,
   "metadata": {
    "collapsed": false,
    "scrolled": true
   },
   "outputs": [
    {
     "name": "stdout",
     "output_type": "stream",
     "text": [
      "Epoch files already exist. Maximum epoch is 42. Reset y/n? y\n"
     ]
    }
   ],
   "source": [
    "network.initialize_network_weights()\n",
    "network.set_log_dir('test_log')"
   ]
  },
  {
   "cell_type": "code",
   "execution_count": 424,
   "metadata": {
    "collapsed": true
   },
   "outputs": [],
   "source": [
    "network_opt.set_log_dir('test_log')"
   ]
  },
  {
   "cell_type": "code",
   "execution_count": 438,
   "metadata": {
    "collapsed": true
   },
   "outputs": [],
   "source": [
    "input_seq = np.random.normal(size=(1000,300))"
   ]
  },
  {
   "cell_type": "code",
   "execution_count": 439,
   "metadata": {
    "collapsed": false
   },
   "outputs": [
    {
     "name": "stdout",
     "output_type": "stream",
     "text": [
      "1 loops, best of 3: 3.18 s per loop\n"
     ]
    }
   ],
   "source": [
    "%%timeit\n",
    "_=network.adadelta_step(input_seq, 10)"
   ]
  },
  {
   "cell_type": "code",
   "execution_count": 440,
   "metadata": {
    "collapsed": false
   },
   "outputs": [
    {
     "name": "stdout",
     "output_type": "stream",
     "text": [
      "1 loops, best of 3: 3.12 s per loop\n"
     ]
    }
   ],
   "source": [
    "%%timeit\n",
    "_=network_opt.adadelta_step(input_seq, 10)"
   ]
  },
  {
   "cell_type": "code",
   "execution_count": 441,
   "metadata": {
    "collapsed": false
   },
   "outputs": [
    {
     "data": {
      "text/plain": [
       "array([ 0.02036405,  0.02033318,  0.02027555,  0.01918262,  0.01921607,\n",
       "        0.02027884,  0.02027881,  0.01910493,  0.01943351,  0.02082165,\n",
       "        0.0193176 ,  0.01960313,  0.02098871,  0.02055673,  0.02027925,\n",
       "        0.02079426,  0.0195847 ,  0.02081873,  0.0200946 ,  0.01936003,\n",
       "        0.02089851,  0.01958925,  0.02032792,  0.02102537,  0.01955961,\n",
       "        0.0193662 ,  0.0208276 ,  0.01995848,  0.01892361,  0.01949932,\n",
       "        0.02110937,  0.01968564,  0.01948341,  0.02044166,  0.01933324,\n",
       "        0.01956831,  0.02009387,  0.01888059,  0.01931294,  0.02051761,\n",
       "        0.01903064,  0.01894093,  0.0208137 ,  0.01969069,  0.01933134,\n",
       "        0.02066745,  0.02088547,  0.02019993,  0.02097575,  0.02037462])"
      ]
     },
     "execution_count": 441,
     "metadata": {},
     "output_type": "execute_result"
    }
   ],
   "source": [
    "input_seq = np.random.normal(size=(1000,300))\n",
    "network.process(input_seq)"
   ]
  },
  {
   "cell_type": "code",
   "execution_count": 433,
   "metadata": {
    "collapsed": false
   },
   "outputs": [
    {
     "name": "stdout",
     "output_type": "stream",
     "text": [
      "num_hidden: 128\n",
      "num_outputs: 128\n",
      "num_inputs: 300\n",
      "num_layers: 1\n"
     ]
    }
   ],
   "source": [
    "print \"num_hidden: {}\".format(network.LSTM_stack.layers[0].num_hidden)\n",
    "print \"num_outputs: {}\".format(network.LSTM_stack.layers[0].num_outputs)\n",
    "print \"num_inputs: {}\".format(network.LSTM_stack.layers[0].num_inputs)\n",
    "print \"num_layers: {}\".format(len(network.LSTM_stack.layers))"
   ]
  },
  {
   "cell_type": "code",
   "execution_count": 346,
   "metadata": {
    "collapsed": false,
    "scrolled": true
   },
   "outputs": [
    {
     "data": {
      "text/plain": [
       "array([ 0.02039058,  0.0195675 ,  0.01989761,  0.01803038,  0.01889962,\n",
       "        0.01943875,  0.01890373,  0.0182974 ,  0.01962697,  0.01960254,\n",
       "        0.06291963,  0.01807538,  0.02030255,  0.01802263,  0.02032858,\n",
       "        0.0272209 ,  0.01859091,  0.01857025,  0.02066064,  0.01760116,\n",
       "        0.01420491,  0.0196176 ,  0.01871286,  0.01755074,  0.01885627,\n",
       "        0.02089075,  0.02118282,  0.01684682,  0.01742627,  0.01828309,\n",
       "        0.02266634,  0.01919527,  0.01904211,  0.01968523,  0.01819517,\n",
       "        0.01882855,  0.02065471,  0.01855024,  0.01607171,  0.01708558,\n",
       "        0.01841593,  0.01887848,  0.02127254,  0.0187629 ,  0.01872462,\n",
       "        0.01943978,  0.01721234,  0.02123007,  0.01887595,  0.0186926 ])"
      ]
     },
     "execution_count": 346,
     "metadata": {},
     "output_type": "execute_result"
    }
   ],
   "source": [
    "input_seq = np.random.normal(size=(10,300))\n",
    "network.process(input_seq)"
   ]
  },
  {
   "cell_type": "code",
   "execution_count": 288,
   "metadata": {
    "collapsed": true
   },
   "outputs": [],
   "source": [
    "network.curr_epoch += 1"
   ]
  },
  {
   "cell_type": "code",
   "execution_count": 365,
   "metadata": {
    "collapsed": true
   },
   "outputs": [],
   "source": [
    "network.write_parameters()"
   ]
  },
  {
   "cell_type": "code",
   "execution_count": 283,
   "metadata": {
    "collapsed": true
   },
   "outputs": [],
   "source": [
    "network.set_parameters(epoch=0)"
   ]
  },
  {
   "cell_type": "code",
   "execution_count": 371,
   "metadata": {
    "collapsed": true
   },
   "outputs": [],
   "source": [
    "network.set_parameters(epoch=)"
   ]
  },
  {
   "cell_type": "code",
   "execution_count": 417,
   "metadata": {
    "collapsed": false,
    "scrolled": false
   },
   "outputs": [
    {
     "data": {
      "text/plain": [
       "array(0.0005335276941749398)"
      ]
     },
     "execution_count": 417,
     "metadata": {},
     "output_type": "execute_result"
    }
   ],
   "source": [
    "input_seq = np.random.normal(size=(10,300))\n",
    "network.adadelta_step(input_seq, 14)"
   ]
  },
  {
   "cell_type": "code",
   "execution_count": 418,
   "metadata": {
    "collapsed": false
   },
   "outputs": [
    {
     "data": {
      "text/plain": [
       "14"
      ]
     },
     "execution_count": 418,
     "metadata": {},
     "output_type": "execute_result"
    }
   ],
   "source": [
    "network.process(input_seq).argmax()"
   ]
  },
  {
   "cell_type": "code",
   "execution_count": null,
   "metadata": {
    "collapsed": true
   },
   "outputs": [],
   "source": []
  }
 ],
 "metadata": {
  "kernelspec": {
   "display_name": "Python 2",
   "language": "python",
   "name": "python2"
  },
  "language_info": {
   "codemirror_mode": {
    "name": "ipython",
    "version": 2
   },
   "file_extension": ".py",
   "mimetype": "text/x-python",
   "name": "python",
   "nbconvert_exporter": "python",
   "pygments_lexer": "ipython2",
   "version": "2.7.10"
  }
 },
 "nbformat": 4,
 "nbformat_minor": 0
}
