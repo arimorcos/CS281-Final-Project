{
 "cells": [
  {
   "cell_type": "code",
   "execution_count": 42,
   "metadata": {
    "collapsed": false
   },
   "outputs": [],
   "source": [
    "import json\n",
    "import pandas as pd\n",
    "import numpy as np"
   ]
  },
  {
   "cell_type": "code",
   "execution_count": 80,
   "metadata": {
    "collapsed": true
   },
   "outputs": [],
   "source": [
    "def rename_summary_column(df):\n",
    "    new_name = df['summary_type'][0]\n",
    "    df = df.rename(columns={'summary': new_name + \"_summary\"})\n",
    "    df.drop(\"summary_type\", axis=1, inplace=True)\n",
    "    return df"
   ]
  },
  {
   "cell_type": "code",
   "execution_count": 6,
   "metadata": {
    "collapsed": false
   },
   "outputs": [],
   "source": [
    "character_path = \"getBookList/char_descriptions_stripped.json\"\n",
    "characters = pd.read_json(character_path)"
   ]
  },
  {
   "cell_type": "code",
   "execution_count": 82,
   "metadata": {
    "collapsed": false
   },
   "outputs": [],
   "source": [
    "masterplots_fourth_path = \"getBookList/summary_masterplots_fourth_edition_stripped.json\"\n",
    "masterplots_fourth = pd.read_json(masterplots_fourth_path)\n",
    "masterplots_fourth = rename_summary_column(masterplots_fourth)"
   ]
  },
  {
   "cell_type": "code",
   "execution_count": 83,
   "metadata": {
    "collapsed": true
   },
   "outputs": [],
   "source": [
    "masterplots_ii_path = \"getBookList/summary_masterplots_ii_stripped.json\"\n",
    "masterplots_ii = pd.read_json(masterplots_ii_path)\n",
    "masterplots_ii = rename_summary_column(masterplots_ii)"
   ]
  },
  {
   "cell_type": "code",
   "execution_count": 84,
   "metadata": {
    "collapsed": false
   },
   "outputs": [
    {
     "data": {
      "text/html": [
       "<div>\n",
       "<table border=\"1\" class=\"dataframe\">\n",
       "  <thead>\n",
       "    <tr style=\"text-align: right;\">\n",
       "      <th></th>\n",
       "      <th>author</th>\n",
       "      <th>masterplots_fourth_edition_summary</th>\n",
       "      <th>title</th>\n",
       "    </tr>\n",
       "  </thead>\n",
       "  <tbody>\n",
       "    <tr>\n",
       "      <th>1021</th>\n",
       "      <td>William Shakespeare</td>\n",
       "      <td>In Verona, Italy, there live two famous fami...</td>\n",
       "      <td>Romeo and Juliet</td>\n",
       "    </tr>\n",
       "  </tbody>\n",
       "</table>\n",
       "</div>"
      ],
      "text/plain": [
       "                   author                 masterplots_fourth_edition_summary  \\\n",
       "1021  William Shakespeare    In Verona, Italy, there live two famous fami...   \n",
       "\n",
       "                 title  \n",
       "1021  Romeo and Juliet  "
      ]
     },
     "execution_count": 84,
     "metadata": {},
     "output_type": "execute_result"
    }
   ],
   "source": [
    "masterplots_fourth[masterplots_fourth['title'] == \"Romeo and Juliet\"]"
   ]
  },
  {
   "cell_type": "code",
   "execution_count": 85,
   "metadata": {
    "collapsed": false
   },
   "outputs": [
    {
     "data": {
      "text/html": [
       "<div>\n",
       "<table border=\"1\" class=\"dataframe\">\n",
       "  <thead>\n",
       "    <tr style=\"text-align: right;\">\n",
       "      <th></th>\n",
       "      <th>author</th>\n",
       "      <th>characters</th>\n",
       "      <th>title</th>\n",
       "    </tr>\n",
       "  </thead>\n",
       "  <tbody>\n",
       "    <tr>\n",
       "      <th>279</th>\n",
       "      <td>William Shakespeare</td>\n",
       "      <td>[{u'name': u'Romeo ', u'description': u'Romeo ...</td>\n",
       "      <td>Romeo and Juliet</td>\n",
       "    </tr>\n",
       "  </tbody>\n",
       "</table>\n",
       "</div>"
      ],
      "text/plain": [
       "                  author                                         characters  \\\n",
       "279  William Shakespeare  [{u'name': u'Romeo ', u'description': u'Romeo ...   \n",
       "\n",
       "                title  \n",
       "279  Romeo and Juliet  "
      ]
     },
     "execution_count": 85,
     "metadata": {},
     "output_type": "execute_result"
    }
   ],
   "source": [
    "characters[characters['title'] == \"Romeo and Juliet\"]"
   ]
  },
  {
   "cell_type": "code",
   "execution_count": 127,
   "metadata": {
    "collapsed": true
   },
   "outputs": [],
   "source": [
    "def mergeSummaries(characters, summaries):\n",
    "    \"\"\"\n",
    "    Merges on summaries using a left join to keep all entries from characters\n",
    "    \"\"\"\n",
    "    temp = characters.merge(summaries, on=['title', 'author'], how='left')\n",
    "    temp = temp.drop_duplicates(subset=['title', 'author'])\n",
    "    return temp"
   ]
  },
  {
   "cell_type": "code",
   "execution_count": 142,
   "metadata": {
    "collapsed": false
   },
   "outputs": [],
   "source": [
    "merge_1 = mergeSummaries(characters, masterplots_ii)\n",
    "df = mergeSummaries(merge_1, masterplots_fourth)\n",
    "null_ind = df['masterplots_ii_summary'].isnull() & df['masterplots_fourth_edition_summary'].isnull()\n",
    "df = df[~null_ind]"
   ]
  },
  {
   "cell_type": "code",
   "execution_count": 143,
   "metadata": {
    "collapsed": false
   },
   "outputs": [
    {
     "name": "stdout",
     "output_type": "stream",
     "text": [
      "Number of entries: 2752\n"
     ]
    }
   ],
   "source": [
    "print \"Number of entries: {}\".format(df.shape[0])"
   ]
  },
  {
   "cell_type": "code",
   "execution_count": 165,
   "metadata": {
    "collapsed": false
   },
   "outputs": [
    {
     "data": {
      "text/html": [
       "<div>\n",
       "<table border=\"1\" class=\"dataframe\">\n",
       "  <thead>\n",
       "    <tr style=\"text-align: right;\">\n",
       "      <th></th>\n",
       "      <th>author</th>\n",
       "      <th>characters</th>\n",
       "      <th>title</th>\n",
       "      <th>masterplots_ii_summary</th>\n",
       "      <th>masterplots_fourth_edition_summary</th>\n",
       "    </tr>\n",
       "  </thead>\n",
       "  <tbody>\n",
       "    <tr>\n",
       "      <th>0</th>\n",
       "      <td>John Updike</td>\n",
       "      <td>[{u'name': u'Harry 'Rabbit' Angstrom ', u'desc...</td>\n",
       "      <td>The Rabbit Angstrom Novels</td>\n",
       "      <td>With his sixth novel, Rabbit Redux , published...</td>\n",
       "      <td>Rabbit, Run. Harry Angstrom, nicknamed Rabbit...</td>\n",
       "    </tr>\n",
       "    <tr>\n",
       "      <th>1</th>\n",
       "      <td>Gabriel Garcia Marquez</td>\n",
       "      <td>[{u'name': u'Melquiades ', u'description': u'M...</td>\n",
       "      <td>One Hundred Years of Solitude</td>\n",
       "      <td>NaN</td>\n",
       "      <td>Standing before a firing squad, Colonel Aure...</td>\n",
       "    </tr>\n",
       "    <tr>\n",
       "      <th>3</th>\n",
       "      <td>William Makepeace Thackeray</td>\n",
       "      <td>[{u'name': u'Colonel Thomas Newcome ', u'descr...</td>\n",
       "      <td>The Newcomes</td>\n",
       "      <td>NaN</td>\n",
       "      <td>The elder Thomas Newcome marries his childho...</td>\n",
       "    </tr>\n",
       "    <tr>\n",
       "      <th>4</th>\n",
       "      <td>J. R. R. Tolkien</td>\n",
       "      <td>[{u'name': u'Frodo Baggins ', u'description': ...</td>\n",
       "      <td>The Lord of the Rings</td>\n",
       "      <td>J. R. R. Tolkien's modern fantasy classic The ...</td>\n",
       "      <td>NaN</td>\n",
       "    </tr>\n",
       "    <tr>\n",
       "      <th>6</th>\n",
       "      <td>Charles Dickens</td>\n",
       "      <td>[{u'name': u'David Copperfield ', u'descriptio...</td>\n",
       "      <td>David Copperfield</td>\n",
       "      <td>When it was published in installments during t...</td>\n",
       "      <td>David Copperfield is born at Blunderstone, i...</td>\n",
       "    </tr>\n",
       "  </tbody>\n",
       "</table>\n",
       "</div>"
      ],
      "text/plain": [
       "                        author  \\\n",
       "0                  John Updike   \n",
       "1       Gabriel Garcia Marquez   \n",
       "3  William Makepeace Thackeray   \n",
       "4             J. R. R. Tolkien   \n",
       "6              Charles Dickens   \n",
       "\n",
       "                                          characters  \\\n",
       "0  [{u'name': u'Harry 'Rabbit' Angstrom ', u'desc...   \n",
       "1  [{u'name': u'Melquiades ', u'description': u'M...   \n",
       "3  [{u'name': u'Colonel Thomas Newcome ', u'descr...   \n",
       "4  [{u'name': u'Frodo Baggins ', u'description': ...   \n",
       "6  [{u'name': u'David Copperfield ', u'descriptio...   \n",
       "\n",
       "                           title  \\\n",
       "0     The Rabbit Angstrom Novels   \n",
       "1  One Hundred Years of Solitude   \n",
       "3                   The Newcomes   \n",
       "4          The Lord of the Rings   \n",
       "6              David Copperfield   \n",
       "\n",
       "                              masterplots_ii_summary  \\\n",
       "0  With his sixth novel, Rabbit Redux , published...   \n",
       "1                                                NaN   \n",
       "3                                                NaN   \n",
       "4  J. R. R. Tolkien's modern fantasy classic The ...   \n",
       "6  When it was published in installments during t...   \n",
       "\n",
       "                  masterplots_fourth_edition_summary  \n",
       "0   Rabbit, Run. Harry Angstrom, nicknamed Rabbit...  \n",
       "1    Standing before a firing squad, Colonel Aure...  \n",
       "3    The elder Thomas Newcome marries his childho...  \n",
       "4                                                NaN  \n",
       "6    David Copperfield is born at Blunderstone, i...  "
      ]
     },
     "execution_count": 165,
     "metadata": {},
     "output_type": "execute_result"
    }
   ],
   "source": [
    "df.head()"
   ]
  },
  {
   "cell_type": "code",
   "execution_count": 168,
   "metadata": {
    "collapsed": false
   },
   "outputs": [],
   "source": [
    "df.to_pickle('complete_database.pd')"
   ]
  },
  {
   "cell_type": "code",
   "execution_count": 183,
   "metadata": {
    "collapsed": false
   },
   "outputs": [
    {
     "data": {
      "text/plain": [
       "u\"Frodo Baggins, the principal protagonist. Frodo is a hobbit, a member of a diminutive, peace-loving race that inhabits the Shire, a rural area in the northwest of Middle-earth. From his Uncle Bilbo, Frodo inherits a magic ring that confers the power of invisibility upon its wearer. Although he at first regards it as merely a useful toy, he comes to learn that it is in fact the Ruling Ring, an enormously powerful talisman created and lost by Sauron, the malevolent Dark Lord, ages before. Should Sauron recover the Ring, he will become powerful enough to plunge Middle-earth into an age of darkness. The Ring is a potent weapon that enables its wearer to control the wills of others, but it is inherently evil, inevitably corrupting its possessors. Rather than attempt to use it to defeat Sauron, therefore, Frodo seeks to destroy it. This, however, can be done only where the Ring was made: in the volcanic fires of Mount Doom, in the heart of Sauron's kingdom. Pursued by Sauron's emissaries - including monsters such as Orcs, Trolls, and the terrifying Ringwraiths - Frodo and a handful of companions undertake the apparently hopeless quest of carrying the Ring to Mount Doom. Along the way, Frodo bears the colossal burden of the Ring, which exerts an inexorable pressure upon his mind and spirit. He yields to its temptation only when he is on the point of accomplishing his quest, claiming the Ring for himself as he stands by the fiery fissures of Mount Doom. He is saved at the last moment by Gollum, who bites the Ring - and a finger - from Frodo's hand and falls into the abyss, destroying the Ring and vanquishing Sauron. A small, unassuming member of an obscure race, Frodo is outwardly ordinary, an unlikely hero in a titanic struggle for world supremacy, yet his simplicity and essential goodness give him the ability to resist the Ring's pull far longer than a seemingly more powerful character could. Although he is terribly worn, Frodo is ennobled by his long ordeal. A somewhat bourgeois and self-interested country squire at the story's beginning, he becomes a saintlike figure by its conclusion.\""
      ]
     },
     "execution_count": 183,
     "metadata": {},
     "output_type": "execute_result"
    }
   ],
   "source": [
    "df['characters'][4][0]['description']"
   ]
  },
  {
   "cell_type": "code",
   "execution_count": 187,
   "metadata": {
    "collapsed": false
   },
   "outputs": [],
   "source": [
    "from spacy.en import English, LOCAL_DATA_DIR\n",
    "import os\n",
    "data_dir = os.environ.get('SPACY_DATA', LOCAL_DATA_DIR)\n",
    "nlp = English(data_dir=data_dir)"
   ]
  },
  {
   "cell_type": "code",
   "execution_count": 198,
   "metadata": {
    "collapsed": false
   },
   "outputs": [
    {
     "name": "stdout",
     "output_type": "stream",
     "text": [
      "10 loops, best of 3: 36.3 ms per loop\n"
     ]
    }
   ],
   "source": [
    "doc = nlp(df['characters'][4][0]['description'])"
   ]
  },
  {
   "cell_type": "code",
   "execution_count": 195,
   "metadata": {
    "collapsed": false
   },
   "outputs": [
    {
     "data": {
      "text/plain": [
       "u'PRODUCT'"
      ]
     },
     "execution_count": 195,
     "metadata": {},
     "output_type": "execute_result"
    }
   ],
   "source": [
    "doc.ents[2].label_"
   ]
  },
  {
   "cell_type": "code",
   "execution_count": 196,
   "metadata": {
    "collapsed": false
   },
   "outputs": [
    {
     "data": {
      "text/plain": [
       "Shire"
      ]
     },
     "execution_count": 196,
     "metadata": {},
     "output_type": "execute_result"
    }
   ],
   "source": [
    "doc.ents[2]"
   ]
  },
  {
   "cell_type": "code",
   "execution_count": 281,
   "metadata": {
    "collapsed": false
   },
   "outputs": [],
   "source": [
    "prev_word = []\n",
    "for ind, word in enumerate(x):\n",
    "    if prev_word == \"Frodo\" and word == \"Baggins\":\n",
    "        x[ind] = None \n",
    "    prev_word = word"
   ]
  },
  {
   "cell_type": "code",
   "execution_count": 280,
   "metadata": {
    "collapsed": false
   },
   "outputs": [],
   "source": [
    "x = [word.text for word in doc]"
   ]
  },
  {
   "cell_type": "code",
   "execution_count": 285,
   "metadata": {
    "collapsed": false
   },
   "outputs": [
    {
     "data": {
      "text/plain": [
       "[u'Frodo',\n",
       " u',',\n",
       " u'the',\n",
       " u'principal',\n",
       " u'protagonist',\n",
       " u'.',\n",
       " u'Frodo',\n",
       " u'is',\n",
       " u'a',\n",
       " u'hobbit',\n",
       " u',',\n",
       " u'a',\n",
       " u'member',\n",
       " u'of',\n",
       " u'a',\n",
       " u'diminutive',\n",
       " u',',\n",
       " u'peace',\n",
       " u'-',\n",
       " u'loving',\n",
       " u'race',\n",
       " u'that',\n",
       " u'inhabits',\n",
       " u'the',\n",
       " u'Shire',\n",
       " u',',\n",
       " u'a',\n",
       " u'rural',\n",
       " u'area',\n",
       " u'in',\n",
       " u'the',\n",
       " u'northwest',\n",
       " u'of',\n",
       " u'Middle',\n",
       " u'-',\n",
       " u'earth',\n",
       " u'.',\n",
       " u'From',\n",
       " u'his',\n",
       " u'Uncle',\n",
       " u'Bilbo',\n",
       " u',',\n",
       " u'Frodo',\n",
       " u'inherits',\n",
       " u'a',\n",
       " u'magic',\n",
       " u'ring',\n",
       " u'that',\n",
       " u'confers',\n",
       " u'the',\n",
       " u'power',\n",
       " u'of',\n",
       " u'invisibility',\n",
       " u'upon',\n",
       " u'its',\n",
       " u'wearer',\n",
       " u'.',\n",
       " u'Although',\n",
       " u'he',\n",
       " u'at',\n",
       " u'first',\n",
       " u'regards',\n",
       " u'it',\n",
       " u'as',\n",
       " u'merely',\n",
       " u'a',\n",
       " u'useful',\n",
       " u'toy',\n",
       " u',',\n",
       " u'he',\n",
       " u'comes',\n",
       " u'to',\n",
       " u'learn',\n",
       " u'that',\n",
       " u'it',\n",
       " u'is',\n",
       " u'in',\n",
       " u'fact',\n",
       " u'the',\n",
       " u'Ruling',\n",
       " u'Ring',\n",
       " u',',\n",
       " u'an',\n",
       " u'enormously',\n",
       " u'powerful',\n",
       " u'talisman',\n",
       " u'created',\n",
       " u'and',\n",
       " u'lost',\n",
       " u'by',\n",
       " u'Sauron',\n",
       " u',',\n",
       " u'the',\n",
       " u'malevolent',\n",
       " u'Dark',\n",
       " u'Lord',\n",
       " u',',\n",
       " u'ages',\n",
       " u'before',\n",
       " u'.',\n",
       " u'Should',\n",
       " u'Sauron',\n",
       " u'recover',\n",
       " u'the',\n",
       " u'Ring',\n",
       " u',',\n",
       " u'he',\n",
       " u'will',\n",
       " u'become',\n",
       " u'powerful',\n",
       " u'enough',\n",
       " u'to',\n",
       " u'plunge',\n",
       " u'Middle',\n",
       " u'-',\n",
       " u'earth',\n",
       " u'into',\n",
       " u'an',\n",
       " u'age',\n",
       " u'of',\n",
       " u'darkness',\n",
       " u'.',\n",
       " u'The',\n",
       " u'Ring',\n",
       " u'is',\n",
       " u'a',\n",
       " u'potent',\n",
       " u'weapon',\n",
       " u'that',\n",
       " u'enables',\n",
       " u'its',\n",
       " u'wearer',\n",
       " u'to',\n",
       " u'control',\n",
       " u'the',\n",
       " u'wills',\n",
       " u'of',\n",
       " u'others',\n",
       " u',',\n",
       " u'but',\n",
       " u'it',\n",
       " u'is',\n",
       " u'inherently',\n",
       " u'evil',\n",
       " u',',\n",
       " u'inevitably',\n",
       " u'corrupting',\n",
       " u'its',\n",
       " u'possessors',\n",
       " u'.',\n",
       " u'Rather',\n",
       " u'than',\n",
       " u'attempt',\n",
       " u'to',\n",
       " u'use',\n",
       " u'it',\n",
       " u'to',\n",
       " u'defeat',\n",
       " u'Sauron',\n",
       " u',',\n",
       " u'therefore',\n",
       " u',',\n",
       " u'Frodo',\n",
       " u'seeks',\n",
       " u'to',\n",
       " u'destroy',\n",
       " u'it',\n",
       " u'.',\n",
       " u'This',\n",
       " u',',\n",
       " u'however',\n",
       " u',',\n",
       " u'can',\n",
       " u'be',\n",
       " u'done',\n",
       " u'only',\n",
       " u'where',\n",
       " u'the',\n",
       " u'Ring',\n",
       " u'was',\n",
       " u'made',\n",
       " u':',\n",
       " u'in',\n",
       " u'the',\n",
       " u'volcanic',\n",
       " u'fires',\n",
       " u'of',\n",
       " u'Mount',\n",
       " u'Doom',\n",
       " u',',\n",
       " u'in',\n",
       " u'the',\n",
       " u'heart',\n",
       " u'of',\n",
       " u'Sauron',\n",
       " u\"'s\",\n",
       " u'kingdom',\n",
       " u'.',\n",
       " u'Pursued',\n",
       " u'by',\n",
       " u'Sauron',\n",
       " u\"'s\",\n",
       " u'emissaries',\n",
       " u'-',\n",
       " u'including',\n",
       " u'monsters',\n",
       " u'such',\n",
       " u'as',\n",
       " u'Orcs',\n",
       " u',',\n",
       " u'Trolls',\n",
       " u',',\n",
       " u'and',\n",
       " u'the',\n",
       " u'terrifying',\n",
       " u'Ringwraiths',\n",
       " u'-',\n",
       " u'Frodo',\n",
       " u'and',\n",
       " u'a',\n",
       " u'handful',\n",
       " u'of',\n",
       " u'companions',\n",
       " u'undertake',\n",
       " u'the',\n",
       " u'apparently',\n",
       " u'hopeless',\n",
       " u'quest',\n",
       " u'of',\n",
       " u'carrying',\n",
       " u'the',\n",
       " u'Ring',\n",
       " u'to',\n",
       " u'Mount',\n",
       " u'Doom',\n",
       " u'.',\n",
       " u'Along',\n",
       " u'the',\n",
       " u'way',\n",
       " u',',\n",
       " u'Frodo',\n",
       " u'bears',\n",
       " u'the',\n",
       " u'colossal',\n",
       " u'burden',\n",
       " u'of',\n",
       " u'the',\n",
       " u'Ring',\n",
       " u',',\n",
       " u'which',\n",
       " u'exerts',\n",
       " u'an',\n",
       " u'inexorable',\n",
       " u'pressure',\n",
       " u'upon',\n",
       " u'his',\n",
       " u'mind',\n",
       " u'and',\n",
       " u'spirit',\n",
       " u'.',\n",
       " u'He',\n",
       " u'yields',\n",
       " u'to',\n",
       " u'its',\n",
       " u'temptation',\n",
       " u'only',\n",
       " u'when',\n",
       " u'he',\n",
       " u'is',\n",
       " u'on',\n",
       " u'the',\n",
       " u'point',\n",
       " u'of',\n",
       " u'accomplishing',\n",
       " u'his',\n",
       " u'quest',\n",
       " u',',\n",
       " u'claiming',\n",
       " u'the',\n",
       " u'Ring',\n",
       " u'for',\n",
       " u'himself',\n",
       " u'as',\n",
       " u'he',\n",
       " u'stands',\n",
       " u'by',\n",
       " u'the',\n",
       " u'fiery',\n",
       " u'fissures',\n",
       " u'of',\n",
       " u'Mount',\n",
       " u'Doom',\n",
       " u'.',\n",
       " u'He',\n",
       " u'is',\n",
       " u'saved',\n",
       " u'at',\n",
       " u'the',\n",
       " u'last',\n",
       " u'moment',\n",
       " u'by',\n",
       " u'Gollum',\n",
       " u',',\n",
       " u'who',\n",
       " u'bites',\n",
       " u'the',\n",
       " u'Ring',\n",
       " u'-',\n",
       " u'and',\n",
       " u'a',\n",
       " u'finger',\n",
       " u'-',\n",
       " u'from',\n",
       " u'Frodo',\n",
       " u\"'s\",\n",
       " u'hand',\n",
       " u'and',\n",
       " u'falls',\n",
       " u'into',\n",
       " u'the',\n",
       " u'abyss',\n",
       " u',',\n",
       " u'destroying',\n",
       " u'the',\n",
       " u'Ring',\n",
       " u'and',\n",
       " u'vanquishing',\n",
       " u'Sauron',\n",
       " u'.',\n",
       " u'A',\n",
       " u'small',\n",
       " u',',\n",
       " u'unassuming',\n",
       " u'member',\n",
       " u'of',\n",
       " u'an',\n",
       " u'obscure',\n",
       " u'race',\n",
       " u',',\n",
       " u'Frodo',\n",
       " u'is',\n",
       " u'outwardly',\n",
       " u'ordinary',\n",
       " u',',\n",
       " u'an',\n",
       " u'unlikely',\n",
       " u'hero',\n",
       " u'in',\n",
       " u'a',\n",
       " u'titanic',\n",
       " u'struggle',\n",
       " u'for',\n",
       " u'world',\n",
       " u'supremacy',\n",
       " u',',\n",
       " u'yet',\n",
       " u'his',\n",
       " u'simplicity',\n",
       " u'and',\n",
       " u'essential',\n",
       " u'goodness',\n",
       " u'give',\n",
       " u'him',\n",
       " u'the',\n",
       " u'ability',\n",
       " u'to',\n",
       " u'resist',\n",
       " u'the',\n",
       " u'Ring',\n",
       " u\"'s\",\n",
       " u'pull',\n",
       " u'far',\n",
       " u'longer',\n",
       " u'than',\n",
       " u'a',\n",
       " u'seemingly',\n",
       " u'more',\n",
       " u'powerful',\n",
       " u'character',\n",
       " u'could',\n",
       " u'.',\n",
       " u'Although',\n",
       " u'he',\n",
       " u'is',\n",
       " u'terribly',\n",
       " u'worn',\n",
       " u',',\n",
       " u'Frodo',\n",
       " u'is',\n",
       " u'ennobled',\n",
       " u'by',\n",
       " u'his',\n",
       " u'long',\n",
       " u'ordeal',\n",
       " u'.',\n",
       " u'A',\n",
       " u'somewhat',\n",
       " u'bourgeois',\n",
       " u'and',\n",
       " u'self',\n",
       " u'-',\n",
       " u'interested',\n",
       " u'country',\n",
       " u'squire',\n",
       " u'at',\n",
       " u'the',\n",
       " u'story',\n",
       " u\"'s\",\n",
       " u'beginning',\n",
       " u',',\n",
       " u'he',\n",
       " u'becomes',\n",
       " u'a',\n",
       " u'saintlike',\n",
       " u'figure',\n",
       " u'by',\n",
       " u'its',\n",
       " u'conclusion',\n",
       " u'.']"
      ]
     },
     "execution_count": 285,
     "metadata": {},
     "output_type": "execute_result"
    }
   ],
   "source": [
    "[word for word in x if word is not None]"
   ]
  },
  {
   "cell_type": "code",
   "execution_count": 286,
   "metadata": {
    "collapsed": false
   },
   "outputs": [
    {
     "data": {
      "text/plain": [
       "True"
      ]
     },
     "execution_count": 286,
     "metadata": {},
     "output_type": "execute_result"
    }
   ],
   "source": [
    "y = 5\n",
    "x = y\n",
    "x is y"
   ]
  },
  {
   "cell_type": "code",
   "execution_count": 287,
   "metadata": {
    "collapsed": false
   },
   "outputs": [
    {
     "data": {
      "text/plain": [
       "True"
      ]
     },
     "execution_count": 287,
     "metadata": {},
     "output_type": "execute_result"
    }
   ],
   "source": [
    "y = 5\n",
    "x = 5\n",
    "x is y"
   ]
  }
 ],
 "metadata": {
  "kernelspec": {
   "display_name": "Python 2",
   "language": "python",
   "name": "python2"
  },
  "language_info": {
   "codemirror_mode": {
    "name": "ipython",
    "version": 2
   },
   "file_extension": ".py",
   "mimetype": "text/x-python",
   "name": "python",
   "nbconvert_exporter": "python",
   "pygments_lexer": "ipython2",
   "version": "2.7.10"
  }
 },
 "nbformat": 4,
 "nbformat_minor": 0
}
