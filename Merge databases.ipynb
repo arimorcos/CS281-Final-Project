{
 "cells": [
  {
   "cell_type": "code",
   "execution_count": 42,
   "metadata": {
    "collapsed": false
   },
   "outputs": [],
   "source": [
    "import json\n",
    "import pandas as pd\n",
    "import numpy as np"
   ]
  },
  {
   "cell_type": "code",
   "execution_count": 80,
   "metadata": {
    "collapsed": true
   },
   "outputs": [],
   "source": [
    "def rename_summary_column(df):\n",
    "    new_name = df['summary_type'][0]\n",
    "    df = df.rename(columns={'summary': new_name + \"_summary\"})\n",
    "    df.drop(\"summary_type\", axis=1, inplace=True)\n",
    "    return df"
   ]
  },
  {
   "cell_type": "code",
   "execution_count": 6,
   "metadata": {
    "collapsed": false
   },
   "outputs": [],
   "source": [
    "character_path = \"getBookList/char_descriptions_stripped.json\"\n",
    "characters = pd.read_json(character_path)"
   ]
  },
  {
   "cell_type": "code",
   "execution_count": 82,
   "metadata": {
    "collapsed": false
   },
   "outputs": [],
   "source": [
    "masterplots_fourth_path = \"getBookList/summary_masterplots_fourth_edition_stripped.json\"\n",
    "masterplots_fourth = pd.read_json(masterplots_fourth_path)\n",
    "masterplots_fourth = rename_summary_column(masterplots_fourth)"
   ]
  },
  {
   "cell_type": "code",
   "execution_count": 83,
   "metadata": {
    "collapsed": true
   },
   "outputs": [],
   "source": [
    "masterplots_ii_path = \"getBookList/summary_masterplots_ii_stripped.json\"\n",
    "masterplots_ii = pd.read_json(masterplots_ii_path)\n",
    "masterplots_ii = rename_summary_column(masterplots_ii)"
   ]
  },
  {
   "cell_type": "code",
   "execution_count": 84,
   "metadata": {
    "collapsed": false
   },
   "outputs": [
    {
     "data": {
      "text/html": [
       "<div>\n",
       "<table border=\"1\" class=\"dataframe\">\n",
       "  <thead>\n",
       "    <tr style=\"text-align: right;\">\n",
       "      <th></th>\n",
       "      <th>author</th>\n",
       "      <th>masterplots_fourth_edition_summary</th>\n",
       "      <th>title</th>\n",
       "    </tr>\n",
       "  </thead>\n",
       "  <tbody>\n",
       "    <tr>\n",
       "      <th>1021</th>\n",
       "      <td>William Shakespeare</td>\n",
       "      <td>In Verona, Italy, there live two famous fami...</td>\n",
       "      <td>Romeo and Juliet</td>\n",
       "    </tr>\n",
       "  </tbody>\n",
       "</table>\n",
       "</div>"
      ],
      "text/plain": [
       "                   author                 masterplots_fourth_edition_summary  \\\n",
       "1021  William Shakespeare    In Verona, Italy, there live two famous fami...   \n",
       "\n",
       "                 title  \n",
       "1021  Romeo and Juliet  "
      ]
     },
     "execution_count": 84,
     "metadata": {},
     "output_type": "execute_result"
    }
   ],
   "source": [
    "masterplots_fourth[masterplots_fourth['title'] == \"Romeo and Juliet\"]"
   ]
  },
  {
   "cell_type": "code",
   "execution_count": 85,
   "metadata": {
    "collapsed": false
   },
   "outputs": [
    {
     "data": {
      "text/html": [
       "<div>\n",
       "<table border=\"1\" class=\"dataframe\">\n",
       "  <thead>\n",
       "    <tr style=\"text-align: right;\">\n",
       "      <th></th>\n",
       "      <th>author</th>\n",
       "      <th>characters</th>\n",
       "      <th>title</th>\n",
       "    </tr>\n",
       "  </thead>\n",
       "  <tbody>\n",
       "    <tr>\n",
       "      <th>279</th>\n",
       "      <td>William Shakespeare</td>\n",
       "      <td>[{u'name': u'Romeo ', u'description': u'Romeo ...</td>\n",
       "      <td>Romeo and Juliet</td>\n",
       "    </tr>\n",
       "  </tbody>\n",
       "</table>\n",
       "</div>"
      ],
      "text/plain": [
       "                  author                                         characters  \\\n",
       "279  William Shakespeare  [{u'name': u'Romeo ', u'description': u'Romeo ...   \n",
       "\n",
       "                title  \n",
       "279  Romeo and Juliet  "
      ]
     },
     "execution_count": 85,
     "metadata": {},
     "output_type": "execute_result"
    }
   ],
   "source": [
    "characters[characters['title'] == \"Romeo and Juliet\"]"
   ]
  },
  {
   "cell_type": "code",
   "execution_count": 127,
   "metadata": {
    "collapsed": true
   },
   "outputs": [],
   "source": [
    "def mergeSummaries(characters, summaries):\n",
    "    \"\"\"\n",
    "    Merges on summaries using a left join to keep all entries from characters\n",
    "    \"\"\"\n",
    "    temp = characters.merge(summaries, on=['title', 'author'], how='left')\n",
    "    temp = temp.drop_duplicates(subset=['title', 'author'])\n",
    "    return temp"
   ]
  },
  {
   "cell_type": "code",
   "execution_count": 142,
   "metadata": {
    "collapsed": false
   },
   "outputs": [],
   "source": [
    "merge_1 = mergeSummaries(characters, masterplots_ii)\n",
    "df = mergeSummaries(merge_1, masterplots_fourth)\n",
    "null_ind = df['masterplots_ii_summary'].isnull() & df['masterplots_fourth_edition_summary'].isnull()\n",
    "df = df[~null_ind]"
   ]
  },
  {
   "cell_type": "code",
   "execution_count": 143,
   "metadata": {
    "collapsed": false
   },
   "outputs": [
    {
     "name": "stdout",
     "output_type": "stream",
     "text": [
      "Number of entries: 2752\n"
     ]
    }
   ],
   "source": [
    "print \"Number of entries: {}\".format(df.shape[0])"
   ]
  },
  {
   "cell_type": "code",
   "execution_count": 144,
   "metadata": {
    "collapsed": false
   },
   "outputs": [
    {
     "data": {
      "text/html": [
       "<div>\n",
       "<table border=\"1\" class=\"dataframe\">\n",
       "  <thead>\n",
       "    <tr style=\"text-align: right;\">\n",
       "      <th></th>\n",
       "      <th>author</th>\n",
       "      <th>characters</th>\n",
       "      <th>title</th>\n",
       "      <th>masterplots_ii_summary</th>\n",
       "      <th>masterplots_fourth_edition_summary</th>\n",
       "    </tr>\n",
       "  </thead>\n",
       "  <tbody>\n",
       "    <tr>\n",
       "      <th>0</th>\n",
       "      <td>John Updike</td>\n",
       "      <td>[{u'name': u'Harry 'Rabbit' Angstrom ', u'desc...</td>\n",
       "      <td>The Rabbit Angstrom Novels</td>\n",
       "      <td>With his sixth novel, Rabbit Redux , published...</td>\n",
       "      <td>Rabbit, Run. Harry Angstrom, nicknamed Rabbit...</td>\n",
       "    </tr>\n",
       "    <tr>\n",
       "      <th>1</th>\n",
       "      <td>Gabriel Garcia Marquez</td>\n",
       "      <td>[{u'name': u'Melquiades ', u'description': u'M...</td>\n",
       "      <td>One Hundred Years of Solitude</td>\n",
       "      <td>NaN</td>\n",
       "      <td>Standing before a firing squad, Colonel Aure...</td>\n",
       "    </tr>\n",
       "    <tr>\n",
       "      <th>3</th>\n",
       "      <td>William Makepeace Thackeray</td>\n",
       "      <td>[{u'name': u'Colonel Thomas Newcome ', u'descr...</td>\n",
       "      <td>The Newcomes</td>\n",
       "      <td>NaN</td>\n",
       "      <td>The elder Thomas Newcome marries his childho...</td>\n",
       "    </tr>\n",
       "    <tr>\n",
       "      <th>4</th>\n",
       "      <td>J. R. R. Tolkien</td>\n",
       "      <td>[{u'name': u'Frodo Baggins ', u'description': ...</td>\n",
       "      <td>The Lord of the Rings</td>\n",
       "      <td>J. R. R. Tolkien's modern fantasy classic The ...</td>\n",
       "      <td>NaN</td>\n",
       "    </tr>\n",
       "    <tr>\n",
       "      <th>6</th>\n",
       "      <td>Charles Dickens</td>\n",
       "      <td>[{u'name': u'David Copperfield ', u'descriptio...</td>\n",
       "      <td>David Copperfield</td>\n",
       "      <td>When it was published in installments during t...</td>\n",
       "      <td>David Copperfield is born at Blunderstone, i...</td>\n",
       "    </tr>\n",
       "  </tbody>\n",
       "</table>\n",
       "</div>"
      ],
      "text/plain": [
       "                        author  \\\n",
       "0                  John Updike   \n",
       "1       Gabriel Garcia Marquez   \n",
       "3  William Makepeace Thackeray   \n",
       "4             J. R. R. Tolkien   \n",
       "6              Charles Dickens   \n",
       "\n",
       "                                          characters  \\\n",
       "0  [{u'name': u'Harry 'Rabbit' Angstrom ', u'desc...   \n",
       "1  [{u'name': u'Melquiades ', u'description': u'M...   \n",
       "3  [{u'name': u'Colonel Thomas Newcome ', u'descr...   \n",
       "4  [{u'name': u'Frodo Baggins ', u'description': ...   \n",
       "6  [{u'name': u'David Copperfield ', u'descriptio...   \n",
       "\n",
       "                           title  \\\n",
       "0     The Rabbit Angstrom Novels   \n",
       "1  One Hundred Years of Solitude   \n",
       "3                   The Newcomes   \n",
       "4          The Lord of the Rings   \n",
       "6              David Copperfield   \n",
       "\n",
       "                              masterplots_ii_summary  \\\n",
       "0  With his sixth novel, Rabbit Redux , published...   \n",
       "1                                                NaN   \n",
       "3                                                NaN   \n",
       "4  J. R. R. Tolkien's modern fantasy classic The ...   \n",
       "6  When it was published in installments during t...   \n",
       "\n",
       "                  masterplots_fourth_edition_summary  \n",
       "0   Rabbit, Run. Harry Angstrom, nicknamed Rabbit...  \n",
       "1    Standing before a firing squad, Colonel Aure...  \n",
       "3    The elder Thomas Newcome marries his childho...  \n",
       "4                                                NaN  \n",
       "6    David Copperfield is born at Blunderstone, i...  "
      ]
     },
     "execution_count": 144,
     "metadata": {},
     "output_type": "execute_result"
    }
   ],
   "source": [
    "df.head()"
   ]
  }
 ],
 "metadata": {
  "kernelspec": {
   "display_name": "Python 2",
   "language": "python",
   "name": "python2"
  },
  "language_info": {
   "codemirror_mode": {
    "name": "ipython",
    "version": 2
   },
   "file_extension": ".py",
   "mimetype": "text/x-python",
   "name": "python",
   "nbconvert_exporter": "python",
   "pygments_lexer": "ipython2",
   "version": "2.7.10"
  }
 },
 "nbformat": 4,
 "nbformat_minor": 0
}
