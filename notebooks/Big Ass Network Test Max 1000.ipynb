{
 "cells": [
  {
   "cell_type": "code",
   "execution_count": null,
   "metadata": {
    "collapsed": false
   },
   "outputs": [],
   "source": [
    "import sys\n",
    "sys.path.append('..')\n",
    "from theano import function, config, shared, sandbox\n",
    "import theano.tensor as T\n",
    "import numpy\n",
    "import datetime\n",
    "import theano_lstm\n",
    "import numpy as np\n",
    "import data_managers\n",
    "import os\n",
    "import cPickle\n",
    "\n",
    "# Plotting\n",
    "import matplotlib.pyplot as plt\n",
    "import matplotlib\n",
    "from IPython import display\n",
    "%matplotlib inline"
   ]
  },
  {
   "cell_type": "code",
   "execution_count": null,
   "metadata": {
    "collapsed": false
   },
   "outputs": [],
   "source": [
    "reload(data_managers)\n",
    "data_butler = data_managers.character_data_manager('/home/arimorcos/Github/CS281-Final-Project/data manager/',\n",
    "                                                  minmax_doc_length=[0,1000])\n",
    "data_butler.convert_ent_to_one_hot()"
   ]
  },
  {
   "cell_type": "code",
   "execution_count": null,
   "metadata": {
    "collapsed": false
   },
   "outputs": [],
   "source": [
    "%%time\n",
    "# Create network \n",
    "config.mode=\"FAST_RUN\"\n",
    "hidden_size = 256\n",
    "network = theano_lstm.lstm_rnn(300,\n",
    "                  [(hidden_size, hidden_size),\n",
    "                   (hidden_size, hidden_size)],\n",
    "                  150, dropout=0.2)\n",
    "# network.initialize_training_adadelta()\n",
    "network.initialize_training_adam(alpha=1e-7, beta1=0.9)"
   ]
  },
  {
   "cell_type": "code",
   "execution_count": null,
   "metadata": {
    "collapsed": false
   },
   "outputs": [],
   "source": [
    "network.save_model('ban.pkl')"
   ]
  },
  {
   "cell_type": "code",
   "execution_count": null,
   "metadata": {
    "collapsed": false
   },
   "outputs": [],
   "source": [
    "%%time\n",
    "# Load \n",
    "with open('ban.pkl', 'rb') as f:\n",
    "    network = cPickle.load(f)"
   ]
  },
  {
   "cell_type": "code",
   "execution_count": null,
   "metadata": {
    "collapsed": true
   },
   "outputs": [],
   "source": [
    "batch_size = 80\n",
    "perms_per = 2\n",
    "num_batches = 100000\n",
    "should_reinitialize = True\n",
    "repeat_batch = 1\n",
    "# abbrev = 10\n",
    "\n",
    "data_butler.set_batch_size(batch_size)\n",
    "data_butler.set_perms_per(perms_per)\n",
    "data_butler.set_stride(batch_size)\n",
    "# data_butler.set_stride(0)\n",
    "\n",
    "# Re-initialize network \n",
    "if should_reinitialize:\n",
    "    network.initialize_network_weights()\n",
    "    root_dir = '/media/1_TB_Internal/lstm_rnn_data'\n",
    "    new_log_dir = os.path.join(root_dir, datetime.datetime.now().strftime('%y%m%d_%H%M%S'))\n",
    "    network.set_log_dir(new_log_dir)\n",
    "    # TEMPORARY: Scale down the weights to avoid getting nans\n",
    "    for P in network.list_all_params():\n",
    "        P.set_value(P.get_value()*0.525)\n",
    "    \n",
    "    # Initialize cost \n",
    "    cost = []\n",
    "    mean_diff_mag = []\n",
    "    mean_diff_mag_i = []\n",
    "    mean_diff_mag_f = []\n",
    "    mean_diff_mag_c = []\n",
    "    mean_diff_mag_o = []\n",
    "    mean_diff_mag_y = []\n",
    "    mean_diff_mag_r = []\n",
    "    should_crop = True\n",
    "\n",
    "#Create plot \n",
    "fig = plt.figure(figsize=(10, 15))\n",
    "fig.subplots_adjust(hspace=0.4, wspace=0.4)\n",
    "ax_cost = fig.add_subplot(4,1,1)\n",
    "ax_cost.set_xlabel('Batch number')\n",
    "ax_cost.set_ylabel('Mean cross-entropy error')\n",
    "y_formatter = matplotlib.ticker.ScalarFormatter(useOffset=False)\n",
    "ax_cost.yaxis.set_major_formatter(y_formatter)\n",
    "\n",
    "ax_weight_change = fig.add_subplot(8,1,3)\n",
    "ax_weight_change.set_xlabel('Batch number')\n",
    "ax_weight_change.set_ylabel('Mean weight change')\n",
    "\n",
    "ax_weight_change_ind = fig.add_subplot(8,1,4)\n",
    "ax_weight_change_ind.set_xlabel('Batch number')\n",
    "ax_weight_change_ind.set_ylabel('Mean weight change')\n",
    "ax_weight_change_ind.hold(True)\n",
    "\n",
    "# Plot the difference in hidden unit activations comparing different permutations (assumes perms_per > 1)\n",
    "labels = ['Input gate','Forget gate','memory Cell','Output gate','Hidden activation']\n",
    "ax_list = []\n",
    "for sp in range(len(labels)):\n",
    "    ax_list.append(fig.add_subplot(2,len(labels),(1*len(labels))+sp+1))\n",
    "\n",
    "\n",
    "offset = 0\n",
    "# Offer data\n",
    "# vectors, lengths, answers = data_butler.offer_data()\n",
    "# vectors = vectors[:abbrev, :, :]\n",
    "# lengths = [min(abbrev, vec_len) for vec_len in lengths]\n",
    "\n",
    "for batch in range(num_batches):\n",
    "    \n",
    "    # Get data\n",
    "#     vectors, lengths, answers = data_butler.permute_examples()\n",
    "#     vectors = vectors[:abbrev, :, :]\n",
    "#     lengths = [min(abbrev, vec_len) for vec_len in lengths]\n",
    "\n",
    "    vectors, lengths, answers = data_butler.offer_data()\n",
    "    \n",
    "    offset = offset + perms_per\n",
    "    if offset >= batch_size*perms_per: \n",
    "        offset = 0\n",
    "    \n",
    "    # Step \n",
    "#     temp_cost, param_diff = network.adadelta_step(vectors, lengths, answers)\n",
    "    for repeat in range(repeat_batch):\n",
    "        temp_cost, param_diff = network.adam_step(vectors, lengths, answers)\n",
    "        cost.append(temp_cost.tolist())\n",
    "    \n",
    "        # Calculate mean param_diff magnitude\n",
    "        temp_mean_diff_mag = [np.abs(diff).mean() for diff in param_diff]\n",
    "        mean_diff_mag.append(np.mean(temp_mean_diff_mag))\n",
    "        \n",
    "        # append indi\n",
    "        mean_diff_mag_i.append(temp_mean_diff_mag[0])\n",
    "        mean_diff_mag_f.append(temp_mean_diff_mag[2])\n",
    "        mean_diff_mag_c.append(temp_mean_diff_mag[4])\n",
    "        mean_diff_mag_o.append(temp_mean_diff_mag[6])\n",
    "        mean_diff_mag_y.append(temp_mean_diff_mag[8])\n",
    "        mean_diff_mag_r.append(temp_mean_diff_mag[10])\n",
    "\n",
    "        # Update plot \n",
    "        \n",
    "        try:\n",
    "            upper_lim = len(cost) + 1\n",
    "        except:\n",
    "            upper_lim = 2\n",
    "        x_vals = range(1, upper_lim)\n",
    "        x_vals_diff = range(1, upper_lim)\n",
    "        if len(cost) > 5 and should_crop:\n",
    "            should_crop = False\n",
    "            mean_diff_mag = mean_diff_mag[5:]\n",
    "            mean_diff_mag_r = mean_diff_mag_r[5:]\n",
    "            mean_diff_mag_y = mean_diff_mag_y[5:]\n",
    "            mean_diff_mag_i = mean_diff_mag_i[5:]\n",
    "            mean_diff_mag_f = mean_diff_mag_f[5:]\n",
    "            mean_diff_mag_c = mean_diff_mag_c[5:]\n",
    "            mean_diff_mag_o = mean_diff_mag_o[5:]\n",
    "            x_vals_diff = range(6, len(mean_diff_mag) + 6)\n",
    "            ax_weight_change.cla()\n",
    "            ax_weight_change_ind.cla()\n",
    "            ax_weight_change.set_xlabel('Batch number')\n",
    "            ax_weight_change.set_ylabel('Mean weight change')\n",
    "            ax_weight_change_ind.set_xlabel('Batch number')\n",
    "            ax_weight_change_ind.set_ylabel('Mean weight change')\n",
    "        if not should_crop:\n",
    "            x_vals_diff = range(6, len(mean_diff_mag) + 6)\n",
    "        ax_cost.plot(x_vals, cost, 'b')\n",
    "        ax_weight_change.plot(x_vals_diff, mean_diff_mag, 'r')\n",
    "        ax_weight_change_ind.plot(x_vals_diff, mean_diff_mag_i, 'b')\n",
    "        ax_weight_change_ind.plot(x_vals_diff, mean_diff_mag_f, 'r')\n",
    "        ax_weight_change_ind.plot(x_vals_diff, mean_diff_mag_c, 'g')\n",
    "        ax_weight_change_ind.plot(x_vals_diff, mean_diff_mag_o, 'k')\n",
    "        ax_weight_change_ind.plot(x_vals_diff, mean_diff_mag_y, 'm')\n",
    "        ax_weight_change_ind.plot(x_vals_diff, mean_diff_mag_r, 'c')\n",
    "        \n",
    "        \n",
    "        ind = np.array([0, 1])\n",
    "        ind += offset\n",
    "        for ax,gtp,T in zip(ax_list, network.hidden_activations(vectors[:, :, ind]), labels):\n",
    "            ax.imshow(gtp[:,:,1]-gtp[:,:,0])\n",
    "            ax.set_title(T)\n",
    "        \n",
    "        display.clear_output(wait=True)\n",
    "        display.display(fig)\n",
    "    \n",
    "    data_butler.advance_schedule()"
   ]
  },
  {
   "cell_type": "code",
   "execution_count": null,
   "metadata": {
    "collapsed": false
   },
   "outputs": [],
   "source": [
    "mean_diff_mag_y[:] = mean_diff_mag_c[5]"
   ]
  },
  {
   "cell_type": "code",
   "execution_count": null,
   "metadata": {
    "collapsed": false
   },
   "outputs": [],
   "source": [
    "network.initialize_network_weights()\n",
    "network.do_max_norm_reg()\n",
    "p = network.list_all_params()\n",
    "w_i = p[0].get_value()\n",
    "norms = []\n",
    "for row in range(w_i.shape[0]):\n",
    "    norms.append(np.linalg.norm(w_i[row, :]))\n",
    "plt.plot(norms)"
   ]
  },
  {
   "cell_type": "code",
   "execution_count": null,
   "metadata": {
    "collapsed": false
   },
   "outputs": [],
   "source": [
    "# network.initialize_network_weights()\n",
    "\n",
    "# p = network.list_all_params()\n",
    "# for P in p:\n",
    "#     P.set_value(P.get_value()*0.6)\n",
    "#     P.set_value(np.random.uniform(\n",
    "#             low=-1./np.sqrt(128),\n",
    "#             high=1./np.sqrt(128),\n",
    "#             size=P.get_value().shape\n",
    "#         ).astype(config.floatX))\n",
    "# network.do_max_norm_reg()\n",
    "\n",
    "labels = ['Input gate','Forget gate','memory Cell','Output gate','Hidden activation']\n",
    "fig = plt.figure(figsize=(15,10))\n",
    "\n",
    "ax_list = []\n",
    "for sp in range(len(labels)):\n",
    "    ax_list.append(fig.add_subplot(1,len(labels),sp+1))\n",
    "\n",
    "hidden_players = network.hidden_activations(vectors[:,:,:2])\n",
    "for ax,gtp,T in zip(ax_list, hidden_players, labels):\n",
    "    ax.imshow(gtp[:lengths[1],:,1]-gtp[:lengths[0],:,0])\n",
    "    #ax.imshow(gtp[:,:,0])\n",
    "    ax.set_title(T)\n",
    "    \n",
    "plt.figure()\n",
    "plt.axes().plot( np.mean(np.abs(hidden_players[4][:lengths[1],:256,1]-hidden_players[4][:lengths[0],:256,0]),axis=1) );"
   ]
  },
  {
   "cell_type": "code",
   "execution_count": null,
   "metadata": {
    "collapsed": false
   },
   "outputs": [],
   "source": [
    "plt.hist(hidden_players[2][-10:, :].flatten(), bins=50);"
   ]
  }
 ],
 "metadata": {
  "kernelspec": {
   "display_name": "Python 2",
   "language": "python",
   "name": "python2"
  },
  "language_info": {
   "codemirror_mode": {
    "name": "ipython",
    "version": 2
   },
   "file_extension": ".py",
   "mimetype": "text/x-python",
   "name": "python",
   "nbconvert_exporter": "python",
   "pygments_lexer": "ipython2",
   "version": "2.7.6"
  }
 },
 "nbformat": 4,
 "nbformat_minor": 0
}
