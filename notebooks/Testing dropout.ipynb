{
 "cells": [
  {
   "cell_type": "code",
   "execution_count": 2,
   "metadata": {
    "collapsed": false
   },
   "outputs": [],
   "source": [
    "import sys\n",
    "sys.path.append('..')\n",
    "from theano import function, config, shared, sandbox\n",
    "import theano.tensor as T\n",
    "import time\n",
    "import theano_lstm\n",
    "import numpy as np"
   ]
  },
  {
   "cell_type": "code",
   "execution_count": 26,
   "metadata": {
    "collapsed": false,
    "scrolled": false
   },
   "outputs": [],
   "source": [
    "reload(theano_lstm)\n",
    "config.mode=\"FAST_COMPILE\"\n",
    "network_opt = theano_lstm.lstm_rnn(300,\n",
    "                  [(51, 63)],\n",
    "                  16, log_dir='test_log', dropout=0.2)\n",
    "# network_opt.initialize_training_adadelta()"
   ]
  },
  {
   "cell_type": "code",
   "execution_count": 35,
   "metadata": {
    "collapsed": false
   },
   "outputs": [
    {
     "name": "stdout",
     "output_type": "stream",
     "text": [
      "Old: 0.579810872449 | New: 0.3\n"
     ]
    }
   ],
   "source": [
    "unit = 10\n",
    "network_opt.initialize_network_weights()\n",
    "old_norm = np.linalg.norm(network_opt.LSTM_stack.list_params()[0].get_value()[unit,:])\n",
    "network_opt.do_max_norm_reg(max_norm=0.3)\n",
    "new_norm = np.linalg.norm(network_opt.LSTM_stack.list_params()[0].get_value()[unit,:])\n",
    "print \"Old: {} | New: {}\".format(old_norm, new_norm)"
   ]
  },
  {
   "cell_type": "code",
   "execution_count": null,
   "metadata": {
    "collapsed": true
   },
   "outputs": [],
   "source": []
  },
  {
   "cell_type": "code",
   "execution_count": 3,
   "metadata": {
    "collapsed": false
   },
   "outputs": [],
   "source": [
    "num_examples = 9\n",
    "input_seq = np.random.normal(size=(2200, 300, num_examples)).astype('float32')\n",
    "seq_lengths = [np.random.randint(low=500,high=2200) for x in range(num_examples)]\n",
    "answers = np.zeros(shape=(16, num_examples)).astype('float32')\n",
    "answers[5, :] = 1"
   ]
  },
  {
   "cell_type": "code",
   "execution_count": 5,
   "metadata": {
    "collapsed": false,
    "scrolled": false
   },
   "outputs": [
    {
     "name": "stdout",
     "output_type": "stream",
     "text": [
      "CPU times: user 7.34 s, sys: 100 ms, total: 7.44 s\n",
      "Wall time: 7.44 s\n"
     ]
    },
    {
     "data": {
      "text/plain": [
       "array(29.527252197265625, dtype=float32)"
      ]
     },
     "execution_count": 5,
     "metadata": {},
     "output_type": "execute_result"
    }
   ],
   "source": [
    "%%time\n",
    "network_opt.adadelta_step_train(input_seq, seq_lengths, answers)"
   ]
  },
  {
   "cell_type": "code",
   "execution_count": 5,
   "metadata": {
    "collapsed": false
   },
   "outputs": [
    {
     "data": {
      "text/plain": [
       "(1, 51)"
      ]
     },
     "execution_count": 5,
     "metadata": {},
     "output_type": "execute_result"
    }
   ],
   "source": [
    "network_opt.LSTM_stack.list_masks()[-2].get_value().shape"
   ]
  },
  {
   "cell_type": "code",
   "execution_count": 6,
   "metadata": {
    "collapsed": false
   },
   "outputs": [
    {
     "name": "stdout",
     "output_type": "stream",
     "text": [
      "(51, 1) || (51, 465)\n",
      "(51, 1) || (51, 1)\n",
      "(51, 1) || (51, 402)\n",
      "(51, 1) || (51, 1)\n",
      "(51, 1) || (51, 414)\n",
      "(51, 1) || (51, 1)\n",
      "(51, 1) || (51, 465)\n",
      "(51, 1) || (51, 1)\n",
      "(1, 51) || (63, 51)\n",
      "(63, 1) || (63, 1)\n"
     ]
    }
   ],
   "source": [
    "for i in range(len(network_opt.LSTM_stack.list_params())):\n",
    "    mask_shape = network_opt.LSTM_stack.list_masks()[i].get_value().shape\n",
    "    param_shape = network_opt.LSTM_stack.list_params()[i].get_value().shape\n",
    "    print \"{} || {}\".format(mask_shape, param_shape)"
   ]
  },
  {
   "cell_type": "code",
   "execution_count": 8,
   "metadata": {
    "collapsed": false
   },
   "outputs": [
    {
     "data": {
      "text/plain": [
       "(63, 51)"
      ]
     },
     "execution_count": 8,
     "metadata": {},
     "output_type": "execute_result"
    }
   ],
   "source": [
    "network_opt.LSTM_stack.list_params()[-2].get_value().shape"
   ]
  }
 ],
 "metadata": {
  "kernelspec": {
   "display_name": "Python 2",
   "language": "python",
   "name": "python2"
  },
  "language_info": {
   "codemirror_mode": {
    "name": "ipython",
    "version": 2
   },
   "file_extension": ".py",
   "mimetype": "text/x-python",
   "name": "python",
   "nbconvert_exporter": "python",
   "pygments_lexer": "ipython2",
   "version": "2.7.10"
  }
 },
 "nbformat": 4,
 "nbformat_minor": 0
}
