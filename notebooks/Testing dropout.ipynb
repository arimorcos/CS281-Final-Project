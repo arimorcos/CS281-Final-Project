{
 "cells": [
  {
   "cell_type": "code",
   "execution_count": 1,
   "metadata": {
    "collapsed": false
   },
   "outputs": [
    {
     "name": "stderr",
     "output_type": "stream",
     "text": [
      "Using gpu device 0: GeForce GTX TITAN X\n"
     ]
    }
   ],
   "source": [
    "import sys\n",
    "sys.path.append('..')\n",
    "from theano import function, config, shared, sandbox\n",
    "import theano.tensor as T\n",
    "import numpy\n",
    "import time\n",
    "import theano_lstm\n",
    "import numpy as np"
   ]
  },
  {
   "cell_type": "code",
   "execution_count": 3,
   "metadata": {
    "collapsed": false,
    "scrolled": false
   },
   "outputs": [
    {
     "data": {
      "text/plain": [
       "False"
      ]
     },
     "execution_count": 3,
     "metadata": {},
     "output_type": "execute_result"
    }
   ],
   "source": [
    "reload(theano_lstm)\n",
    "config.mode=\"FAST_RUN\"\n",
    "hidden_size = 40\n",
    "network_opt = theano_lstm.lstm_rnn(300,\n",
    "                  [(hidden_size, hidden_size)],\n",
    "                  10, log_dir='test_log', dropout=0.2)\n",
    "# network_opt.initialize_training_adadelta()\n",
    "\n",
    "num_examples = 9\n",
    "input_seq = np.random.normal(size=(2200, 300, num_examples)).astype('float32')\n",
    "seq_lengths = [np.random.randint(low=500,high=2200) for x in range(num_examples)]\n",
    "\n",
    "network_opt.generate_masks()\n",
    "\n",
    "np.all(network_opt.process(input_seq, seq_lengths) == network_opt.process_unmodified_weights(input_seq, seq_lengths))"
   ]
  },
  {
   "cell_type": "code",
   "execution_count": null,
   "metadata": {
    "collapsed": false
   },
   "outputs": [],
   "source": [
    "network_opt.LSTM_stack.list_params()[3].get_value()"
   ]
  },
  {
   "cell_type": "code",
   "execution_count": null,
   "metadata": {
    "collapsed": true
   },
   "outputs": [],
   "source": [
    "num_examples = 9\n",
    "input_seq = np.random.normal(size=(2200, 300, num_examples)).astype('float32')\n",
    "seq_lengths = [np.random.randint(low=500,high=2200) for x in range(num_examples)]\n",
    "answers = np.zeros(shape=(50, num_examples)).astype('float32')\n",
    "answers[10, :] = 1"
   ]
  },
  {
   "cell_type": "code",
   "execution_count": null,
   "metadata": {
    "collapsed": false,
    "scrolled": false
   },
   "outputs": [],
   "source": [
    "network_opt.process(input_seq, seq_lengths)"
   ]
  },
  {
   "cell_type": "code",
   "execution_count": null,
   "metadata": {
    "collapsed": true
   },
   "outputs": [],
   "source": []
  }
 ],
 "metadata": {
  "kernelspec": {
   "display_name": "Python 2",
   "language": "python",
   "name": "python2"
  },
  "language_info": {
   "codemirror_mode": {
    "name": "ipython",
    "version": 2
   },
   "file_extension": ".py",
   "mimetype": "text/x-python",
   "name": "python",
   "nbconvert_exporter": "python",
   "pygments_lexer": "ipython2",
   "version": "2.7.6"
  }
 },
 "nbformat": 4,
 "nbformat_minor": 0
}
