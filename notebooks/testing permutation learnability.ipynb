{
 "cells": [
  {
   "cell_type": "code",
   "execution_count": 1,
   "metadata": {
    "collapsed": true
   },
   "outputs": [],
   "source": [
    "import sys\n",
    "sys.path.append('..')\n",
    "import theano.tensor as T\n",
    "import theano\n",
    "import numpy\n",
    "import theano_lstm\n",
    "import numpy as np\n",
    "import data_managers\n",
    "import os\n",
    "\n",
    "# Plotting\n",
    "import matplotlib.pyplot as plt\n",
    "from IPython import display\n",
    "%matplotlib inline"
   ]
  },
  {
   "cell_type": "code",
   "execution_count": 2,
   "metadata": {
    "collapsed": false
   },
   "outputs": [
    {
     "name": "stderr",
     "output_type": "stream",
     "text": [
      "//anaconda/lib/python2.7/site-packages/theano/scan_module/scan_perform_ext.py:133: RuntimeWarning: numpy.ndarray size changed, may indicate binary incompatibility\n",
      "  from scan_perform.scan_perform import *\n"
     ]
    }
   ],
   "source": [
    "net = theano_lstm.lstm_rnn( 300, [(128,128)], 150, save_weights_every=50000)"
   ]
  },
  {
   "cell_type": "code",
   "execution_count": 3,
   "metadata": {
    "collapsed": false
   },
   "outputs": [
    {
     "name": "stdout",
     "output_type": "stream",
     "text": [
      "CPU times: user 2min 33s, sys: 2.31 s, total: 2min 35s\n",
      "Wall time: 2min 38s\n"
     ]
    }
   ],
   "source": [
    "%%time\n",
    "net.initialize_training_adam()"
   ]
  },
  {
   "cell_type": "code",
   "execution_count": 21,
   "metadata": {
    "collapsed": false
   },
   "outputs": [
    {
     "name": "stdout",
     "output_type": "stream",
     "text": [
      "Now offering: Training data!\n"
     ]
    }
   ],
   "source": [
    "reload(data_managers)\n",
    "data_butler = data_managers.character_data_manager('/Users/alex/Desktop/data manager/',\n",
    "                                                   batch_size=1,perms_per=5,minmax_doc_length=[0,300])\n",
    "data_butler.convert_ent_to_one_hot()"
   ]
  },
  {
   "cell_type": "code",
   "execution_count": 22,
   "metadata": {
    "collapsed": true
   },
   "outputs": [],
   "source": [
    "def smooth_rep(data,sigma):\n",
    "    w = np.ceil(2*sigma)\n",
    "    f = np.exp( -.5*(np.arange(-w,w)**2)/(sigma**2) )\n",
    "    f = f / np.sum(f)\n",
    "\n",
    "    y = np.convolve(data,f,'valid')\n",
    "    x = np.arange(w,len(data)-w+1)\n",
    "    return x, y"
   ]
  },
  {
   "cell_type": "code",
   "execution_count": 31,
   "metadata": {
    "collapsed": false
   },
   "outputs": [
    {
     "name": "stdout",
     "output_type": "stream",
     "text": [
      "Batch Size = 1;  Stride = 1\n",
      "5 examples per offer: Batch Size = 1  *  Permutations per = 5\n"
     ]
    }
   ],
   "source": [
    "# Re-initialize the network\n",
    "net.initialize_network_weights(scale_down=0.6, b_f_offset=0.75)\n",
    "\n",
    "# Initialize cost \n",
    "cost = []\n",
    "\n",
    "data_butler.set_batch_size(1)\n",
    "data_butler.set_perms_per(5)"
   ]
  },
  {
   "cell_type": "code",
   "execution_count": null,
   "metadata": {
    "collapsed": false
   },
   "outputs": [],
   "source": [
    "n_batches = 200\n",
    "\n",
    "start_plot_at = 0\n",
    "smooth_sigma = 25\n",
    "\n",
    "#Create plot \n",
    "fig = plt.figure(figsize=(18,30))\n",
    "axB = fig.add_subplot(321)\n",
    "axS = fig.add_subplot(322)\n",
    "fig.subplots_adjust(wspace=.2)\n",
    "\n",
    "labels = ['Input gate','Forget gate','memory Cell','Output gate','Hidden activation']\n",
    "ax_list = []\n",
    "for sp in range(len(labels)):\n",
    "    ax_list.append(fig.add_subplot(3,len(labels),(1*len(labels))+sp+1))\n",
    "\n",
    "axD = fig.add_subplot(3,1,3)\n",
    "\n",
    "for batch in range(n_batches):\n",
    "    \n",
    "    # Get the permuted data\n",
    "    vectors, lengths, answer = data_butler.offer_data()\n",
    "    \n",
    "    # Step \n",
    "    temp_cost,_ = net.adam_step(vectors, lengths, answer)\n",
    "    cost.append(temp_cost)\n",
    "    \n",
    "    # Update plot\n",
    "    if len(cost) > start_plot_at:\n",
    "        C = np.array(cost[start_plot_at:])\n",
    "    else:\n",
    "        C = cost\n",
    "    x, y = smooth_rep( C, smooth_sigma )\n",
    "    axB.cla();\n",
    "    axS.cla();\n",
    "    if len(x) == len(y):\n",
    "        axB.plot( np.arange(start_plot_at,len(cost)), C, 'bo', x+start_plot_at, y, 'r')\n",
    "        axS.plot( x+start_plot_at, y, 'r')\n",
    "    else:\n",
    "        axB.plot( np.arange(start_plot_at,len(cost)), C, 'bo' )\n",
    "\n",
    "    hidden_players = net.hidden_activations(vectors[:,:,:2])\n",
    "    for ax,gtp,title in zip(ax_list, hidden_players, labels):\n",
    "        ax.imshow(gtp[:lengths[1],:,1]-gtp[:lengths[0],:,0])\n",
    "        ax.set_title(title)\n",
    "        ax.set_yticks([])\n",
    "        ax.set_xticks([])\n",
    "\n",
    "    axD.cla();\n",
    "    axD.plot( np.mean(np.abs(hidden_players[4][:lengths[1],:,1]-hidden_players[4][:lengths[0],:,0]),axis=1) );\n",
    "    axD.set_xlim([0,lengths[0]]);\n",
    "    \n",
    "    display.clear_output(wait=True)\n",
    "    display.display(fig)"
   ]
  },
  {
   "cell_type": "code",
   "execution_count": 35,
   "metadata": {
    "collapsed": false
   },
   "outputs": [
    {
     "name": "stdout",
     "output_type": "stream",
     "text": [
      "Help on method set_yticks in module matplotlib.axes._base:\n",
      "\n",
      "set_yticks(self, ticks, minor=False) method of matplotlib.axes._subplots.AxesSubplot instance\n",
      "    Set the y ticks with list of *ticks*\n",
      "    \n",
      "    ACCEPTS: sequence of floats\n",
      "    \n",
      "    Keyword arguments:\n",
      "    \n",
      "      *minor*: [ *False* | *True* ]\n",
      "        Sets the minor ticks if *True*\n",
      "\n"
     ]
    }
   ],
   "source": [
    "help(axD.set_yticks)"
   ]
  }
 ],
 "metadata": {
  "kernelspec": {
   "display_name": "Python 2",
   "language": "python",
   "name": "python2"
  },
  "language_info": {
   "codemirror_mode": {
    "name": "ipython",
    "version": 2
   },
   "file_extension": ".py",
   "mimetype": "text/x-python",
   "name": "python",
   "nbconvert_exporter": "python",
   "pygments_lexer": "ipython2",
   "version": "2.7.9"
  }
 },
 "nbformat": 4,
 "nbformat_minor": 0
}
