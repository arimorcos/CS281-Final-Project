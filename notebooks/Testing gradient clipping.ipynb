{
 "cells": [
  {
   "cell_type": "code",
   "execution_count": 189,
   "metadata": {
    "collapsed": true
   },
   "outputs": [],
   "source": [
    "import sys\n",
    "sys.path.append('..')\n",
    "import theano.tensor as T\n",
    "import theano\n",
    "import numpy\n",
    "import network_optimizers\n",
    "import lstm_network_components\n",
    "\n",
    "import matplotlib\n",
    "import matplotlib.pyplot as plt\n",
    "%matplotlib inline"
   ]
  },
  {
   "cell_type": "code",
   "execution_count": 130,
   "metadata": {
    "collapsed": false
   },
   "outputs": [],
   "source": [
    "# Use scan to do a simple multiplication series\n",
    "\n",
    "clipper = .1\n",
    "\n",
    "w = theano.shared(2.)\n",
    "\n",
    "def set_clipper(val):\n",
    "    new_val = np.maximum(0.,np.abs(val)).astype(theano.config.floatX)\n",
    "    clipper.set_value(new_val)\n",
    "\n",
    "def step( next_x, prev ):\n",
    "#     return prev * next_x * w\n",
    "    w_clip = theano.gradient.grad_clip(w,-clipper,clipper)\n",
    "    return prev * next_x * w_clip\n",
    "\n",
    "x = T.dvector()\n",
    "\n",
    "res,_ = theano.scan( fn=step, sequences=x, outputs_info=[np.ones(1)] )\n",
    "\n",
    "f = theano.function([x],res)\n",
    "\n",
    "g = T.grad(res[-1].sum(),w)\n",
    "\n",
    "g_fun = theano.function([x],g)"
   ]
  },
  {
   "cell_type": "code",
   "execution_count": 131,
   "metadata": {
    "collapsed": false
   },
   "outputs": [
    {
     "name": "stdout",
     "output_type": "stream",
     "text": [
      "[   20.   400.  8000.]\n",
      "0.3\n"
     ]
    }
   ],
   "source": [
    "X = np.array([10,10,10])\n",
    "\n",
    "print f(X).flatten()\n",
    "print g_fun(X)"
   ]
  },
  {
   "cell_type": "code",
   "execution_count": 176,
   "metadata": {
    "collapsed": false
   },
   "outputs": [],
   "source": [
    "def fake_data(n_ex, low_len, high_len, true_iw, true_hw, true_ow):\n",
    "    \n",
    "    def fake_data_ex(n_steps,true_iw,true_hw,true_ow):\n",
    "        n_hidden = true_iw.shape[0]\n",
    "        inp_size = true_iw.shape[1]\n",
    "        # the input is just random\n",
    "        fake_inp = np.random.normal( size=(inp_size,n_steps) )\n",
    "        # Generate the hidden activation\n",
    "        h = np.zeros((n_steps+1,n_hidden))\n",
    "        for i in range(1,n_steps+1):\n",
    "            h[i,:] = np.tanh(np.dot(true_iw,fake_inp[:,i-1]) + np.dot(true_hw,h[i-1,:].T))\n",
    "        # Return the input and output\n",
    "        return fake_inp.T, h[-2:-1,:].T\n",
    "    \n",
    "    n_hidden = true_iw.shape[0]\n",
    "    inp_size = true_iw.shape[1]\n",
    "    \n",
    "    seqs = []\n",
    "    fake_seq_len = []\n",
    "    outs = []\n",
    "    \n",
    "    for i in range(n_ex):\n",
    "        INP, OUT = fake_data_ex(high_len, true_iw, true_hw, true_ow)\n",
    "        seqs += [INP]\n",
    "        fake_seq_len += [np.random.randint(low=low_len, high=high_len)]\n",
    "        outs += [OUT]\n",
    "        \n",
    "    return np.dstack(seqs), fake_seq_len, np.hstack(outs)\n",
    "    \n",
    "\n",
    "# Pretty self explanatory\n",
    "def init_iw(n_hidden,feats): return (np.random.normal(size=(n_hidden,feats))/10   ).astype(theano.config.floatX)\n",
    "def init_hw(n_hidden,feats): return (np.random.normal(size=(n_hidden,n_hidden))/10).astype(theano.config.floatX)\n",
    "def init_ow(n_hidden,feats): return (np.random.normal(size=(1,n_hidden))/10       ).astype(theano.config.floatX)\n",
    "\n",
    "\n",
    "\n",
    "n_hidden = 12\n",
    "feats = 5\n",
    "\n",
    "# Set aside some default weights for easy comparison of training methods\n",
    "# \"True\" weights for fake data\n",
    "dflt_iwT = init_iw(n_hidden,feats)\n",
    "dflt_hwT = init_hw(n_hidden,feats)\n",
    "dflt_owT = init_ow(n_hidden,feats)"
   ]
  },
  {
   "cell_type": "code",
   "execution_count": 177,
   "metadata": {
    "collapsed": false
   },
   "outputs": [
    {
     "data": {
      "text/plain": [
       "(12, 3)"
      ]
     },
     "execution_count": 177,
     "metadata": {},
     "output_type": "execute_result"
    }
   ],
   "source": [
    "fake_data(3,30,50,dflt_iwT,dflt_hwT,dflt_owT)"
   ]
  },
  {
   "cell_type": "code",
   "execution_count": 139,
   "metadata": {
    "collapsed": false
   },
   "outputs": [],
   "source": [
    "stck = lstm_network_components.LSTM_stack( 5, [(11,12)] )\n",
    "stck.initialize_stack_weights()"
   ]
  },
  {
   "cell_type": "code",
   "execution_count": 191,
   "metadata": {
    "collapsed": true
   },
   "outputs": [],
   "source": [
    "V,L,A = fake_data(10,100,200,dflt_iwT,dflt_hwT,dflt_owT)"
   ]
  },
  {
   "cell_type": "code",
   "execution_count": 200,
   "metadata": {
    "collapsed": true
   },
   "outputs": [],
   "source": [
    "stck.layers[0].g_clip = 5\n",
    "\n",
    "# Input is a 3D stack of sequence represented by a matrix, treated as size = (max_seq_len, n_dim, n_examples)\n",
    "input_sequence = T.tensor3(name='inp', dtype=theano.config.floatX)\n",
    "\n",
    "# To fit in a matrix, sequences are zero-padded. So, we need the sequence lengths for each example.\n",
    "seq_lengths = T.ivector('seq_lengths')\n",
    "\n",
    "# Target is a onehot encoding of the correct answers for each example, treated as size = (n_options, n_examples)\n",
    "targets = T.matrix('targets', dtype=theano.config.floatX)\n",
    "\n",
    "# Through the LSTM stack, then soft max\n",
    "y, i, f, c, o, h = stck.process(input_sequence, seq_lengths)\n",
    "\n",
    "cost_sym = T.mean( (targets-y)**2 )"
   ]
  },
  {
   "cell_type": "code",
   "execution_count": 201,
   "metadata": {
    "collapsed": false
   },
   "outputs": [],
   "source": [
    "g_fun = theano.function([input_sequence, seq_lengths, targets], T.grad(cost_sym, stck.list_params()))"
   ]
  },
  {
   "cell_type": "code",
   "execution_count": 202,
   "metadata": {
    "collapsed": true
   },
   "outputs": [],
   "source": [
    "gs = g_fun( V, L, A )"
   ]
  },
  {
   "cell_type": "code",
   "execution_count": 199,
   "metadata": {
    "collapsed": false
   },
   "outputs": [
    {
     "data": {
      "image/png": "[encoded data removed]",
      "text/plain": [
       "<matplotlib.figure.Figure at 0x11ca20e50>"
      ]
     },
     "metadata": {},
     "output_type": "display_data"
    }
   ],
   "source": [
    "# With clipping at effectively infinite (no clipping)\n",
    "\n",
    "fig = plt.figure(figsize=(15,5));\n",
    "\n",
    "ax = fig.add_subplot(1,5,1);\n",
    "ax.hist(gs[0].flatten(),bins=100);\n",
    "\n",
    "ax = fig.add_subplot(1,5,2);\n",
    "ax.hist(gs[2].flatten(),bins=100);\n",
    "\n",
    "ax = fig.add_subplot(1,5,3);\n",
    "ax.hist(gs[4].flatten(),bins=100);\n",
    "\n",
    "ax = fig.add_subplot(1,5,4);\n",
    "ax.hist(gs[6].flatten(),bins=100);\n",
    "\n",
    "ax = fig.add_subplot(1,5,5);\n",
    "ax.hist(gs[8].flatten(),bins=100);"
   ]
  },
  {
   "cell_type": "code",
   "execution_count": 203,
   "metadata": {
    "collapsed": false
   },
   "outputs": [
    {
     "data": {
      "image/png": "[encoded data removed]",
      "text/plain": [
       "<matplotlib.figure.Figure at 0x11828b490>"
      ]
     },
     "metadata": {},
     "output_type": "display_data"
    }
   ],
   "source": [
    "# WIth clipping at 5\n",
    "\n",
    "fig = plt.figure(figsize=(15,5));\n",
    "\n",
    "ax = fig.add_subplot(1,5,1);\n",
    "ax.hist(gs[0].flatten(),bins=100);\n",
    "\n",
    "ax = fig.add_subplot(1,5,2);\n",
    "ax.hist(gs[2].flatten(),bins=100);\n",
    "\n",
    "ax = fig.add_subplot(1,5,3);\n",
    "ax.hist(gs[4].flatten(),bins=100);\n",
    "\n",
    "ax = fig.add_subplot(1,5,4);\n",
    "ax.hist(gs[6].flatten(),bins=100);\n",
    "\n",
    "ax = fig.add_subplot(1,5,5);\n",
    "ax.hist(gs[8].flatten(),bins=100);"
   ]
  }
 ],
 "metadata": {
  "kernelspec": {
   "display_name": "Python 2",
   "language": "python",
   "name": "python2"
  },
  "language_info": {
   "codemirror_mode": {
    "name": "ipython",
    "version": 2
   },
   "file_extension": ".py",
   "mimetype": "text/x-python",
   "name": "python",
   "nbconvert_exporter": "python",
   "pygments_lexer": "ipython2",
   "version": "2.7.9"
  }
 },
 "nbformat": 4,
 "nbformat_minor": 0
}
