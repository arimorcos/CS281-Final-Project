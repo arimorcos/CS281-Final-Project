{
 "cells": [
  {
   "cell_type": "code",
   "execution_count": 1,
   "metadata": {
    "collapsed": true
   },
   "outputs": [],
   "source": [
    "import numpy as np"
   ]
  },
  {
   "cell_type": "code",
   "execution_count": 2,
   "metadata": {
    "collapsed": false
   },
   "outputs": [
    {
     "data": {
      "text/plain": [
       "array([], dtype=float64)"
      ]
     },
     "execution_count": 2,
     "metadata": {},
     "output_type": "execute_result"
    }
   ],
   "source": [
    "np.array([])"
   ]
  },
  {
   "cell_type": "code",
   "execution_count": 6,
   "metadata": {
    "collapsed": false
   },
   "outputs": [],
   "source": [
    "x = np.random.normal(size=(20, 10))"
   ]
  },
  {
   "cell_type": "code",
   "execution_count": 7,
   "metadata": {
    "collapsed": true
   },
   "outputs": [],
   "source": [
    "y = np.random.normal(size=(20, 40))"
   ]
  },
  {
   "cell_type": "code",
   "execution_count": 9,
   "metadata": {
    "collapsed": false
   },
   "outputs": [
    {
     "data": {
      "text/plain": [
       "(20, 50)"
      ]
     },
     "execution_count": 9,
     "metadata": {},
     "output_type": "execute_result"
    }
   ],
   "source": [
    "np.hstack([x, y]).shape"
   ]
  },
  {
   "cell_type": "code",
   "execution_count": 17,
   "metadata": {
    "collapsed": true
   },
   "outputs": [],
   "source": [
    "x = np.zeros(shape=(50,100))"
   ]
  },
  {
   "cell_type": "code",
   "execution_count": 11,
   "metadata": {
    "collapsed": true
   },
   "outputs": [],
   "source": [
    "ind = np.random.randint(low=0, high=49, size=(100,))"
   ]
  },
  {
   "cell_type": "code",
   "execution_count": 15,
   "metadata": {
    "collapsed": false
   },
   "outputs": [
    {
     "data": {
      "text/plain": [
       "48"
      ]
     },
     "execution_count": 15,
     "metadata": {},
     "output_type": "execute_result"
    }
   ],
   "source": [
    "ind.max()"
   ]
  },
  {
   "cell_type": "code",
   "execution_count": 18,
   "metadata": {
    "collapsed": false
   },
   "outputs": [],
   "source": [
    "for col, i in enumerate(ind): \n",
    "    x[i, col] = 1"
   ]
  },
  {
   "cell_type": "code",
   "execution_count": 23,
   "metadata": {
    "collapsed": false
   },
   "outputs": [
    {
     "data": {
      "text/plain": [
       "array([40, 45, 19,  6, 20, 27, 21, 21, 45, 11, 20,  3,  5, 21, 34, 25, 46,\n",
       "        0, 40, 13, 15, 32, 13, 45, 31, 48,  3,  4, 43, 13,  0, 20,  2, 21,\n",
       "       34, 46, 15, 20, 32, 23, 40, 41, 43, 43,  0, 18, 27, 35, 48,  8, 31,\n",
       "       27, 46, 45, 31, 27, 24,  3, 34, 37, 17, 43, 26, 11,  7, 24, 11, 43,\n",
       "       38, 16, 44, 31, 40, 11, 34, 42,  3, 46, 12, 18, 24,  4, 21, 44,  6,\n",
       "       10, 47, 42,  7,  8, 22, 43, 29, 10,  5, 18, 10, 38, 10, 15])"
      ]
     },
     "execution_count": 23,
     "metadata": {},
     "output_type": "execute_result"
    }
   ],
   "source": [
    "ind"
   ]
  },
  {
   "cell_type": "code",
   "execution_count": 22,
   "metadata": {
    "collapsed": false,
    "scrolled": true
   },
   "outputs": [
    {
     "data": {
      "text/plain": [
       "array([40, 45, 19,  6, 20, 27, 21, 21, 45, 11, 20,  3,  5, 21, 34, 25, 46,\n",
       "        0, 40, 13, 15, 32, 13, 45, 31, 48,  3,  4, 43, 13,  0, 20,  2, 21,\n",
       "       34, 46, 15, 20, 32, 23, 40, 41, 43, 43,  0, 18, 27, 35, 48,  8, 31,\n",
       "       27, 46, 45, 31, 27, 24,  3, 34, 37, 17, 43, 26, 11,  7, 24, 11, 43,\n",
       "       38, 16, 44, 31, 40, 11, 34, 42,  3, 46, 12, 18, 24,  4, 21, 44,  6,\n",
       "       10, 47, 42,  7,  8, 22, 43, 29, 10,  5, 18, 10, 38, 10, 15])"
      ]
     },
     "execution_count": 22,
     "metadata": {},
     "output_type": "execute_result"
    }
   ],
   "source": [
    "x.argmax(axis=0)"
   ]
  },
  {
   "cell_type": "code",
   "execution_count": null,
   "metadata": {
    "collapsed": true
   },
   "outputs": [],
   "source": []
  }
 ],
 "metadata": {
  "kernelspec": {
   "display_name": "Python 2",
   "language": "python",
   "name": "python2"
  },
  "language_info": {
   "codemirror_mode": {
    "name": "ipython",
    "version": 2
   },
   "file_extension": ".py",
   "mimetype": "text/x-python",
   "name": "python",
   "nbconvert_exporter": "python",
   "pygments_lexer": "ipython2",
   "version": "2.7.10"
  }
 },
 "nbformat": 4,
 "nbformat_minor": 0
}
