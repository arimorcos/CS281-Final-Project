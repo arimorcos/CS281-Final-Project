{
 "cells": [
  {
   "cell_type": "code",
   "execution_count": 1,
   "metadata": {
    "collapsed": true
   },
   "outputs": [],
   "source": [
    "import numpy as np\n",
    "import data_managers"
   ]
  },
  {
   "cell_type": "code",
   "execution_count": 3,
   "metadata": {
    "collapsed": false
   },
   "outputs": [],
   "source": [
    "data_butler = data_managers.character_data_manager('/Users/alex/Desktop/data manager/')"
   ]
  },
  {
   "cell_type": "code",
   "execution_count": 8,
   "metadata": {
    "collapsed": false
   },
   "outputs": [],
   "source": [
    "old_vecs = data_butler.ent_vecs\n",
    "\n",
    "data_butler.ent_vecs[:,0] = np.arange(0,151)"
   ]
  },
  {
   "cell_type": "code",
   "execution_count": 111,
   "metadata": {
    "collapsed": false
   },
   "outputs": [],
   "source": [
    "data_butler.set_batch_size(3)"
   ]
  },
  {
   "cell_type": "code",
   "execution_count": 112,
   "metadata": {
    "collapsed": true
   },
   "outputs": [],
   "source": [
    "data_butler.advance_schedule()"
   ]
  },
  {
   "cell_type": "code",
   "execution_count": 113,
   "metadata": {
    "collapsed": true
   },
   "outputs": [],
   "source": [
    "q = data_butler.get_current_queries()\n",
    "d = data_butler.get_current_doc()"
   ]
  },
  {
   "cell_type": "code",
   "execution_count": 123,
   "metadata": {
    "collapsed": true
   },
   "outputs": [],
   "source": [
    "q_idx = 2"
   ]
  },
  {
   "cell_type": "code",
   "execution_count": 124,
   "metadata": {
    "collapsed": false
   },
   "outputs": [],
   "source": [
    "# This should return 1.0\n",
    "\n",
    "T = d[q_idx]['tags']\n",
    "\n",
    "V,L,A = data_butler.offer_data()\n",
    "v_tagged = [V[i,0:2,q_idx] for i in range(len(T)) if T[i]]\n",
    "t_tagged = [T[i] for i in range(len(T)) if T[i]]\n",
    "\n",
    "v_ans = [v_tagged[i] for i in range(len(t_tagged)) if t_tagged[i][1]==q[q_idx]['a']]\n",
    "\n",
    "print A[v_ans[0][0].astype('int')-1,q_idx]"
   ]
  }
 ],
 "metadata": {
  "kernelspec": {
   "display_name": "Python 2",
   "language": "python",
   "name": "python2"
  },
  "language_info": {
   "codemirror_mode": {
    "name": "ipython",
    "version": 2
   },
   "file_extension": ".py",
   "mimetype": "text/x-python",
   "name": "python",
   "nbconvert_exporter": "python",
   "pygments_lexer": "ipython2",
   "version": "2.7.9"
  }
 },
 "nbformat": 4,
 "nbformat_minor": 0
}
