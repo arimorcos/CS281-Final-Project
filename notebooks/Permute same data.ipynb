{
 "cells": [
  {
   "cell_type": "code",
   "execution_count": 1,
   "metadata": {
    "collapsed": false
   },
   "outputs": [
    {
     "name": "stderr",
     "output_type": "stream",
     "text": [
      "Using gpu device 0: GeForce GTX TITAN X\n"
     ]
    }
   ],
   "source": [
    "import sys\n",
    "sys.path.append('..')\n",
    "from theano import function, config, shared, sandbox\n",
    "import theano.tensor as T\n",
    "import numpy\n",
    "import datetime\n",
    "import theano_lstm\n",
    "import numpy as np\n",
    "import data_managers\n",
    "import os\n",
    "\n",
    "# Plotting\n",
    "import matplotlib.pyplot as plt\n",
    "from IPython import display\n",
    "%matplotlib inline\n"
   ]
  },
  {
   "cell_type": "code",
   "execution_count": null,
   "metadata": {
    "collapsed": true
   },
   "outputs": [],
   "source": [
    "data_butler = data_managers.character_data_manager('/home/arimorcos/Github/CS281-Final-Project/data manager/',\n",
    "                                                   batch_size=128)"
   ]
  },
  {
   "cell_type": "code",
   "execution_count": null,
   "metadata": {
    "collapsed": true
   },
   "outputs": [],
   "source": [
    "# Create network \n",
    "config.mode=\"FAST_RUN\"\n",
    "hidden_size = 128\n",
    "network = theano_lstm.lstm_rnn(300,\n",
    "                  [(hidden_size, hidden_size),\n",
    "                   (hidden_size, hidden_size)],\n",
    "                  150, dropout=0.2)\n",
    "network.initialize_training_adadelta()"
   ]
  },
  {
   "cell_type": "code",
   "execution_count": null,
   "metadata": {
    "collapsed": false
   },
   "outputs": [],
   "source": [
    "batch_size = 64\n",
    "num_batches = 500\n",
    "should_reinitialize = True\n",
    "\n",
    "# Re-initialize network \n",
    "if should_reinitialize:\n",
    "    network.initialize_network_weights()\n",
    "    root_dir = '/media/1_TB_Internal/lstm_rnn_data'\n",
    "    new_log_dir = os.path.join(root_dir, datetime.datetime.now().strftime('%y%m%d_%H%M%S'))\n",
    "    network.set_log_dir(new_log_dir)\n",
    "\n",
    "#Create plot \n",
    "fig = plt.figure()\n",
    "ax = plt.axes()\n",
    "ax.set_xlabel('Batch number')\n",
    "ax.set_ylabel('Cost')\n",
    "\n",
    "# Initialize cost \n",
    "cost = []\n",
    "mean_diff_mag = []\n",
    "\n",
    "# Offer data\n",
    "vectors, lengths, answers = data_butler.offer_data()\n",
    "\n",
    "for batch in range(num_batches):\n",
    "    \n",
    "    # Get data\n",
    "    vectors, lengths, answers = data_butler.permute_examples()\n",
    "    \n",
    "    # Step \n",
    "    temp_cost, param_diff = network.adadelta_step(vectors, lengths, answers)\n",
    "    cost.append(temp_cost.tolist())\n",
    "    \n",
    "    # Calculate mean param_diff magnitude\n",
    "    temp_mean_diff_mag = np.mean([np.abs(diff).mean() for diff in param_diff])\n",
    "    mean_diff_mag.append(temp_mean_diff_mag)\n",
    "    \n",
    "    # Update plot \n",
    "    ax.plot(range(1, batch+2), cost, 'b')\n",
    "    ax.plot(range(1, batch+2), mean_diff_mag, 'r')\n",
    "    display.clear_output(wait=True)\n",
    "    display.display(fig)"
   ]
  },
  {
   "cell_type": "code",
   "execution_count": null,
   "metadata": {
    "collapsed": true
   },
   "outputs": [],
   "source": []
  }
 ],
 "metadata": {
  "kernelspec": {
   "display_name": "Python 2",
   "language": "python",
   "name": "python2"
  },
  "language_info": {
   "codemirror_mode": {
    "name": "ipython",
    "version": 2
   },
   "file_extension": ".py",
   "mimetype": "text/x-python",
   "name": "python",
   "nbconvert_exporter": "python",
   "pygments_lexer": "ipython2",
   "version": "2.7.6"
  }
 },
 "nbformat": 4,
 "nbformat_minor": 0
}
