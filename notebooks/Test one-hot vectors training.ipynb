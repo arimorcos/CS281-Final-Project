{
 "cells": [
  {
   "cell_type": "code",
   "execution_count": null,
   "metadata": {
    "collapsed": false
   },
   "outputs": [],
   "source": [
    "import sys\n",
    "sys.path.append('..')\n",
    "from theano import function, config, shared, sandbox\n",
    "import theano.tensor as T\n",
    "import numpy\n",
    "import datetime\n",
    "import theano_lstm\n",
    "import numpy as np\n",
    "import data_managers\n",
    "import os\n",
    "\n",
    "# Plotting\n",
    "import matplotlib.pyplot as plt\n",
    "import matplotlib\n",
    "from IPython import display\n",
    "%matplotlib inline"
   ]
  },
  {
   "cell_type": "code",
   "execution_count": null,
   "metadata": {
    "collapsed": false
   },
   "outputs": [],
   "source": [
    "reload(data_managers)\n",
    "data_butler = data_managers.character_data_manager('/home/arimorcos/Github/CS281-Final-Project/data manager/')\n",
    "data_butler.convert_ent_to_one_hot()"
   ]
  },
  {
   "cell_type": "code",
   "execution_count": null,
   "metadata": {
    "collapsed": true
   },
   "outputs": [],
   "source": [
    "# Create network \n",
    "config.mode=\"FAST_RUN\"\n",
    "hidden_size = 128\n",
    "network = theano_lstm.lstm_rnn(300,\n",
    "                  [(hidden_size, hidden_size),\n",
    "                   (hidden_size, hidden_size)],\n",
    "                  150, dropout=0.2)\n",
    "# network.initialize_training_adadelta()\n",
    "network.initialize_training_adam()"
   ]
  },
  {
   "cell_type": "code",
   "execution_count": null,
   "metadata": {
    "collapsed": false
   },
   "outputs": [],
   "source": [
    "%%time\n",
    "# Create network \n",
    "config.mode=\"FAST_RUN\"\n",
    "hidden_size = 128\n",
    "network = theano_lstm.lstm_rnn(300,\n",
    "                  [(hidden_size, hidden_size)],\n",
    "                  150, dropout=0.2)\n",
    "# network.initialize_training_adadelta()\n",
    "network.initialize_training_adam(alpha=5e-5, beta1=0.95)"
   ]
  },
  {
   "cell_type": "code",
   "execution_count": null,
   "metadata": {
    "collapsed": false
   },
   "outputs": [],
   "source": [
    "batch_size = 1\n",
    "perms_per = 256\n",
    "num_batches = 1000000\n",
    "should_reinitialize = True\n",
    "repeat_batch = 1\n",
    "# abbrev = 10\n",
    "\n",
    "data_butler.set_batch_size(batch_size)\n",
    "data_butler.set_perms_per(perms_per)\n",
    "# data_butler.set_stride(batch_size)\n",
    "data_butler.set_stride(0)\n",
    "\n",
    "# Re-initialize network \n",
    "if should_reinitialize:\n",
    "    network.initialize_network_weights()\n",
    "    root_dir = '/media/1_TB_Internal/lstm_rnn_data'\n",
    "    new_log_dir = os.path.join(root_dir, datetime.datetime.now().strftime('%y%m%d_%H%M%S'))\n",
    "    network.set_log_dir(new_log_dir)\n",
    "\n",
    "#Create plot \n",
    "fig = plt.figure(figsize=(7, 10))\n",
    "fig.subplots_adjust(hspace=0.5)\n",
    "ax_cost = fig.add_subplot(311)\n",
    "ax_cost.set_xlabel('Batch number')\n",
    "ax_cost.set_ylabel('Mean cross-entropy error')\n",
    "y_formatter = matplotlib.ticker.ScalarFormatter(useOffset=False)\n",
    "ax_cost.yaxis.set_major_formatter(y_formatter)\n",
    "\n",
    "ax_weight_change = fig.add_subplot(312)\n",
    "ax_weight_change.set_xlabel('Batch number')\n",
    "ax_weight_change.set_ylabel('Mean weight change')\n",
    "\n",
    "ax_weight_change_ind = fig.add_subplot(313)\n",
    "ax_weight_change_ind.set_xlabel('Batch number')\n",
    "ax_weight_change_ind.set_ylabel('Mean weight change')\n",
    "ax_weight_change_ind.hold(True)\n",
    "\n",
    "# Initialize cost \n",
    "cost = []\n",
    "mean_diff_mag = []\n",
    "mean_diff_mag_i = []\n",
    "mean_diff_mag_f = []\n",
    "mean_diff_mag_c = []\n",
    "mean_diff_mag_o = []\n",
    "mean_diff_mag_y = []\n",
    "mean_diff_mag_r = []\n",
    "\n",
    "# Offer data\n",
    "# vectors, lengths, answers = data_butler.offer_data()\n",
    "# vectors = vectors[:abbrev, :, :]\n",
    "# lengths = [min(abbrev, vec_len) for vec_len in lengths]\n",
    "\n",
    "for batch in range(num_batches):\n",
    "    \n",
    "    # Get data\n",
    "#     vectors, lengths, answers = data_butler.permute_examples()\n",
    "#     vectors = vectors[:abbrev, :, :]\n",
    "#     lengths = [min(abbrev, vec_len) for vec_len in lengths]\n",
    "    vectors, lengths, answers = data_butler.offer_data()\n",
    "    \n",
    "    # Step \n",
    "#     temp_cost, param_diff = network.adadelta_step(vectors, lengths, answers)\n",
    "    for repeat in range(repeat_batch):\n",
    "        temp_cost, param_diff = network.adam_step(vectors, lengths, answers)\n",
    "        cost.append(temp_cost.tolist())\n",
    "    \n",
    "        # Calculate mean param_diff magnitude\n",
    "        temp_mean_diff_mag = [np.abs(diff).mean() for diff in param_diff]\n",
    "        mean_diff_mag.append(np.mean(temp_mean_diff_mag))\n",
    "        \n",
    "        # append indi\n",
    "        mean_diff_mag_i.append(temp_mean_diff_mag[0])\n",
    "        mean_diff_mag_f.append(temp_mean_diff_mag[2])\n",
    "        mean_diff_mag_c.append(temp_mean_diff_mag[4])\n",
    "        mean_diff_mag_o.append(temp_mean_diff_mag[6])\n",
    "        mean_diff_mag_y.append(temp_mean_diff_mag[8])\n",
    "        mean_diff_mag_r.append(temp_mean_diff_mag[10])\n",
    "\n",
    "        # Update plot \n",
    "        try:\n",
    "            upper_lim = len(cost) + 1\n",
    "        except:\n",
    "            upper_lim = 2\n",
    "        x_vals = range(1, upper_lim)\n",
    "        ax_cost.plot(x_vals, cost, 'b')\n",
    "        ax_weight_change.plot(x_vals, mean_diff_mag, 'r')\n",
    "        ax_weight_change_ind.plot(x_vals, mean_diff_mag_i, 'b')\n",
    "        ax_weight_change_ind.plot(x_vals, mean_diff_mag_f, 'r')\n",
    "        ax_weight_change_ind.plot(x_vals, mean_diff_mag_c, 'g')\n",
    "        ax_weight_change_ind.plot(x_vals, mean_diff_mag_o, 'k')\n",
    "        ax_weight_change_ind.plot(x_vals, mean_diff_mag_y, 'm')\n",
    "        ax_weight_change_ind.plot(x_vals, mean_diff_mag_r, 'c')\n",
    "        display.clear_output(wait=True)\n",
    "        display.display(fig)\n",
    "    \n",
    "    data_butler.advance_schedule()"
   ]
  },
  {
   "cell_type": "code",
   "execution_count": null,
   "metadata": {
    "collapsed": true
   },
   "outputs": [],
   "source": [
    "network.initialize_network_weights()"
   ]
  },
  {
   "cell_type": "code",
   "execution_count": null,
   "metadata": {
    "collapsed": true
   },
   "outputs": [],
   "source": []
  }
 ],
 "metadata": {
  "kernelspec": {
   "display_name": "Python 2",
   "language": "python",
   "name": "python2"
  },
  "language_info": {
   "codemirror_mode": {
    "name": "ipython",
    "version": 2
   },
   "file_extension": ".py",
   "mimetype": "text/x-python",
   "name": "python",
   "nbconvert_exporter": "python",
   "pygments_lexer": "ipython2",
   "version": "2.7.6"
  }
 },
 "nbformat": 4,
 "nbformat_minor": 0
}
