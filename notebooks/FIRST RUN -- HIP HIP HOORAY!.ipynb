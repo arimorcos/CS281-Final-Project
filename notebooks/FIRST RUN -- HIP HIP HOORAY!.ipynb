{
 "cells": [
  {
   "cell_type": "code",
   "execution_count": 3,
   "metadata": {
    "collapsed": false
   },
   "outputs": [
    {
     "name": "stderr",
     "output_type": "stream",
     "text": [
      "Using gpu device 0: GeForce GTX TITAN X\n"
     ]
    }
   ],
   "source": [
    "import sys\n",
    "sys.path.append('..')\n",
    "from theano import function, config, shared, sandbox\n",
    "import theano.tensor as T\n",
    "import numpy\n",
    "import datetime\n",
    "import theano_lstm\n",
    "import numpy as np\n",
    "import data_managers\n",
    "import os\n",
    "\n",
    "# Plotting\n",
    "import matplotlib.pyplot as plt\n",
    "from IPython import display\n",
    "%matplotlib inline\n"
   ]
  },
  {
   "cell_type": "code",
   "execution_count": null,
   "metadata": {
    "collapsed": true
   },
   "outputs": [],
   "source": [
    "data_butler."
   ]
  },
  {
   "cell_type": "code",
   "execution_count": 5,
   "metadata": {
    "collapsed": false
   },
   "outputs": [],
   "source": [
    "data_butler = data_managers.character_data_manager('/home/arimorcos/Github/CS281-Final-Project/data manager/',\n",
    "                                                   batch_size=128)"
   ]
  },
  {
   "cell_type": "code",
   "execution_count": 6,
   "metadata": {
    "collapsed": false
   },
   "outputs": [],
   "source": [
    "vectors, lengths, answer = data_butler.offer_data()"
   ]
  },
  {
   "cell_type": "code",
   "execution_count": 12,
   "metadata": {
    "collapsed": false
   },
   "outputs": [
    {
     "data": {
      "text/plain": [
       "(2178, 300, 128)"
      ]
     },
     "execution_count": 12,
     "metadata": {},
     "output_type": "execute_result"
    }
   ],
   "source": [
    "vectors.shape"
   ]
  },
  {
   "cell_type": "code",
   "execution_count": 11,
   "metadata": {
    "collapsed": false
   },
   "outputs": [
    {
     "data": {
      "text/plain": [
       "(150, 128)"
      ]
     },
     "execution_count": 11,
     "metadata": {},
     "output_type": "execute_result"
    }
   ],
   "source": [
    "answer.shape"
   ]
  },
  {
   "cell_type": "code",
   "execution_count": 17,
   "metadata": {
    "collapsed": true
   },
   "outputs": [],
   "source": [
    "# Create network \n",
    "config.mode=\"FAST_RUN\"\n",
    "hidden_size = 128\n",
    "network = theano_lstm.lstm_rnn(300,\n",
    "                  [(hidden_size, hidden_size)],\n",
    "                  300, dropout=0.2)\n",
    "# network.initialize_training_adadelta()"
   ]
  },
  {
   "cell_type": "code",
   "execution_count": 18,
   "metadata": {
    "collapsed": true
   },
   "outputs": [],
   "source": [
    "network.set_log_dir(new_log_dir)"
   ]
  },
  {
   "cell_type": "code",
   "execution_count": 4,
   "metadata": {
    "collapsed": false
   },
   "outputs": [
    {
     "name": "stdout",
     "output_type": "stream",
     "text": [
      "> \u001b[1;32m/home/arimorcos/Github/CS281-Final-Project/data_managers.py\u001b[0m(49)\u001b[0;36m__init__\u001b[1;34m()\u001b[0m\n",
      "\u001b[1;32m     48 \u001b[1;33m        \u001b[1;32mwith\u001b[0m \u001b[0mopen\u001b[0m\u001b[1;33m(\u001b[0m\u001b[0mload_path\u001b[0m \u001b[1;33m+\u001b[0m \u001b[1;34m'bad_entity_vectors.pkl'\u001b[0m\u001b[1;33m,\u001b[0m\u001b[1;34m'rb'\u001b[0m\u001b[1;33m)\u001b[0m \u001b[1;32mas\u001b[0m \u001b[0mf\u001b[0m\u001b[1;33m:\u001b[0m\u001b[1;33m\u001b[0m\u001b[0m\n",
      "\u001b[0m\u001b[1;32m---> 49 \u001b[1;33m            \u001b[0mself\u001b[0m\u001b[1;33m.\u001b[0m\u001b[0mbEnt_vecs\u001b[0m \u001b[1;33m=\u001b[0m \u001b[0mcPickle\u001b[0m\u001b[1;33m.\u001b[0m\u001b[0mload\u001b[0m\u001b[1;33m(\u001b[0m\u001b[0mf\u001b[0m\u001b[1;33m)\u001b[0m\u001b[1;33m\u001b[0m\u001b[0m\n",
      "\u001b[0m\u001b[1;32m     50 \u001b[1;33m\u001b[1;33m\u001b[0m\u001b[0m\n",
      "\u001b[0m\n",
      "ipdb> f\n",
      "<closed file '/home/arimorcos/Github/CS281-Final-Project/data manager/bad_entity_vectors.pkl', mode 'rb' at 0x7f4276d46ed0>\n",
      "ipdb> open(load_path + 'bad_entity_vectors.pkl','rb') as f\n",
      "*** SyntaxError: invalid syntax (<stdin>, line 1)\n",
      "ipdb> load_path\n",
      "'/home/arimorcos/Github/CS281-Final-Project/data manager/'\n",
      "ipdb> load_path + 'bad_entity_vectors.pkl'\n",
      "'/home/arimorcos/Github/CS281-Final-Project/data manager/bad_entity_vectors.pkl'\n",
      "ipdb> exit\n"
     ]
    }
   ],
   "source": [
    "batch_size = 128\n",
    "num_epochs = 1\n",
    "num_batches = num_epochs*len(data_butler.query_list)/batch_size\n",
    "\n",
    "# Re-initialize network \n",
    "network.initialize_network_weights()\n",
    "root_dir = '/media/1_TB_Internal/lstm_rnn_data'\n",
    "new_log_dir = os.path.join(root_dir, datetime.datetime.now().strftime('%y%m%d_%H%M%S'))\n",
    "network.set_log_dir(new_log_dir)\n",
    "\n",
    "#Create plot \n",
    "fig = plt.figure()\n",
    "ax = plt.axes()\n",
    "\n",
    "# Initialize cost \n",
    "cost = []\n",
    "\n",
    "for batch in range(num_batches):\n",
    "    \n",
    "    # Get data\n",
    "    vectors, lengths, answer = data_butler.offer_data()\n",
    "    \n",
    "    # Step \n",
    "    temp_cost = network.adadelta_step(vectors, lengths, answer)\n",
    "    cost.append(temp_cost)\n",
    "    \n",
    "    # advance schedule \n",
    "    data_butler.advance_schedule()\n",
    "    \n",
    "    # Update plot \n",
    "    ax.plot(range(batch), cost, 'b')\n",
    "    display.clear_output(wait=True)\n",
    "    display.display(fig)"
   ]
  },
  {
   "cell_type": "code",
   "execution_count": null,
   "metadata": {
    "collapsed": false
   },
   "outputs": [],
   "source": [
    "fig = plt.figure()\n",
    "ax = plt.axes()\n",
    "\n",
    "for i in range(100):\n",
    "    plot_var = np.arange(i)\n",
    "    ax.plot(plot_var, plot_var**2, 'b')\n",
    "    display.clear_output(wait=True)\n",
    "    display.display(fig)\n",
    "    time.sleep(0.1)\n",
    "    \n",
    "    "
   ]
  },
  {
   "cell_type": "code",
   "execution_count": null,
   "metadata": {
    "collapsed": true
   },
   "outputs": [],
   "source": []
  }
 ],
 "metadata": {
  "kernelspec": {
   "display_name": "Python 2",
   "language": "python",
   "name": "python2"
  },
  "language_info": {
   "codemirror_mode": {
    "name": "ipython",
    "version": 2
   },
   "file_extension": ".py",
   "mimetype": "text/x-python",
   "name": "python",
   "nbconvert_exporter": "python",
   "pygments_lexer": "ipython2",
   "version": "2.7.6"
  }
 },
 "nbformat": 4,
 "nbformat_minor": 0
}
