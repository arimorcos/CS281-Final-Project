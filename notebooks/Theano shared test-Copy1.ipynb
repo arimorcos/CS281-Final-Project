{
 "cells": [
  {
   "cell_type": "code",
   "execution_count": 1,
   "metadata": {
    "collapsed": false
   },
   "outputs": [
    {
     "name": "stderr",
     "output_type": "stream",
     "text": [
      "Using gpu device 0: GeForce GTX TITAN X\n"
     ]
    }
   ],
   "source": [
    "import sys\n",
    "sys.path.append('..')\n",
    "from theano import function, config, shared, sandbox\n",
    "import theano.tensor as T\n",
    "import numpy as np\n",
    "import theano_lstm\n"
   ]
  },
  {
   "cell_type": "code",
   "execution_count": 2,
   "metadata": {
    "collapsed": false
   },
   "outputs": [],
   "source": [
    "config.mode=\"FAST_COMPILE\"\n",
    "hidden_size = 128\n",
    "network = theano_lstm.lstm_rnn(300,\n",
    "                  [(hidden_size, hidden_size)],\n",
    "                  150, dropout=0.2)\n",
    "# network.initialize_training_adadelta()\n",
    "network.initialize_training_adam(alpha=5e-5, beta1=0.9)"
   ]
  },
  {
   "cell_type": "code",
   "execution_count": 10,
   "metadata": {
    "collapsed": true
   },
   "outputs": [],
   "source": [
    "network.initialize_network_weights()\n",
    "for p in network.list_all_params():\n",
    "    p.set_value(p.get_value()*0.7)"
   ]
  },
  {
   "cell_type": "code",
   "execution_count": 3,
   "metadata": {
    "collapsed": false
   },
   "outputs": [],
   "source": [
    "grad = network.adam_grads[0]"
   ]
  },
  {
   "cell_type": "code",
   "execution_count": 4,
   "metadata": {
    "collapsed": false
   },
   "outputs": [],
   "source": [
    "grad_fun = function(network._lstm_rnn__inp_list, grad)"
   ]
  },
  {
   "cell_type": "code",
   "execution_count": 5,
   "metadata": {
    "collapsed": false
   },
   "outputs": [
    {
     "name": "stdout",
     "output_type": "stream",
     "text": [
      "Batch Size = 5;  Stride = 5\n"
     ]
    }
   ],
   "source": [
    "import data_managers\n",
    "data_butler = data_managers.character_data_manager('/home/arimorcos/Github/CS281-Final-Project/data manager/')\n",
    "data_butler.set_batch_size(5)\n",
    "vectors, lengths, answers = data_butler.offer_data()"
   ]
  },
  {
   "cell_type": "code",
   "execution_count": 20,
   "metadata": {
    "collapsed": true
   },
   "outputs": [],
   "source": [
    "network.reinitialize_adam(grad_max_norm=9)"
   ]
  },
  {
   "cell_type": "code",
   "execution_count": 21,
   "metadata": {
    "collapsed": false
   },
   "outputs": [
    {
     "data": {
      "text/plain": [
       "array([[-0.29684547,  0.09836281,  0.23799908, ...,  0.20892805,\n",
       "        -0.43434817, -0.04606367],\n",
       "       [-0.10510777,  0.03013774,  0.03080348, ...,  0.01831637,\n",
       "        -0.10238482,  0.04005445],\n",
       "       [-0.05254856, -0.02903406, -0.01377899, ...,  0.08359944,\n",
       "        -0.53193098,  0.00816834],\n",
       "       ..., \n",
       "       [ 0.75745595, -0.14663893,  0.9518249 , ..., -0.12623309,\n",
       "         0.30701318, -0.02035918],\n",
       "       [-0.08841931,  0.1400684 ,  0.06069392, ...,  0.00119849,\n",
       "         0.2188721 ,  0.07561984],\n",
       "       [ 0.51373833,  0.03970392,  0.10695598, ...,  0.06928314,\n",
       "        -0.19568381,  0.08987337]], dtype=float32)"
      ]
     },
     "execution_count": 21,
     "metadata": {},
     "output_type": "execute_result"
    }
   ],
   "source": [
    "grad_calc = grad_fun(vectors, lengths, answers)\n",
    "grad_calc"
   ]
  },
  {
   "cell_type": "code",
   "execution_count": 22,
   "metadata": {
    "collapsed": false
   },
   "outputs": [
    {
     "data": {
      "text/plain": [
       "array([ 9.        ,  9.        ,  9.        ,  9.        ,  9.        ,\n",
       "        9.        ,  9.        ,  9.        ,  9.        ,  8.99999905,\n",
       "        9.        ,  9.        ,  9.00000095,  9.        ,  9.        ,\n",
       "        9.        ,  9.        ,  9.        ,  9.        ,  9.        ,\n",
       "        9.        ,  9.00000095,  9.        ,  9.        ,  9.        ,\n",
       "        9.        ,  9.        ,  9.        ,  9.        ,  9.        ,\n",
       "        9.        ,  9.        ,  9.        ,  9.        ,  9.00000095,\n",
       "        9.        ,  9.        ,  8.99999905,  9.        ,  9.        ,\n",
       "        9.        ,  9.00000095,  8.99999905,  9.        ,  9.        ,\n",
       "        9.        ,  8.99999905,  9.        ,  9.        ,  9.        ,\n",
       "        9.        ,  9.        ,  9.        ,  9.        ,  9.        ,\n",
       "        9.        ,  9.        ,  9.00000095,  9.        ,  9.        ,\n",
       "        9.        ,  9.        ,  9.        ,  9.        ,  9.        ,\n",
       "        9.        ,  9.        ,  9.        ,  9.00000095,  9.        ,\n",
       "        8.99999905,  9.        ,  8.99999905,  9.        ,  9.00000095,\n",
       "        9.        ,  9.        ,  9.        ,  9.        ,  9.        ,\n",
       "        9.        ,  9.00000095,  9.        ,  9.        ,  9.        ,\n",
       "        9.00000095,  9.        ,  9.        ,  9.        ,  9.        ,\n",
       "        9.        ,  9.        ,  8.99999905,  9.        ,  9.        ,\n",
       "        9.        ,  9.        ,  8.99999905,  9.        ,  9.        ,\n",
       "        9.        ,  9.        ,  9.        ,  9.        ,  9.00000095,\n",
       "        9.        ,  9.        ,  9.        ,  9.        ,  9.        ,\n",
       "        9.        ,  9.        ,  9.        ,  9.00000095,  8.99999905,\n",
       "        9.        ,  9.        ,  9.        ,  8.99999905,  8.99999905,\n",
       "        9.        ,  9.        ,  9.        ,  9.        ,  9.00000095,\n",
       "        9.        ,  9.        ,  9.        ], dtype=float32)"
      ]
     },
     "execution_count": 22,
     "metadata": {},
     "output_type": "execute_result"
    }
   ],
   "source": [
    "np.linalg.norm(grad_calc, axis=1)"
   ]
  },
  {
   "cell_type": "code",
   "execution_count": null,
   "metadata": {
    "collapsed": true
   },
   "outputs": [],
   "source": []
  }
 ],
 "metadata": {
  "kernelspec": {
   "display_name": "Python 2",
   "language": "python",
   "name": "python2"
  },
  "language_info": {
   "codemirror_mode": {
    "name": "ipython",
    "version": 2
   },
   "file_extension": ".py",
   "mimetype": "text/x-python",
   "name": "python",
   "nbconvert_exporter": "python",
   "pygments_lexer": "ipython2",
   "version": "2.7.6"
  }
 },
 "nbformat": 4,
 "nbformat_minor": 0
}
