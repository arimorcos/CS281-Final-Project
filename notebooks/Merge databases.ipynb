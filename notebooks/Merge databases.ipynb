{
 "cells": [
  {
   "cell_type": "code",
   "execution_count": 2,
   "metadata": {},
   "outputs": [],
   "source": [
    "import json\n",
    "import pandas as pd\n",
    "import numpy as np"
   ]
  },
  {
   "cell_type": "code",
   "execution_count": 293,
   "metadata": {},
   "outputs": [],
   "source": [
    "def rename_summary_column(df):\n",
    "    new_name = df['summary_type'][0]\n",
    "    df = df.rename(columns={'summary': new_name + \"_summary\"})\n",
    "    df.drop(\"summary_type\", axis=1, inplace=True)\n",
    "    return df"
   ]
  },
  {
   "cell_type": "code",
   "execution_count": 294,
   "metadata": {},
   "outputs": [],
   "source": [
    "character_path = \"getBookList/char_descriptions_stripped.json\"\n",
    "characters = pd.read_json(character_path)"
   ]
  },
  {
   "cell_type": "code",
   "execution_count": 295,
   "metadata": {},
   "outputs": [],
   "source": [
    "masterplots_fourth_path = \"getBookList/summary_masterplots_fourth_edition_stripped.json\"\n",
    "masterplots_fourth = pd.read_json(masterplots_fourth_path)\n",
    "masterplots_fourth = rename_summary_column(masterplots_fourth)"
   ]
  },
  {
   "cell_type": "code",
   "execution_count": 296,
   "metadata": {},
   "outputs": [],
   "source": [
    "masterplots_ii_path = \"getBookList/summary_masterplots_ii_stripped.json\"\n",
    "masterplots_ii = pd.read_json(masterplots_ii_path)\n",
    "masterplots_ii = rename_summary_column(masterplots_ii)"
   ]
  },
  {
   "cell_type": "code",
   "execution_count": 297,
   "metadata": {},
   "outputs": [
    {
     "data": {
      "text/html": [
       "<div>\n",
       "<table border=\"1\" class=\"dataframe\">\n",
       "  <thead>\n",
       "    <tr style=\"text-align: right;\">\n",
       "      <th></th>\n",
       "      <th>author</th>\n",
       "      <th>masterplots_fourth_edition_summary</th>\n",
       "      <th>title</th>\n",
       "    </tr>\n",
       "  </thead>\n",
       "  <tbody>\n",
       "    <tr>\n",
       "      <th>1021</th>\n",
       "      <td>William Shakespeare</td>\n",
       "      <td>In Verona, Italy, there live two famous fami...</td>\n",
       "      <td>Romeo and Juliet</td>\n",
       "    </tr>\n",
       "  </tbody>\n",
       "</table>\n",
       "</div>"
      ]
     },
     "output_type": "execute_result",
     "metadata": {}
    }
   ],
   "source": [
    "masterplots_fourth[masterplots_fourth['title'] == \"Romeo and Juliet\"]"
   ]
  },
  {
   "cell_type": "code",
   "execution_count": 298,
   "metadata": {},
   "outputs": [
    {
     "data": {
      "text/html": [
       "<div>\n",
       "<table border=\"1\" class=\"dataframe\">\n",
       "  <thead>\n",
       "    <tr style=\"text-align: right;\">\n",
       "      <th></th>\n",
       "      <th>author</th>\n",
       "      <th>characters</th>\n",
       "      <th>title</th>\n",
       "    </tr>\n",
       "  </thead>\n",
       "  <tbody>\n",
       "    <tr>\n",
       "      <th>279</th>\n",
       "      <td>William Shakespeare</td>\n",
       "      <td>[{u'name': u'Romeo ', u'description': u'Romeo ...</td>\n",
       "      <td>Romeo and Juliet</td>\n",
       "    </tr>\n",
       "  </tbody>\n",
       "</table>\n",
       "</div>"
      ]
     },
     "output_type": "execute_result",
     "metadata": {}
    }
   ],
   "source": [
    "characters[characters['title'] == \"Romeo and Juliet\"]"
   ]
  },
  {
   "cell_type": "code",
   "execution_count": 299,
   "metadata": {},
   "outputs": [],
   "source": [
    "def mergeSummaries(characters, summaries):\n",
    "    \"\"\"\n",
    "    Merges on summaries using a left join to keep all entries from characters\n",
    "    \"\"\"\n",
    "    temp = characters.merge(summaries, on=['title', 'author'], how='left')\n",
    "    temp = temp.drop_duplicates(subset=['title', 'author'])\n",
    "    return temp"
   ]
  },
  {
   "cell_type": "code",
   "execution_count": 300,
   "metadata": {},
   "outputs": [],
   "source": [
    "merge_1 = mergeSummaries(characters, masterplots_ii)\n",
    "df = mergeSummaries(merge_1, masterplots_fourth)\n",
    "null_ind = df['masterplots_ii_summary'].isnull() & df['masterplots_fourth_edition_summary'].isnull()\n",
    "df = df[~null_ind]"
   ]
  },
  {
   "cell_type": "code",
   "execution_count": 301,
   "metadata": {},
   "outputs": [
    {
     "name": "stdout",
     "output_type": "stream",
     "text": [
      "Number of entries: 2845\n"
     ]
    }
   ],
   "source": [
    "print \"Number of entries: {}\".format(df.shape[0])"
   ]
  },
  {
   "cell_type": "code",
   "execution_count": 309,
   "metadata": {},
   "outputs": [
    {
     "data": {
      "text/plain": [
       "{u'description': u\"T. S. Garp, a writer. Because his father dies before he is born, Garp grows up in a world created by his mother. As a result, he spends most of his life trying to create his own identity and never fully achieves one separate from that of his mother. He is educated at a private boys' school, where his mother is the head nurse. He goes to Europe after graduation and becomes closely involved in the darker side of life in Vienna. He returns home and marries the daughter of his wrestling coach, and while she teaches, he stays home and cares for the children and writes. He indulges in a series of affairs with other women but does little to hide the fact from his wife. He writes three books and loses a son in a bizarre car accident that maims his other son and emasculates his wife's lover. He becomes the wrestling coach at Steering School, buys the Percy mansion, and, at the age of thirty-three, is shot to death by the youngest Percy daughter, who is now hopelessly insane.\",\n",
       " u'name': u'T. S. Garp '}"
      ]
     },
     "execution_count": 309,
     "output_type": "execute_result",
     "metadata": {}
    }
   ],
   "source": [
    "df.iloc[6]['characters'][0]"
   ]
  },
  {
   "cell_type": "code",
   "execution_count": 303,
   "metadata": {},
   "outputs": [],
   "source": [
    "df.to_pickle('complete_database.pd')"
   ]
  },
  {
   "cell_type": "code",
   "execution_count": 3,
   "metadata": {},
   "outputs": [],
   "source": [
    "df = pd.read_pickle('complete_database.pd')"
   ]
  },
  {
   "cell_type": "code",
   "execution_count": null,
   "metadata": {},
   "outputs": [],
   "source": [
    ""
   ]
  },
  {
   "cell_type": "code",
   "execution_count": 183,
   "metadata": {},
   "outputs": [
    {
     "data": {
      "text/plain": [
       "u\"Frodo Baggins, the principal protagonist. Frodo is a hobbit, a member of a diminutive, peace-loving race that inhabits the Shire, a rural area in the northwest of Middle-earth. From his Uncle Bilbo, Frodo inherits a magic ring that confers the power of invisibility upon its wearer. Although he at first regards it as merely a useful toy, he comes to learn that it is in fact the Ruling Ring, an enormously powerful talisman created and lost by Sauron, the malevolent Dark Lord, ages before. Should Sauron recover the Ring, he will become powerful enough to plunge Middle-earth into an age of darkness. The Ring is a potent weapon that enables its wearer to control the wills of others, but it is inherently evil, inevitably corrupting its possessors. Rather than attempt to use it to defeat Sauron, therefore, Frodo seeks to destroy it. This, however, can be done only where the Ring was made: in the volcanic fires of Mount Doom, in the heart of Sauron's kingdom. Pursued by Sauron's emissaries - including monsters such as Orcs, Trolls, and the terrifying Ringwraiths - Frodo and a handful of companions undertake the apparently hopeless quest of carrying the Ring to Mount Doom. Along the way, Frodo bears the colossal burden of the Ring, which exerts an inexorable pressure upon his mind and spirit. He yields to its temptation only when he is on the point of accomplishing his quest, claiming the Ring for himself as he stands by the fiery fissures of Mount Doom. He is saved at the last moment by Gollum, who bites the Ring - and a finger - from Frodo's hand and falls into the abyss, destroying the Ring and vanquishing Sauron. A small, unassuming member of an obscure race, Frodo is outwardly ordinary, an unlikely hero in a titanic struggle for world supremacy, yet his simplicity and essential goodness give him the ability to resist the Ring's pull far longer than a seemingly more powerful character could. Although he is terribly worn, Frodo is ennobled by his long ordeal. A somewhat bourgeois and self-interested country squire at the story's beginning, he becomes a saintlike figure by its conclusion.\""
      ]
     },
     "execution_count": 183,
     "output_type": "execute_result",
     "metadata": {}
    }
   ],
   "source": [
    "df['characters'][4][0]['description']"
   ]
  },
  {
   "cell_type": "code",
   "execution_count": 187,
   "metadata": {},
   "outputs": [],
   "source": [
    "from spacy.en import English, LOCAL_DATA_DIR\n",
    "import os\n",
    "data_dir = os.environ.get('SPACY_DATA', LOCAL_DATA_DIR)\n",
    "nlp = English(data_dir=data_dir)"
   ]
  },
  {
   "cell_type": "code",
   "execution_count": 198,
   "metadata": {},
   "outputs": [
    {
     "name": "stdout",
     "output_type": "stream",
     "text": [
      "10 loops, best of 3: 36.3 ms per loop\n"
     ]
    }
   ],
   "source": [
    "doc = nlp(df['characters'][4][0]['description'])"
   ]
  },
  {
   "cell_type": "code",
   "execution_count": 195,
   "metadata": {},
   "outputs": [
    {
     "data": {
      "text/plain": [
       "u'PRODUCT'"
      ]
     },
     "execution_count": 195,
     "output_type": "execute_result",
     "metadata": {}
    }
   ],
   "source": [
    "doc.ents[2].label_"
   ]
  },
  {
   "cell_type": "code",
   "execution_count": 196,
   "metadata": {},
   "outputs": [
    {
     "data": {
      "text/plain": [
       "Shire"
      ]
     },
     "execution_count": 196,
     "output_type": "execute_result",
     "metadata": {}
    }
   ],
   "source": [
    "doc.ents[2]"
   ]
  },
  {
   "cell_type": "code",
   "execution_count": 281,
   "metadata": {},
   "outputs": [],
   "source": [
    "prev_word = []\n",
    "for ind, word in enumerate(x):\n",
    "    if prev_word == \"Frodo\" and word == \"Baggins\":\n",
    "        x[ind] = None \n",
    "    prev_word = word"
   ]
  },
  {
   "cell_type": "code",
   "execution_count": 280,
   "metadata": {},
   "outputs": [],
   "source": [
    "x = [word.text for word in doc]"
   ]
  },
  {
   "cell_type": "code",
   "execution_count": 286,
   "metadata": {},
   "outputs": [
    {
     "data": {
      "text/plain": [
       "True"
      ]
     },
     "execution_count": 286,
     "output_type": "execute_result",
     "metadata": {}
    }
   ],
   "source": [
    "y = 5\n",
    "x = y\n",
    "x is y"
   ]
  },
  {
   "cell_type": "code",
   "execution_count": 287,
   "metadata": {},
   "outputs": [
    {
     "data": {
      "text/plain": [
       "True"
      ]
     },
     "execution_count": 287,
     "output_type": "execute_result",
     "metadata": {}
    }
   ],
   "source": [
    "y = 5\n",
    "x = 5\n",
    "x is y"
   ]
  },
  {
   "cell_type": "code",
   "execution_count": 4,
   "metadata": {},
   "outputs": [],
   "source": [
    "from nltk import word_tokenize"
   ]
  },
  {
   "cell_type": "code",
   "execution_count": 9,
   "metadata": {},
   "outputs": [
    {
     "data": {
      "text/html": [
       "<div>\n",
       "<table border=\"1\" class=\"dataframe\">\n",
       "  <thead>\n",
       "    <tr style=\"text-align: right;\">\n",
       "      <th></th>\n",
       "      <th>author</th>\n",
       "      <th>characters</th>\n",
       "      <th>title</th>\n",
       "      <th>masterplots_ii_summary</th>\n",
       "      <th>masterplots_fourth_edition_summary</th>\n",
       "    </tr>\n",
       "  </thead>\n",
       "  <tbody>\n",
       "    <tr>\n",
       "      <th>0</th>\n",
       "      <td>John Updike</td>\n",
       "      <td>[{u'name': u'Harry 'Rabbit' Angstrom ', u'desc...</td>\n",
       "      <td>The Rabbit Angstrom Novels</td>\n",
       "      <td>With his sixth novel, Rabbit Redux , published...</td>\n",
       "      <td>Rabbit, Run. Harry Angstrom, nicknamed Rabbit...</td>\n",
       "    </tr>\n",
       "    <tr>\n",
       "      <th>1</th>\n",
       "      <td>Gabriel Garcia Marquez</td>\n",
       "      <td>[{u'name': u'Melquiades ', u'description': u'M...</td>\n",
       "      <td>One Hundred Years of Solitude</td>\n",
       "      <td>NaN</td>\n",
       "      <td>Standing before a firing squad, Colonel Aure...</td>\n",
       "    </tr>\n",
       "    <tr>\n",
       "      <th>3</th>\n",
       "      <td>William Makepeace Thackeray</td>\n",
       "      <td>[{u'name': u'Colonel Thomas Newcome ', u'descr...</td>\n",
       "      <td>The Newcomes</td>\n",
       "      <td>NaN</td>\n",
       "      <td>The elder Thomas Newcome marries his childho...</td>\n",
       "    </tr>\n",
       "    <tr>\n",
       "      <th>4</th>\n",
       "      <td>J. R. R. Tolkien</td>\n",
       "      <td>[{u'name': u'Frodo Baggins ', u'description': ...</td>\n",
       "      <td>The Lord of the Rings</td>\n",
       "      <td>J. R. R. Tolkien's modern fantasy classic The ...</td>\n",
       "      <td>NaN</td>\n",
       "    </tr>\n",
       "    <tr>\n",
       "      <th>6</th>\n",
       "      <td>Charles Dickens</td>\n",
       "      <td>[{u'name': u'David Copperfield ', u'descriptio...</td>\n",
       "      <td>David Copperfield</td>\n",
       "      <td>When it was published in installments during t...</td>\n",
       "      <td>David Copperfield is born at Blunderstone, i...</td>\n",
       "    </tr>\n",
       "    <tr>\n",
       "      <th>7</th>\n",
       "      <td>Lawrence Durrell</td>\n",
       "      <td>[{u'name': u'The narrator ', u'description': u...</td>\n",
       "      <td>The Alexandria Quartet</td>\n",
       "      <td>NaN</td>\n",
       "      <td>Justine. A young Anglo-Irish writer, L. G. Da...</td>\n",
       "    </tr>\n",
       "    <tr>\n",
       "      <th>8</th>\n",
       "      <td>John Irving</td>\n",
       "      <td>[{u'name': u'T. S. Garp ', u'description': u'T...</td>\n",
       "      <td>The World According to Garp</td>\n",
       "      <td>Jenny Fields, a generous but unconventional wo...</td>\n",
       "      <td>Jenny Fields is the only daughter of a New E...</td>\n",
       "    </tr>\n",
       "    <tr>\n",
       "      <th>9</th>\n",
       "      <td>Herman Wouk</td>\n",
       "      <td>[{u'name': u'Victor 'Pug' Henry ', u'descripti...</td>\n",
       "      <td>The Winds of War</td>\n",
       "      <td>The action of the novel projects the lives of ...</td>\n",
       "      <td>NaN</td>\n",
       "    </tr>\n",
       "    <tr>\n",
       "      <th>10</th>\n",
       "      <td>Evelyn Scott</td>\n",
       "      <td>[{u'name': u'Jefferson Davis ', u'description'...</td>\n",
       "      <td>The Wave</td>\n",
       "      <td>Beginning on April 12, 1861, with the firing o...</td>\n",
       "      <td>NaN</td>\n",
       "    </tr>\n",
       "    <tr>\n",
       "      <th>11</th>\n",
       "      <td>Herman Wouk</td>\n",
       "      <td>[{u'name': u'Victor 'Pug' Henry ', u'descripti...</td>\n",
       "      <td>War and Remembrance</td>\n",
       "      <td>The action of War and Remembrance follows with...</td>\n",
       "      <td>NaN</td>\n",
       "    </tr>\n",
       "    <tr>\n",
       "      <th>12</th>\n",
       "      <td>William Makepeace Thackeray</td>\n",
       "      <td>[{u'name': u'Rebecca (Becky) Sharp ', u'descri...</td>\n",
       "      <td>Vanity Fair</td>\n",
       "      <td>NaN</td>\n",
       "      <td>Becky Sharp and Amelia Sedley become good fr...</td>\n",
       "    </tr>\n",
       "    <tr>\n",
       "      <th>13</th>\n",
       "      <td>Thomas Pynchon</td>\n",
       "      <td>[{u'name': u'Benny Profane ', u'description': ...</td>\n",
       "      <td>V.</td>\n",
       "      <td>NaN</td>\n",
       "      <td>At the end of 1955, Benny Profane drifts off...</td>\n",
       "    </tr>\n",
       "    <tr>\n",
       "      <th>14</th>\n",
       "      <td>Jean Paul</td>\n",
       "      <td>[{u'name': u'Albano ', u'description': u'Alban...</td>\n",
       "      <td>Titan</td>\n",
       "      <td>Titan  recounts, in four volumes, and with num...</td>\n",
       "      <td>NaN</td>\n",
       "    </tr>\n",
       "    <tr>\n",
       "      <th>15</th>\n",
       "      <td>James Jones</td>\n",
       "      <td>[{u'name': u'Edward Welsh ', u'description': u...</td>\n",
       "      <td>The Thin Red Line</td>\n",
       "      <td>The true protagonist of The Thin Red Line is n...</td>\n",
       "      <td>NaN</td>\n",
       "    </tr>\n",
       "    <tr>\n",
       "      <th>16</th>\n",
       "      <td>John Gardner (1933-1982)</td>\n",
       "      <td>[{u'name': u'Taggert Faeley Hodge ', u'descrip...</td>\n",
       "      <td>The Sunlight Dialogues</td>\n",
       "      <td>NaN</td>\n",
       "      <td>A scarfaced, bearded, and semideranged man i...</td>\n",
       "    </tr>\n",
       "    <tr>\n",
       "      <th>17</th>\n",
       "      <td>C. P. Snow</td>\n",
       "      <td>[{u'name': u'Lewis Eliot ', u'description': u'...</td>\n",
       "      <td>Strangers and Brothers</td>\n",
       "      <td>C. P. Snow's Strangers and Brothers is a roman...</td>\n",
       "      <td>NaN</td>\n",
       "    </tr>\n",
       "    <tr>\n",
       "      <th>18</th>\n",
       "      <td>James A. Michener</td>\n",
       "      <td>[{u'name': u'Dr. John Cullinane ', u'descripti...</td>\n",
       "      <td>The Source</td>\n",
       "      <td>The principal action of The Source takes place...</td>\n",
       "      <td>NaN</td>\n",
       "    </tr>\n",
       "    <tr>\n",
       "      <th>19</th>\n",
       "      <td>Willa Cather</td>\n",
       "      <td>[{u'name': u'Thea Kronborg ', u'description': ...</td>\n",
       "      <td>The Song of the Lark</td>\n",
       "      <td>NaN</td>\n",
       "      <td>Thea Kronborg is the daughter of the Swedish...</td>\n",
       "    </tr>\n",
       "    <tr>\n",
       "      <th>20</th>\n",
       "      <td>J. R. R. Tolkien</td>\n",
       "      <td>[{u'name': u'Iluvatar ', u'description': u'Ilu...</td>\n",
       "      <td>The Silmarillion</td>\n",
       "      <td>The Silmarillion is not a traditional, single-...</td>\n",
       "      <td>NaN</td>\n",
       "    </tr>\n",
       "    <tr>\n",
       "      <th>21</th>\n",
       "      <td>Lewis Grassic Gibbon</td>\n",
       "      <td>[{u'name': u'Chris Guthrie ', u'description': ...</td>\n",
       "      <td>A Scots Quair</td>\n",
       "      <td>Sunset Song , the first novel in the trilogy A...</td>\n",
       "      <td>NaN</td>\n",
       "    </tr>\n",
       "    <tr>\n",
       "      <th>22</th>\n",
       "      <td>Fyodor Dostoevski</td>\n",
       "      <td>[{u'name': u'Stepan Trofimovitch Verhovensky '...</td>\n",
       "      <td>The Possessed</td>\n",
       "      <td>NaN</td>\n",
       "      <td>Stepan Verhovensky, a self-styled progressiv...</td>\n",
       "    </tr>\n",
       "    <tr>\n",
       "      <th>23</th>\n",
       "      <td>Charles Dickens</td>\n",
       "      <td>[{u'name': u'Mr. Samuel Pickwick ', u'descript...</td>\n",
       "      <td>Pickwick Papers</td>\n",
       "      <td>NaN</td>\n",
       "      <td>Samuel Pickwick, Esq., is the founder and pe...</td>\n",
       "    </tr>\n",
       "    <tr>\n",
       "      <th>25</th>\n",
       "      <td>Charles Dickens</td>\n",
       "      <td>[{u'name': u'Nell Trent ', u'description': u'N...</td>\n",
       "      <td>The Old Curiosity Shop</td>\n",
       "      <td>NaN</td>\n",
       "      <td>Little Nell Trent lives alone with her aged ...</td>\n",
       "    </tr>\n",
       "    <tr>\n",
       "      <th>26</th>\n",
       "      <td>Alfred Doblin</td>\n",
       "      <td>[{u'name': u'The author ', u'description': u'T...</td>\n",
       "      <td>November 1918</td>\n",
       "      <td>November 1918: A German Revolution , a novel i...</td>\n",
       "      <td>NaN</td>\n",
       "    </tr>\n",
       "    <tr>\n",
       "      <th>27</th>\n",
       "      <td>Charles Dickens</td>\n",
       "      <td>[{u'name': u'Nicholas Nickleby ', u'descriptio...</td>\n",
       "      <td>Nicholas Nickleby</td>\n",
       "      <td>NaN</td>\n",
       "      <td>When Nicholas Nickleby was nineteen years ol...</td>\n",
       "    </tr>\n",
       "    <tr>\n",
       "      <th>28</th>\n",
       "      <td>Amos Oz</td>\n",
       "      <td>[{u'name': u'Michael Gonen ', u'description': ...</td>\n",
       "      <td>My Michael</td>\n",
       "      <td>My Michael  begins as an epistolary novel set ...</td>\n",
       "      <td>NaN</td>\n",
       "    </tr>\n",
       "    <tr>\n",
       "      <th>29</th>\n",
       "      <td>Willa Cather</td>\n",
       "      <td>[{u'name': u'Antonia Shimerda ', u'description...</td>\n",
       "      <td>My Antonia</td>\n",
       "      <td>At the heart of My Antonia are the interrelate...</td>\n",
       "      <td>Jim Burden's father and mother die when he i...</td>\n",
       "    </tr>\n",
       "    <tr>\n",
       "      <th>31</th>\n",
       "      <td>Charles Dickens</td>\n",
       "      <td>[{u'name': u'Martin Chuzzlewit (Senior) ', u'd...</td>\n",
       "      <td>Martin Chuzzlewit</td>\n",
       "      <td>NaN</td>\n",
       "      <td>Selfishness is a strong family trait in Mart...</td>\n",
       "    </tr>\n",
       "    <tr>\n",
       "      <th>32</th>\n",
       "      <td>Charles Dickens</td>\n",
       "      <td>[{u'name': u'William Dorrit ', u'description':...</td>\n",
       "      <td>Little Dorrit</td>\n",
       "      <td>NaN</td>\n",
       "      <td>Amy Dorrit, who is better known as Little Do...</td>\n",
       "    </tr>\n",
       "    <tr>\n",
       "      <th>33</th>\n",
       "      <td>Italo Calvino</td>\n",
       "      <td>[{u'name': u'The Narrator ', u'description': u...</td>\n",
       "      <td>If on a Winter's Night a Traveler</td>\n",
       "      <td>The Reader - actually one of the central chara...</td>\n",
       "      <td>The narrative of Italo Calvino's If on a Win...</td>\n",
       "    </tr>\n",
       "    <tr>\n",
       "      <th>...</th>\n",
       "      <td>...</td>\n",
       "      <td>...</td>\n",
       "      <td>...</td>\n",
       "      <td>...</td>\n",
       "      <td>...</td>\n",
       "    </tr>\n",
       "    <tr>\n",
       "      <th>3263</th>\n",
       "      <td>Ben Jonson</td>\n",
       "      <td>[{u'name': u'Subtle ', u'description': u'Subtl...</td>\n",
       "      <td>The Alchemist</td>\n",
       "      <td>NaN</td>\n",
       "      <td>Master Lovewit leaves the city because of pl...</td>\n",
       "    </tr>\n",
       "    <tr>\n",
       "      <th>3264</th>\n",
       "      <td>Euripides</td>\n",
       "      <td>[{u'name': u'Admetus ', u'description': u'Adme...</td>\n",
       "      <td>Alcestis</td>\n",
       "      <td>NaN</td>\n",
       "      <td>Phoebus Apollo has a son, Asclepius, who in ...</td>\n",
       "    </tr>\n",
       "    <tr>\n",
       "      <th>3265</th>\n",
       "      <td>Sophocles</td>\n",
       "      <td>[{u'name': u'Ajax ', u'description': u'Ajax  (...</td>\n",
       "      <td>Ajax</td>\n",
       "      <td>NaN</td>\n",
       "      <td>Odysseus, chosen by Greek leaders in the Tro...</td>\n",
       "    </tr>\n",
       "    <tr>\n",
       "      <th>3267</th>\n",
       "      <td>Anne Bronte</td>\n",
       "      <td>[{u'name': u'Agnes Grey ', u'description': u'A...</td>\n",
       "      <td>Agnes Grey</td>\n",
       "      <td>NaN</td>\n",
       "      <td>Mrs. Grey, a squire's daughter, offends her ...</td>\n",
       "    </tr>\n",
       "    <tr>\n",
       "      <th>3268</th>\n",
       "      <td>Anthony Powell</td>\n",
       "      <td>[{u'name': u'Blore-Smith ', u'description': u'...</td>\n",
       "      <td>Agents and Patients</td>\n",
       "      <td>Agents and Patients  is a farcical tale about ...</td>\n",
       "      <td>NaN</td>\n",
       "    </tr>\n",
       "    <tr>\n",
       "      <th>3269</th>\n",
       "      <td>Aharon Appelfeld</td>\n",
       "      <td>[{u'name': u'Bruno A. ', u'description': u'Bru...</td>\n",
       "      <td>The Age of Wonders</td>\n",
       "      <td>Book 1, the longer of the novel's two parts, b...</td>\n",
       "      <td>NaN</td>\n",
       "    </tr>\n",
       "    <tr>\n",
       "      <th>3270</th>\n",
       "      <td>Edith Wharton</td>\n",
       "      <td>[{u'name': u'Newland Archer ', u'description':...</td>\n",
       "      <td>The Age of Innocence</td>\n",
       "      <td>Edith Wharton opens The Age of Innocence at th...</td>\n",
       "      <td>Newland Archer, a handsome and eligible youn...</td>\n",
       "    </tr>\n",
       "    <tr>\n",
       "      <th>3271</th>\n",
       "      <td>Joris-Karl Huysmans</td>\n",
       "      <td>[{u'name': u'Jean Des Esseintes ', u'descripti...</td>\n",
       "      <td>Against the Grain</td>\n",
       "      <td>NaN</td>\n",
       "      <td>The Des Esseintes family has a long history....</td>\n",
       "    </tr>\n",
       "    <tr>\n",
       "      <th>3273</th>\n",
       "      <td>Anthony Powell</td>\n",
       "      <td>[{u'name': u'William Atwater ', u'description'...</td>\n",
       "      <td>Afternoon Men</td>\n",
       "      <td>Nothing much seems to happen in this comic nov...</td>\n",
       "      <td>NaN</td>\n",
       "    </tr>\n",
       "    <tr>\n",
       "      <th>3274</th>\n",
       "      <td>Arthur Miller</td>\n",
       "      <td>[{u'name': u'Quentin ', u'description': u'Quen...</td>\n",
       "      <td>After the Fall</td>\n",
       "      <td>After the Fall  begins with Quentin sitting ce...</td>\n",
       "      <td>NaN</td>\n",
       "    </tr>\n",
       "    <tr>\n",
       "      <th>3275</th>\n",
       "      <td>Yukio Mishima</td>\n",
       "      <td>[{u'name': u'Kazu Fukuzawa ', u'description': ...</td>\n",
       "      <td>After the Banquet</td>\n",
       "      <td>After the Banquet  is a political and social s...</td>\n",
       "      <td>NaN</td>\n",
       "    </tr>\n",
       "    <tr>\n",
       "      <th>3276</th>\n",
       "      <td>Moliere</td>\n",
       "      <td>[{u'name': u'Magdelon ', u'description': u'Mag...</td>\n",
       "      <td>The Affected Young Ladies</td>\n",
       "      <td>NaN</td>\n",
       "      <td>Gorgibus brings his daughter Magdelon and hi...</td>\n",
       "    </tr>\n",
       "    <tr>\n",
       "      <th>3277</th>\n",
       "      <td>Aesop</td>\n",
       "      <td>[{u'name': u'The fox ', u'description': u'The ...</td>\n",
       "      <td>Aesop's Fables</td>\n",
       "      <td>Several hundred fables have been associated wi...</td>\n",
       "      <td>NaN</td>\n",
       "    </tr>\n",
       "    <tr>\n",
       "      <th>3278</th>\n",
       "      <td>Mark Twain</td>\n",
       "      <td>[{u'name': u'Tom Sawyer ', u'description': u'T...</td>\n",
       "      <td>The Adventures of Tom Sawyer</td>\n",
       "      <td>Set in St. Petersburg, a quiet village on the ...</td>\n",
       "      <td>Tom Sawyer lives securely with the knowledge...</td>\n",
       "    </tr>\n",
       "    <tr>\n",
       "      <th>3280</th>\n",
       "      <td>Benjamin Constant</td>\n",
       "      <td>[{u'name': u'Adolphe ', u'description': u'Adol...</td>\n",
       "      <td>Adolphe</td>\n",
       "      <td>NaN</td>\n",
       "      <td>Having creditably completed his studies in G...</td>\n",
       "    </tr>\n",
       "    <tr>\n",
       "      <th>3281</th>\n",
       "      <td>Sir James Barrie</td>\n",
       "      <td>[{u'name': u'William (Bill) Crichton ', u'desc...</td>\n",
       "      <td>The Admirable Crichton</td>\n",
       "      <td>NaN</td>\n",
       "      <td>Once every month, the philanthropic Earl of ...</td>\n",
       "    </tr>\n",
       "    <tr>\n",
       "      <th>3282</th>\n",
       "      <td>Elmer Rice</td>\n",
       "      <td>[{u'name': u'Mr. Zero ', u'description': u'Mr....</td>\n",
       "      <td>The Adding Machine</td>\n",
       "      <td>The opening scene sets the tone of a nightmari...</td>\n",
       "      <td>NaN</td>\n",
       "    </tr>\n",
       "    <tr>\n",
       "      <th>3283</th>\n",
       "      <td>Ernest Hemingway</td>\n",
       "      <td>[{u'name': u'Richard Cantwell ', u'description...</td>\n",
       "      <td>Across the River and into the Trees</td>\n",
       "      <td>The novel opens on a cold Sunday morning with ...</td>\n",
       "      <td>NaN</td>\n",
       "    </tr>\n",
       "    <tr>\n",
       "      <th>3284</th>\n",
       "      <td>Peter Handke</td>\n",
       "      <td>[{u'name': u'Andreas Loser ', u'description': ...</td>\n",
       "      <td>Across</td>\n",
       "      <td>Across  is a first-person narrative with littl...</td>\n",
       "      <td>NaN</td>\n",
       "    </tr>\n",
       "    <tr>\n",
       "      <th>3285</th>\n",
       "      <td>Carlo Emilio Gadda</td>\n",
       "      <td>[{u'name': u'Gonzalo Pirobutirro de Eltino ', ...</td>\n",
       "      <td>Acquainted with Grief</td>\n",
       "      <td>Maradagal is a South American country based up...</td>\n",
       "      <td>NaN</td>\n",
       "    </tr>\n",
       "    <tr>\n",
       "      <th>3286</th>\n",
       "      <td>Thea Astley</td>\n",
       "      <td>[{u'name': u'Jack Holberg ', u'description': u...</td>\n",
       "      <td>The Acolyte</td>\n",
       "      <td>Told  in the first person by 'the acolyte,' Pa...</td>\n",
       "      <td>NaN</td>\n",
       "    </tr>\n",
       "    <tr>\n",
       "      <th>3287</th>\n",
       "      <td>Aristophanes</td>\n",
       "      <td>[{u'name': u'Dicaeopolis ', u'description': u'...</td>\n",
       "      <td>The Acharnians</td>\n",
       "      <td>NaN</td>\n",
       "      <td>Dicaeopolis, waiting for the assembly to con...</td>\n",
       "    </tr>\n",
       "    <tr>\n",
       "      <th>3288</th>\n",
       "      <td>Anne Tyler</td>\n",
       "      <td>[{u'name': u'Macon Leary ', u'description': u'...</td>\n",
       "      <td>The Accidental Tourist</td>\n",
       "      <td>Macon Leary learns to cope with the murder of ...</td>\n",
       "      <td>Sarah and Macon are driving home from a vaca...</td>\n",
       "    </tr>\n",
       "    <tr>\n",
       "      <th>3289</th>\n",
       "      <td>Dario Fo</td>\n",
       "      <td>[{u'name': u'Maniac ', u'description': u'Mania...</td>\n",
       "      <td>Accidental Death of an Anarchist</td>\n",
       "      <td>Accidental Death of an Anarchist  opens in the...</td>\n",
       "      <td>NaN</td>\n",
       "    </tr>\n",
       "    <tr>\n",
       "      <th>3291</th>\n",
       "      <td>Alan Ayckbourn</td>\n",
       "      <td>[{u'name': u'Sidney Hopcroft ', u'description'...</td>\n",
       "      <td>Absurd Person Singular</td>\n",
       "      <td>Absurd Person Singular  takes place on the Chr...</td>\n",
       "      <td>NaN</td>\n",
       "    </tr>\n",
       "    <tr>\n",
       "      <th>3292</th>\n",
       "      <td>Maria Edgeworth</td>\n",
       "      <td>[{u'name': u'Lord Clonbrony ', u'description':...</td>\n",
       "      <td>The Absentee</td>\n",
       "      <td>Maria Edgeworth wrote two series entitled Tale...</td>\n",
       "      <td>Lord Clonbrony is an absentee landlord who o...</td>\n",
       "    </tr>\n",
       "    <tr>\n",
       "      <th>3294</th>\n",
       "      <td>First produced:</td>\n",
       "      <td>[{u'name': u'Abraham ', u'description': u'Abra...</td>\n",
       "      <td>Abraham and Isaac</td>\n",
       "      <td>NaN</td>\n",
       "      <td>Abraham, offering a prayer of thanksgiving t...</td>\n",
       "    </tr>\n",
       "    <tr>\n",
       "      <th>3296</th>\n",
       "      <td>Maxine Kumin</td>\n",
       "      <td>[{u'name': u'Lucy Starr ', u'description': u'L...</td>\n",
       "      <td>The Abduction</td>\n",
       "      <td>The Abduction , poet Maxine Kumin's most signi...</td>\n",
       "      <td>NaN</td>\n",
       "    </tr>\n",
       "    <tr>\n",
       "      <th>3297</th>\n",
       "      <td>Muriel Spark</td>\n",
       "      <td>[{u'name': u'Alexandra ', u'description': u'Al...</td>\n",
       "      <td>The Abbess of Crewe</td>\n",
       "      <td>The Abbess of Crewe  satirizes politics in the...</td>\n",
       "      <td>NaN</td>\n",
       "    </tr>\n",
       "    <tr>\n",
       "      <th>3299</th>\n",
       "      <td>D. H. Lawrence</td>\n",
       "      <td>[{u'name': u'Aaron Sisson ', u'description': u...</td>\n",
       "      <td>Aaron's Rod</td>\n",
       "      <td>This brooding, bittersweet work, neither utter...</td>\n",
       "      <td>NaN</td>\n",
       "    </tr>\n",
       "  </tbody>\n",
       "</table>\n",
       "<p>2845 rows × 5 columns</p>\n",
       "</div>"
      ]
     },
     "output_type": "execute_result",
     "metadata": {}
    }
   ],
   "source": [
    "df"
   ]
  },
  {
   "cell_type": "code",
   "execution_count": 11,
   "metadata": {},
   "outputs": [],
   "source": [
    "df_sub = df[['masterplots_fourth_edition_summary', 'masterplots_ii_summary']]"
   ]
  },
  {
   "cell_type": "code",
   "execution_count": 24,
   "metadata": {},
   "outputs": [
    {
     "data": {
      "text/html": [
       "<div>\n",
       "<table border=\"1\" class=\"dataframe\">\n",
       "  <thead>\n",
       "    <tr style=\"text-align: right;\">\n",
       "      <th></th>\n",
       "      <th>masterplots_fourth_edition_summary</th>\n",
       "      <th>masterplots_ii_summary</th>\n",
       "    </tr>\n",
       "  </thead>\n",
       "  <tbody>\n",
       "    <tr>\n",
       "      <th>0</th>\n",
       "      <td>1109</td>\n",
       "      <td>3806</td>\n",
       "    </tr>\n",
       "    <tr>\n",
       "      <th>6</th>\n",
       "      <td>1514</td>\n",
       "      <td>1258</td>\n",
       "    </tr>\n",
       "  </tbody>\n",
       "</table>\n",
       "</div>"
      ]
     },
     "output_type": "execute_result",
     "metadata": {}
    }
   ],
   "source": [
    "df_sub.iloc[[0, 4]].applymap(lambda x: len(word_tokenize(x)))"
   ]
  },
  {
   "cell_type": "code",
   "execution_count": 40,
   "metadata": {},
   "outputs": [],
   "source": [
    "def get_length(x):\n",
    "    if not pd.isnull(x):\n",
    "        return len(word_tokenize(x))\n",
    "    else: \n",
    "        return None"
   ]
  },
  {
   "cell_type": "code",
   "execution_count": 43,
   "metadata": {},
   "outputs": [],
   "source": [
    "word_counts = df_sub.applymap(get_length)"
   ]
  },
  {
   "cell_type": "code",
   "execution_count": 46,
   "metadata": {},
   "outputs": [
    {
     "data": {
      "text/plain": [
       "masterplots_fourth_edition_summary    3272\n",
       "masterplots_ii_summary                3086\n",
       "dtype: float64"
      ]
     },
     "execution_count": 46,
     "output_type": "execute_result",
     "metadata": {}
    }
   ],
   "source": [
    "word_counts[1000:].max()"
   ]
  },
  {
   "cell_type": "code",
   "execution_count": null,
   "metadata": {},
   "outputs": [],
   "source": [
    ""
   ]
  }
 ],
 "metadata": {
  "kernelspec": {
   "display_name": "Local Python",
   "language": "python",
   "name": "local"
  },
  "language_info": {
   "codemirror_mode": {
    "name": "ipython",
    "version": 2.0
   },
   "file_extension": ".py",
   "mimetype": "text/x-python",
   "name": "python",
   "nbconvert_exporter": "python",
   "pygments_lexer": "ipython2",
   "version": "2.7.10"
  }
 },
 "nbformat": 4,
 "nbformat_minor": 0
}