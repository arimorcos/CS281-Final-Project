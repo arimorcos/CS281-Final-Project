{
 "cells": [
  {
   "cell_type": "code",
   "execution_count": 1,
   "metadata": {
    "collapsed": false
   },
   "outputs": [
    {
     "name": "stderr",
     "output_type": "stream",
     "text": [
      "Using gpu device 0: GeForce GTX TITAN X\n"
     ]
    }
   ],
   "source": [
    "import sys\n",
    "sys.path.append('..')\n",
    "from theano import function, config, shared, sandbox\n",
    "import theano.tensor as T\n",
    "import numpy as np\n",
    "import theano_lstm\n"
   ]
  },
  {
   "cell_type": "code",
   "execution_count": 2,
   "metadata": {
    "collapsed": false
   },
   "outputs": [],
   "source": [
    "config.mode=\"FAST_COMPILE\"\n",
    "hidden_size = 128\n",
    "network = theano_lstm.lstm_rnn(300,\n",
    "                  [(hidden_size, hidden_size)],\n",
    "                  150, dropout=0.2)\n",
    "# network.initialize_training_adadelta()\n",
    "network.initialize_training_adam(alpha=5e-5, beta1=0.9)"
   ]
  },
  {
   "cell_type": "code",
   "execution_count": 66,
   "metadata": {
    "collapsed": true
   },
   "outputs": [],
   "source": [
    "network.initialize_network_weights()\n",
    "for p in network.list_all_params():\n",
    "    p.set_value(p.get_value()*0.9)"
   ]
  },
  {
   "cell_type": "code",
   "execution_count": 67,
   "metadata": {
    "collapsed": false
   },
   "outputs": [
    {
     "data": {
      "text/plain": [
       "array([[  7.69233152e+12,   9.01659073e+12,   1.26909636e+13, ...,\n",
       "         -3.74160543e+12,  -3.12036945e+13,  -1.25824726e+13],\n",
       "       [ -2.68804974e+13,  -1.82994883e+13,  -4.45719123e+13, ...,\n",
       "         -5.45421210e+12,   6.99111938e+12,   1.66316933e+12],\n",
       "       [  1.23057314e+12,  -1.42208978e+12,  -1.30754229e+12, ...,\n",
       "         -1.71519194e+13,  -1.04429296e+12,  -2.24670641e+13],\n",
       "       ..., \n",
       "       [  4.61777351e+13,  -5.84718798e+12,   5.75633663e+13, ...,\n",
       "          1.90069562e+13,  -1.15899997e+13,  -1.12533743e+13],\n",
       "       [  1.27108037e+13,   3.18294783e+13,   1.03213401e+13, ...,\n",
       "          1.01879529e+13,  -7.86915813e+12,  -1.81620577e+13],\n",
       "       [ -1.16482764e+13,   2.67857900e+13,   4.78646056e+12, ...,\n",
       "          2.13522642e+13,   7.35598713e+13,   1.94090033e+13]], dtype=float32)"
      ]
     },
     "execution_count": 67,
     "metadata": {},
     "output_type": "execute_result"
    }
   ],
   "source": [
    "old_grad_calc = old_grad_fun(vectors, lengths, answers)/1.000000001\n",
    "old_grad_calc"
   ]
  },
  {
   "cell_type": "code",
   "execution_count": 35,
   "metadata": {
    "collapsed": true
   },
   "outputs": [],
   "source": [
    "grad_obj = network.adam_grads[0]"
   ]
  },
  {
   "cell_type": "code",
   "execution_count": 51,
   "metadata": {
    "collapsed": true
   },
   "outputs": [],
   "source": [
    "old_grad_obj = grad_obj*1.000000001"
   ]
  },
  {
   "cell_type": "code",
   "execution_count": 46,
   "metadata": {
    "collapsed": false
   },
   "outputs": [
    {
     "name": "stdout",
     "output_type": "stream",
     "text": [
      "(False, True)\n"
     ]
    }
   ],
   "source": [
    "curr_norm = grad_obj.norm(2, axis=1)\n",
    "# curr_norm = T.addbroadcast(curr_norm, 0)\n",
    "curr_norm = curr_norm.dimshuffle([0, 'x'])\n",
    "scale_fac = network.adam_hyperparam_list[0]/curr_norm\n",
    "print curr_norm.broadcastable\n",
    "new_grad = grad_obj*scale_fac"
   ]
  },
  {
   "cell_type": "code",
   "execution_count": 49,
   "metadata": {
    "collapsed": true
   },
   "outputs": [],
   "source": [
    "norm_fun = function(network._lstm_rnn__inp_list, curr_norm)"
   ]
  },
  {
   "cell_type": "code",
   "execution_count": 39,
   "metadata": {
    "collapsed": true
   },
   "outputs": [],
   "source": [
    "scale_fac_fun = function(network._lstm_rnn__inp_list, scale_fac)"
   ]
  },
  {
   "cell_type": "code",
   "execution_count": 52,
   "metadata": {
    "collapsed": true
   },
   "outputs": [],
   "source": [
    "old_grad_fun = function(network._lstm_rnn__inp_list, old_grad_obj)"
   ]
  },
  {
   "cell_type": "code",
   "execution_count": 22,
   "metadata": {
    "collapsed": false
   },
   "outputs": [],
   "source": [
    "grad_fun = function(network._lstm_rnn__inp_list, new_grad)"
   ]
  },
  {
   "cell_type": "code",
   "execution_count": 50,
   "metadata": {
    "collapsed": true
   },
   "outputs": [
    {
     "data": {
      "text/plain": [
       "array([[ inf],\n",
       "       [ inf],\n",
       "       [ inf],\n",
       "       [ inf],\n",
       "       [ inf],\n",
       "       [ inf],\n",
       "       [ inf],\n",
       "       [ inf],\n",
       "       [ inf],\n",
       "       [ inf],\n",
       "       [ inf],\n",
       "       [ inf],\n",
       "       [ inf],\n",
       "       [ inf],\n",
       "       [ inf],\n",
       "       [ inf],\n",
       "       [ inf],\n",
       "       [ inf],\n",
       "       [ inf],\n",
       "       [ inf],\n",
       "       [ inf],\n",
       "       [ inf],\n",
       "       [ inf],\n",
       "       [ inf],\n",
       "       [ inf],\n",
       "       [ inf],\n",
       "       [ inf],\n",
       "       [ inf],\n",
       "       [ inf],\n",
       "       [ inf],\n",
       "       [ inf],\n",
       "       [ inf],\n",
       "       [ inf],\n",
       "       [ inf],\n",
       "       [ inf],\n",
       "       [ inf],\n",
       "       [ inf],\n",
       "       [ inf],\n",
       "       [ inf],\n",
       "       [ inf],\n",
       "       [ inf],\n",
       "       [ inf],\n",
       "       [ inf],\n",
       "       [ inf],\n",
       "       [ inf],\n",
       "       [ inf],\n",
       "       [ inf],\n",
       "       [ inf],\n",
       "       [ inf],\n",
       "       [ inf],\n",
       "       [ inf],\n",
       "       [ inf],\n",
       "       [ inf],\n",
       "       [ inf],\n",
       "       [ inf],\n",
       "       [ inf],\n",
       "       [ inf],\n",
       "       [ inf],\n",
       "       [ inf],\n",
       "       [ inf],\n",
       "       [ inf],\n",
       "       [ inf],\n",
       "       [ inf],\n",
       "       [ inf],\n",
       "       [ inf],\n",
       "       [ inf],\n",
       "       [ inf],\n",
       "       [ inf],\n",
       "       [ inf],\n",
       "       [ inf],\n",
       "       [ inf],\n",
       "       [ inf],\n",
       "       [ inf],\n",
       "       [ inf],\n",
       "       [ inf],\n",
       "       [ inf],\n",
       "       [ inf],\n",
       "       [ inf],\n",
       "       [ inf],\n",
       "       [ inf],\n",
       "       [ inf],\n",
       "       [ inf],\n",
       "       [ inf],\n",
       "       [ inf],\n",
       "       [ inf],\n",
       "       [ inf],\n",
       "       [ inf],\n",
       "       [ inf],\n",
       "       [ inf],\n",
       "       [ inf],\n",
       "       [ inf],\n",
       "       [ inf],\n",
       "       [ inf],\n",
       "       [ inf],\n",
       "       [ inf],\n",
       "       [ inf],\n",
       "       [ inf],\n",
       "       [ inf],\n",
       "       [ inf],\n",
       "       [ inf],\n",
       "       [ inf],\n",
       "       [ inf],\n",
       "       [ inf],\n",
       "       [ inf],\n",
       "       [ inf],\n",
       "       [ inf],\n",
       "       [ inf],\n",
       "       [ inf],\n",
       "       [ inf],\n",
       "       [ inf],\n",
       "       [ inf],\n",
       "       [ inf],\n",
       "       [ inf],\n",
       "       [ inf],\n",
       "       [ inf],\n",
       "       [ inf],\n",
       "       [ inf],\n",
       "       [ inf],\n",
       "       [ inf],\n",
       "       [ inf],\n",
       "       [ inf],\n",
       "       [ inf],\n",
       "       [ inf],\n",
       "       [ inf],\n",
       "       [ inf],\n",
       "       [ inf],\n",
       "       [ inf],\n",
       "       [ inf]], dtype=float32)"
      ]
     },
     "execution_count": 50,
     "metadata": {},
     "output_type": "execute_result"
    }
   ],
   "source": [
    "curr_norm_calc = norm_fun(vectors, lengths, answers)\n",
    "curr_norm_calc"
   ]
  },
  {
   "cell_type": "code",
   "execution_count": 48,
   "metadata": {
    "collapsed": true
   },
   "outputs": [
    {
     "data": {
      "text/plain": [
       "array([[ 0.],\n",
       "       [ 0.],\n",
       "       [ 0.],\n",
       "       [ 0.],\n",
       "       [ 0.],\n",
       "       [ 0.],\n",
       "       [ 0.],\n",
       "       [ 0.],\n",
       "       [ 0.],\n",
       "       [ 0.],\n",
       "       [ 0.],\n",
       "       [ 0.],\n",
       "       [ 0.],\n",
       "       [ 0.],\n",
       "       [ 0.],\n",
       "       [ 0.],\n",
       "       [ 0.],\n",
       "       [ 0.],\n",
       "       [ 0.],\n",
       "       [ 0.],\n",
       "       [ 0.],\n",
       "       [ 0.],\n",
       "       [ 0.],\n",
       "       [ 0.],\n",
       "       [ 0.],\n",
       "       [ 0.],\n",
       "       [ 0.],\n",
       "       [ 0.],\n",
       "       [ 0.],\n",
       "       [ 0.],\n",
       "       [ 0.],\n",
       "       [ 0.],\n",
       "       [ 0.],\n",
       "       [ 0.],\n",
       "       [ 0.],\n",
       "       [ 0.],\n",
       "       [ 0.],\n",
       "       [ 0.],\n",
       "       [ 0.],\n",
       "       [ 0.],\n",
       "       [ 0.],\n",
       "       [ 0.],\n",
       "       [ 0.],\n",
       "       [ 0.],\n",
       "       [ 0.],\n",
       "       [ 0.],\n",
       "       [ 0.],\n",
       "       [ 0.],\n",
       "       [ 0.],\n",
       "       [ 0.],\n",
       "       [ 0.],\n",
       "       [ 0.],\n",
       "       [ 0.],\n",
       "       [ 0.],\n",
       "       [ 0.],\n",
       "       [ 0.],\n",
       "       [ 0.],\n",
       "       [ 0.],\n",
       "       [ 0.],\n",
       "       [ 0.],\n",
       "       [ 0.],\n",
       "       [ 0.],\n",
       "       [ 0.],\n",
       "       [ 0.],\n",
       "       [ 0.],\n",
       "       [ 0.],\n",
       "       [ 0.],\n",
       "       [ 0.],\n",
       "       [ 0.],\n",
       "       [ 0.],\n",
       "       [ 0.],\n",
       "       [ 0.],\n",
       "       [ 0.],\n",
       "       [ 0.],\n",
       "       [ 0.],\n",
       "       [ 0.],\n",
       "       [ 0.],\n",
       "       [ 0.],\n",
       "       [ 0.],\n",
       "       [ 0.],\n",
       "       [ 0.],\n",
       "       [ 0.],\n",
       "       [ 0.],\n",
       "       [ 0.],\n",
       "       [ 0.],\n",
       "       [ 0.],\n",
       "       [ 0.],\n",
       "       [ 0.],\n",
       "       [ 0.],\n",
       "       [ 0.],\n",
       "       [ 0.],\n",
       "       [ 0.],\n",
       "       [ 0.],\n",
       "       [ 0.],\n",
       "       [ 0.],\n",
       "       [ 0.],\n",
       "       [ 0.],\n",
       "       [ 0.],\n",
       "       [ 0.],\n",
       "       [ 0.],\n",
       "       [ 0.],\n",
       "       [ 0.],\n",
       "       [ 0.],\n",
       "       [ 0.],\n",
       "       [ 0.],\n",
       "       [ 0.],\n",
       "       [ 0.],\n",
       "       [ 0.],\n",
       "       [ 0.],\n",
       "       [ 0.],\n",
       "       [ 0.],\n",
       "       [ 0.],\n",
       "       [ 0.],\n",
       "       [ 0.],\n",
       "       [ 0.],\n",
       "       [ 0.],\n",
       "       [ 0.],\n",
       "       [ 0.],\n",
       "       [ 0.],\n",
       "       [ 0.],\n",
       "       [ 0.],\n",
       "       [ 0.],\n",
       "       [ 0.],\n",
       "       [ 0.],\n",
       "       [ 0.],\n",
       "       [ 0.],\n",
       "       [ 0.],\n",
       "       [ 0.]], dtype=float32)"
      ]
     },
     "execution_count": 48,
     "metadata": {},
     "output_type": "execute_result"
    }
   ],
   "source": [
    "scale_fac_calc = scale_fac_fun(vectors, lengths, answers)\n",
    "scale_fac_calc"
   ]
  },
  {
   "cell_type": "code",
   "execution_count": 69,
   "metadata": {
    "collapsed": false
   },
   "outputs": [
    {
     "data": {
      "text/plain": [
       "array([[ 0.07412253,  0.08688296,  0.12228884, ..., -0.03605373,\n",
       "        -0.30067563, -0.12124343],\n",
       "       [-0.22462016, -0.15291511, -0.37245405, ..., -0.04557676,\n",
       "         0.05841954,  0.01389786],\n",
       "       [ 0.00902044, -0.01042431, -0.00958464, ..., -0.12572826,\n",
       "        -0.00765495, -0.16468973],\n",
       "       ..., \n",
       "       [ 0.29069477, -0.0368088 ,  0.36236879, ...,  0.11965124,\n",
       "        -0.07296054, -0.07084144],\n",
       "       [ 0.06705038,  0.16790274,  0.0544458 , ...,  0.05374217,\n",
       "        -0.04151036, -0.09580614],\n",
       "       [-0.06037867,  0.13884376,  0.02481055, ...,  0.11067915,\n",
       "         0.38129652,  0.10060629]], dtype=float32)"
      ]
     },
     "execution_count": 69,
     "metadata": {},
     "output_type": "execute_result"
    }
   ],
   "source": [
    "new_grad_calc = grad_fun(vectors, lengths, answers)\n",
    "new_grad_calc"
   ]
  },
  {
   "cell_type": "code",
   "execution_count": null,
   "metadata": {
    "collapsed": true
   },
   "outputs": [],
   "source": [
    "o"
   ]
  },
  {
   "cell_type": "code",
   "execution_count": null,
   "metadata": {
    "collapsed": true
   },
   "outputs": [],
   "source": []
  },
  {
   "cell_type": "code",
   "execution_count": null,
   "metadata": {
    "collapsed": true
   },
   "outputs": [],
   "source": []
  },
  {
   "cell_type": "code",
   "execution_count": null,
   "metadata": {
    "collapsed": false
   },
   "outputs": [],
   "source": [
    "grad = network.adam_grads[0]"
   ]
  },
  {
   "cell_type": "code",
   "execution_count": null,
   "metadata": {
    "collapsed": false
   },
   "outputs": [],
   "source": [
    "grad_fun = function(network._lstm_rnn__inp_list, grad)"
   ]
  },
  {
   "cell_type": "code",
   "execution_count": 17,
   "metadata": {
    "collapsed": false
   },
   "outputs": [
    {
     "name": "stdout",
     "output_type": "stream",
     "text": [
      "Batch Size = 5;  Stride = 5\n"
     ]
    }
   ],
   "source": [
    "import data_managers\n",
    "data_butler = data_managers.character_data_manager('/home/arimorcos/Github/CS281-Final-Project/data manager/')\n",
    "data_butler.set_batch_size(5)\n",
    "vectors, lengths, answers = data_butler.offer_data()"
   ]
  },
  {
   "cell_type": "code",
   "execution_count": null,
   "metadata": {
    "collapsed": true
   },
   "outputs": [],
   "source": [
    "network.adam_hyperparam_list"
   ]
  },
  {
   "cell_type": "code",
   "execution_count": null,
   "metadata": {
    "collapsed": false
   },
   "outputs": [],
   "source": [
    "curr_norm"
   ]
  },
  {
   "cell_type": "code",
   "execution_count": null,
   "metadata": {
    "collapsed": false
   },
   "outputs": [],
   "source": [
    "curr_norm = x.norm(2, axis=1)\n",
    "scale_fac = network.adam_hyperparam_list[0]/curr_norm"
   ]
  },
  {
   "cell_type": "code",
   "execution_count": null,
   "metadata": {
    "collapsed": false
   },
   "outputs": [],
   "source": [
    "scale_fac.T."
   ]
  },
  {
   "cell_type": "code",
   "execution_count": null,
   "metadata": {
    "collapsed": false
   },
   "outputs": [],
   "source": [
    "scale_fac.broadcastable"
   ]
  },
  {
   "cell_type": "code",
   "execution_count": null,
   "metadata": {
    "collapsed": false,
    "scrolled": true
   },
   "outputs": [],
   "source": [
    "dir(x)"
   ]
  },
  {
   "cell_type": "code",
   "execution_count": null,
   "metadata": {
    "collapsed": false
   },
   "outputs": [],
   "source": [
    "help(x.T.clip)"
   ]
  },
  {
   "cell_type": "code",
   "execution_count": null,
   "metadata": {
    "collapsed": false
   },
   "outputs": [],
   "source": [
    "help(x.norm)"
   ]
  },
  {
   "cell_type": "code",
   "execution_count": null,
   "metadata": {
    "collapsed": false
   },
   "outputs": [],
   "source": [
    "help(x.T.norm)"
   ]
  },
  {
   "cell_type": "code",
   "execution_count": null,
   "metadata": {
    "collapsed": true
   },
   "outputs": [],
   "source": [
    "x = shared(np.array([1, 2, 3, 4]).astype(config.floatX))"
   ]
  },
  {
   "cell_type": "code",
   "execution_count": null,
   "metadata": {
    "collapsed": false
   },
   "outputs": [],
   "source": [
    "x.get_value()[0].dtype"
   ]
  },
  {
   "cell_type": "code",
   "execution_count": null,
   "metadata": {
    "collapsed": false
   },
   "outputs": [],
   "source": [
    "network.adam_hyperparam_list.get_value()[0]"
   ]
  },
  {
   "cell_type": "code",
   "execution_count": null,
   "metadata": {
    "collapsed": true
   },
   "outputs": [],
   "source": [
    "y = np.ones(shape=(5,10))"
   ]
  },
  {
   "cell_type": "code",
   "execution_count": null,
   "metadata": {
    "collapsed": false
   },
   "outputs": [],
   "source": [
    "np.mean(y, axis=1)"
   ]
  },
  {
   "cell_type": "code",
   "execution_count": null,
   "metadata": {
    "collapsed": true
   },
   "outputs": [],
   "source": []
  }
 ],
 "metadata": {
  "kernelspec": {
   "display_name": "Python 2",
   "language": "python",
   "name": "python2"
  },
  "language_info": {
   "codemirror_mode": {
    "name": "ipython",
    "version": 2
   },
   "file_extension": ".py",
   "mimetype": "text/x-python",
   "name": "python",
   "nbconvert_exporter": "python",
   "pygments_lexer": "ipython2",
   "version": "2.7.6"
  }
 },
 "nbformat": 4,
 "nbformat_minor": 0
}
