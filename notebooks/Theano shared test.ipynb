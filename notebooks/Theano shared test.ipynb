{
 "cells": [
  {
   "cell_type": "code",
   "execution_count": 1,
   "metadata": {
    "collapsed": false
   },
   "outputs": [
    {
     "name": "stderr",
     "output_type": "stream",
     "text": [
      "Using gpu device 0: GeForce GTX TITAN X\n"
     ]
    }
   ],
   "source": [
    "import sys\n",
    "sys.path.append('..')\n",
    "from theano import function, config, shared, sandbox\n",
    "import theano.tensor as T\n",
    "import numpy as np\n",
    "import theano_lstm\n"
   ]
  },
  {
   "cell_type": "code",
   "execution_count": 2,
   "metadata": {
    "collapsed": false
   },
   "outputs": [],
   "source": [
    "config.mode=\"FAST_COMPILE\"\n",
    "hidden_size = 128\n",
    "network = theano_lstm.lstm_rnn(300,\n",
    "                  [(hidden_size, hidden_size)],\n",
    "                  150, dropout=0.2)\n",
    "# network.initialize_training_adadelta()\n",
    "network.initialize_training_adam(alpha=5e-5, beta1=0.9)"
   ]
  },
  {
   "cell_type": "code",
   "execution_count": 70,
   "metadata": {
    "collapsed": true
   },
   "outputs": [],
   "source": [
    "network.initialize_network_weights()\n",
    "for p in network.list_all_params():\n",
    "    p.set_value(p.get_value()*0.7)"
   ]
  },
  {
   "cell_type": "code",
   "execution_count": 67,
   "metadata": {
    "collapsed": false
   },
   "outputs": [
    {
     "data": {
      "text/plain": [
       "array([[  7.69233152e+12,   9.01659073e+12,   1.26909636e+13, ...,\n",
       "         -3.74160543e+12,  -3.12036945e+13,  -1.25824726e+13],\n",
       "       [ -2.68804974e+13,  -1.82994883e+13,  -4.45719123e+13, ...,\n",
       "         -5.45421210e+12,   6.99111938e+12,   1.66316933e+12],\n",
       "       [  1.23057314e+12,  -1.42208978e+12,  -1.30754229e+12, ...,\n",
       "         -1.71519194e+13,  -1.04429296e+12,  -2.24670641e+13],\n",
       "       ..., \n",
       "       [  4.61777351e+13,  -5.84718798e+12,   5.75633663e+13, ...,\n",
       "          1.90069562e+13,  -1.15899997e+13,  -1.12533743e+13],\n",
       "       [  1.27108037e+13,   3.18294783e+13,   1.03213401e+13, ...,\n",
       "          1.01879529e+13,  -7.86915813e+12,  -1.81620577e+13],\n",
       "       [ -1.16482764e+13,   2.67857900e+13,   4.78646056e+12, ...,\n",
       "          2.13522642e+13,   7.35598713e+13,   1.94090033e+13]], dtype=float32)"
      ]
     },
     "execution_count": 67,
     "metadata": {},
     "output_type": "execute_result"
    }
   ],
   "source": [
    "old_grad_calc = old_grad_fun(vectors, lengths, answers)/1.000000001\n",
    "old_grad_calc"
   ]
  },
  {
   "cell_type": "code",
   "execution_count": 35,
   "metadata": {
    "collapsed": true
   },
   "outputs": [],
   "source": [
    "grad_obj = network.adam_grads[0]"
   ]
  },
  {
   "cell_type": "code",
   "execution_count": 51,
   "metadata": {
    "collapsed": true
   },
   "outputs": [],
   "source": [
    "old_grad_obj = grad_obj*1.000000001"
   ]
  },
  {
   "cell_type": "code",
   "execution_count": 46,
   "metadata": {
    "collapsed": false
   },
   "outputs": [
    {
     "name": "stdout",
     "output_type": "stream",
     "text": [
      "(False, True)\n"
     ]
    }
   ],
   "source": [
    "curr_norm = grad_obj.norm(2, axis=1)\n",
    "# curr_norm = T.addbroadcast(curr_norm, 0)\n",
    "curr_norm = curr_norm.dimshuffle([0, 'x'])\n",
    "scale_fac = network.adam_hyperparam_list[0]/curr_norm\n",
    "print curr_norm.broadcastable\n",
    "new_grad = grad_obj*scale_fac"
   ]
  },
  {
   "cell_type": "code",
   "execution_count": 49,
   "metadata": {
    "collapsed": true
   },
   "outputs": [],
   "source": [
    "norm_fun = function(network._lstm_rnn__inp_list, curr_norm)"
   ]
  },
  {
   "cell_type": "code",
   "execution_count": 39,
   "metadata": {
    "collapsed": true
   },
   "outputs": [],
   "source": [
    "scale_fac_fun = function(network._lstm_rnn__inp_list, scale_fac)"
   ]
  },
  {
   "cell_type": "code",
   "execution_count": 52,
   "metadata": {
    "collapsed": true
   },
   "outputs": [],
   "source": [
    "old_grad_fun = function(network._lstm_rnn__inp_list, old_grad_obj)"
   ]
  },
  {
   "cell_type": "code",
   "execution_count": 22,
   "metadata": {
    "collapsed": false
   },
   "outputs": [],
   "source": [
    "grad_fun = function(network._lstm_rnn__inp_list, new_grad)"
   ]
  },
  {
   "cell_type": "code",
   "execution_count": 50,
   "metadata": {
    "collapsed": true
   },
   "outputs": [
    {
     "data": {
      "text/plain": [
       "array([[ inf],\n",
       "       [ inf],\n",
       "       [ inf],\n",
       "       [ inf],\n",
       "       [ inf],\n",
       "       [ inf],\n",
       "       [ inf],\n",
       "       [ inf],\n",
       "       [ inf],\n",
       "       [ inf],\n",
       "       [ inf],\n",
       "       [ inf],\n",
       "       [ inf],\n",
       "       [ inf],\n",
       "       [ inf],\n",
       "       [ inf],\n",
       "       [ inf],\n",
       "       [ inf],\n",
       "       [ inf],\n",
       "       [ inf],\n",
       "       [ inf],\n",
       "       [ inf],\n",
       "       [ inf],\n",
       "       [ inf],\n",
       "       [ inf],\n",
       "       [ inf],\n",
       "       [ inf],\n",
       "       [ inf],\n",
       "       [ inf],\n",
       "       [ inf],\n",
       "       [ inf],\n",
       "       [ inf],\n",
       "       [ inf],\n",
       "       [ inf],\n",
       "       [ inf],\n",
       "       [ inf],\n",
       "       [ inf],\n",
       "       [ inf],\n",
       "       [ inf],\n",
       "       [ inf],\n",
       "       [ inf],\n",
       "       [ inf],\n",
       "       [ inf],\n",
       "       [ inf],\n",
       "       [ inf],\n",
       "       [ inf],\n",
       "       [ inf],\n",
       "       [ inf],\n",
       "       [ inf],\n",
       "       [ inf],\n",
       "       [ inf],\n",
       "       [ inf],\n",
       "       [ inf],\n",
       "       [ inf],\n",
       "       [ inf],\n",
       "       [ inf],\n",
       "       [ inf],\n",
       "       [ inf],\n",
       "       [ inf],\n",
       "       [ inf],\n",
       "       [ inf],\n",
       "       [ inf],\n",
       "       [ inf],\n",
       "       [ inf],\n",
       "       [ inf],\n",
       "       [ inf],\n",
       "       [ inf],\n",
       "       [ inf],\n",
       "       [ inf],\n",
       "       [ inf],\n",
       "       [ inf],\n",
       "       [ inf],\n",
       "       [ inf],\n",
       "       [ inf],\n",
       "       [ inf],\n",
       "       [ inf],\n",
       "       [ inf],\n",
       "       [ inf],\n",
       "       [ inf],\n",
       "       [ inf],\n",
       "       [ inf],\n",
       "       [ inf],\n",
       "       [ inf],\n",
       "       [ inf],\n",
       "       [ inf],\n",
       "       [ inf],\n",
       "       [ inf],\n",
       "       [ inf],\n",
       "       [ inf],\n",
       "       [ inf],\n",
       "       [ inf],\n",
       "       [ inf],\n",
       "       [ inf],\n",
       "       [ inf],\n",
       "       [ inf],\n",
       "       [ inf],\n",
       "       [ inf],\n",
       "       [ inf],\n",
       "       [ inf],\n",
       "       [ inf],\n",
       "       [ inf],\n",
       "       [ inf],\n",
       "       [ inf],\n",
       "       [ inf],\n",
       "       [ inf],\n",
       "       [ inf],\n",
       "       [ inf],\n",
       "       [ inf],\n",
       "       [ inf],\n",
       "       [ inf],\n",
       "       [ inf],\n",
       "       [ inf],\n",
       "       [ inf],\n",
       "       [ inf],\n",
       "       [ inf],\n",
       "       [ inf],\n",
       "       [ inf],\n",
       "       [ inf],\n",
       "       [ inf],\n",
       "       [ inf],\n",
       "       [ inf],\n",
       "       [ inf],\n",
       "       [ inf],\n",
       "       [ inf],\n",
       "       [ inf],\n",
       "       [ inf],\n",
       "       [ inf],\n",
       "       [ inf]], dtype=float32)"
      ]
     },
     "execution_count": 50,
     "metadata": {},
     "output_type": "execute_result"
    }
   ],
   "source": [
    "curr_norm_calc = norm_fun(vectors, lengths, answers)\n",
    "curr_norm_calc"
   ]
  },
  {
   "cell_type": "code",
   "execution_count": 71,
   "metadata": {
    "collapsed": false
   },
   "outputs": [
    {
     "data": {
      "text/plain": [
       "array([[  1.76298371e-07],\n",
       "       [  6.56361294e-08],\n",
       "       [  7.90249644e-08],\n",
       "       [  1.13884608e-08],\n",
       "       [  3.80782446e-08],\n",
       "       [  1.48492205e-08],\n",
       "       [  5.73712704e-08],\n",
       "       [  1.61984204e-08],\n",
       "       [  3.70072257e-08],\n",
       "       [  3.20477760e-08],\n",
       "       [  6.37140687e-08],\n",
       "       [  4.81401621e-08],\n",
       "       [  1.33169662e-08],\n",
       "       [  1.22192546e-07],\n",
       "       [  3.75578182e-08],\n",
       "       [  1.24300300e-07],\n",
       "       [  8.83644091e-08],\n",
       "       [  2.37180533e-08],\n",
       "       [  1.16589320e-07],\n",
       "       [  3.97376994e-08],\n",
       "       [  2.43791277e-07],\n",
       "       [  9.59257989e-08],\n",
       "       [  3.08135455e-08],\n",
       "       [  3.14240189e-08],\n",
       "       [  9.67313269e-08],\n",
       "       [  7.28094705e-08],\n",
       "       [  6.33974082e-08],\n",
       "       [  1.78709357e-07],\n",
       "       [  8.37233500e-08],\n",
       "       [  4.25970335e-08],\n",
       "       [  3.74816338e-08],\n",
       "       [  5.98162870e-08],\n",
       "       [  2.78558243e-08],\n",
       "       [  4.79055231e-08],\n",
       "       [  9.65346771e-08],\n",
       "       [  4.83751563e-08],\n",
       "       [  1.46026560e-08],\n",
       "       [  9.71141887e-08],\n",
       "       [  9.60634150e-09],\n",
       "       [  1.99282155e-07],\n",
       "       [  6.83567976e-08],\n",
       "       [  1.46157603e-07],\n",
       "       [  2.82708417e-08],\n",
       "       [  6.32576729e-08],\n",
       "       [  5.31505115e-08],\n",
       "       [  2.44351916e-08],\n",
       "       [  1.78732648e-07],\n",
       "       [  3.38242820e-08],\n",
       "       [  6.01163563e-08],\n",
       "       [  6.81558348e-08],\n",
       "       [  5.31573505e-08],\n",
       "       [  1.18688860e-07],\n",
       "       [  3.71819660e-08],\n",
       "       [  9.84488722e-08],\n",
       "       [  1.35518841e-08],\n",
       "       [  5.35979545e-08],\n",
       "       [  1.82051192e-08],\n",
       "       [  5.42275416e-08],\n",
       "       [  7.59277015e-08],\n",
       "       [  2.84916499e-08],\n",
       "       [  8.02743116e-08],\n",
       "       [  8.11796141e-08],\n",
       "       [  1.00123373e-07],\n",
       "       [  7.89999106e-08],\n",
       "       [  4.48497701e-08],\n",
       "       [  8.49877893e-08],\n",
       "       [  4.29558924e-07],\n",
       "       [  6.40960067e-08],\n",
       "       [  4.53921096e-08],\n",
       "       [  5.51194717e-08],\n",
       "       [  5.43317533e-08],\n",
       "       [  1.76637673e-08],\n",
       "       [  1.41349057e-08],\n",
       "       [  3.69619606e-08],\n",
       "       [  6.99942646e-08],\n",
       "       [  5.26264259e-08],\n",
       "       [  8.34873433e-08],\n",
       "       [  1.59892835e-07],\n",
       "       [  3.08824220e-08],\n",
       "       [  7.39555617e-08],\n",
       "       [  3.16185762e-08],\n",
       "       [  4.79028870e-08],\n",
       "       [  4.99589774e-08],\n",
       "       [  7.92130166e-08],\n",
       "       [  5.25758956e-08],\n",
       "       [  1.15319496e-08],\n",
       "       [  1.24835140e-07],\n",
       "       [  4.13742995e-08],\n",
       "       [  1.01207632e-07],\n",
       "       [  6.80846099e-08],\n",
       "       [  2.90500246e-08],\n",
       "       [  6.21732497e-08],\n",
       "       [  2.24912014e-07],\n",
       "       [  1.97848607e-07],\n",
       "       [  3.22266125e-08],\n",
       "       [  9.73658132e-08],\n",
       "       [  4.18086969e-08],\n",
       "       [  2.07604572e-07],\n",
       "       [  4.19586392e-08],\n",
       "       [  1.37481990e-07],\n",
       "       [  7.52040492e-08],\n",
       "       [  4.31561276e-08],\n",
       "       [  8.52710471e-08],\n",
       "       [  5.33265627e-08],\n",
       "       [  5.31332631e-08],\n",
       "       [  3.08607291e-08],\n",
       "       [  1.01068078e-08],\n",
       "       [  2.67252602e-08],\n",
       "       [  3.92257640e-08],\n",
       "       [  1.38004665e-07],\n",
       "       [  3.41513697e-08],\n",
       "       [  1.08058673e-08],\n",
       "       [  5.25997486e-08],\n",
       "       [  5.28286321e-08],\n",
       "       [  1.48953641e-08],\n",
       "       [  9.00925485e-08],\n",
       "       [  8.55288960e-08],\n",
       "       [  1.00972109e-07],\n",
       "       [  1.45004506e-07],\n",
       "       [  6.24633003e-08],\n",
       "       [  2.39959206e-07],\n",
       "       [  9.57943911e-08],\n",
       "       [  3.03251433e-08],\n",
       "       [  3.29374004e-08],\n",
       "       [  2.93470954e-08],\n",
       "       [  3.90430372e-08],\n",
       "       [  6.89216648e-08],\n",
       "       [  1.05970692e-07]], dtype=float32)"
      ]
     },
     "execution_count": 71,
     "metadata": {},
     "output_type": "execute_result"
    }
   ],
   "source": [
    "scale_fac_calc = scale_fac_fun(vectors, lengths, answers)\n",
    "scale_fac_calc"
   ]
  },
  {
   "cell_type": "code",
   "execution_count": 69,
   "metadata": {
    "collapsed": false
   },
   "outputs": [
    {
     "data": {
      "text/plain": [
       "array([[ 0.07412253,  0.08688296,  0.12228884, ..., -0.03605373,\n",
       "        -0.30067563, -0.12124343],\n",
       "       [-0.22462016, -0.15291511, -0.37245405, ..., -0.04557676,\n",
       "         0.05841954,  0.01389786],\n",
       "       [ 0.00902044, -0.01042431, -0.00958464, ..., -0.12572826,\n",
       "        -0.00765495, -0.16468973],\n",
       "       ..., \n",
       "       [ 0.29069477, -0.0368088 ,  0.36236879, ...,  0.11965124,\n",
       "        -0.07296054, -0.07084144],\n",
       "       [ 0.06705038,  0.16790274,  0.0544458 , ...,  0.05374217,\n",
       "        -0.04151036, -0.09580614],\n",
       "       [-0.06037867,  0.13884376,  0.02481055, ...,  0.11067915,\n",
       "         0.38129652,  0.10060629]], dtype=float32)"
      ]
     },
     "execution_count": 69,
     "metadata": {},
     "output_type": "execute_result"
    }
   ],
   "source": [
    "new_grad_calc = grad_fun(vectors, lengths, answers)\n",
    "new_grad_calc"
   ]
  },
  {
   "cell_type": "code",
   "execution_count": null,
   "metadata": {
    "collapsed": true
   },
   "outputs": [],
   "source": [
    "o"
   ]
  },
  {
   "cell_type": "code",
   "execution_count": null,
   "metadata": {
    "collapsed": true
   },
   "outputs": [],
   "source": []
  },
  {
   "cell_type": "code",
   "execution_count": null,
   "metadata": {
    "collapsed": true
   },
   "outputs": [],
   "source": []
  },
  {
   "cell_type": "code",
   "execution_count": null,
   "metadata": {
    "collapsed": false
   },
   "outputs": [],
   "source": [
    "grad = network.adam_grads[0]"
   ]
  },
  {
   "cell_type": "code",
   "execution_count": null,
   "metadata": {
    "collapsed": false
   },
   "outputs": [],
   "source": [
    "grad_fun = function(network._lstm_rnn__inp_list, grad)"
   ]
  },
  {
   "cell_type": "code",
   "execution_count": 17,
   "metadata": {
    "collapsed": false
   },
   "outputs": [
    {
     "name": "stdout",
     "output_type": "stream",
     "text": [
      "Batch Size = 5;  Stride = 5\n"
     ]
    }
   ],
   "source": [
    "import data_managers\n",
    "data_butler = data_managers.character_data_manager('/home/arimorcos/Github/CS281-Final-Project/data manager/')\n",
    "data_butler.set_batch_size(5)\n",
    "vectors, lengths, answers = data_butler.offer_data()"
   ]
  },
  {
   "cell_type": "code",
   "execution_count": null,
   "metadata": {
    "collapsed": true
   },
   "outputs": [],
   "source": [
    "network.adam_hyperparam_list"
   ]
  },
  {
   "cell_type": "code",
   "execution_count": null,
   "metadata": {
    "collapsed": false
   },
   "outputs": [],
   "source": [
    "curr_norm"
   ]
  },
  {
   "cell_type": "code",
   "execution_count": null,
   "metadata": {
    "collapsed": false
   },
   "outputs": [],
   "source": [
    "curr_norm = x.norm(2, axis=1)\n",
    "scale_fac = network.adam_hyperparam_list[0]/curr_norm"
   ]
  },
  {
   "cell_type": "code",
   "execution_count": null,
   "metadata": {
    "collapsed": false
   },
   "outputs": [],
   "source": [
    "scale_fac.T."
   ]
  },
  {
   "cell_type": "code",
   "execution_count": null,
   "metadata": {
    "collapsed": false
   },
   "outputs": [],
   "source": [
    "scale_fac.broadcastable"
   ]
  },
  {
   "cell_type": "code",
   "execution_count": null,
   "metadata": {
    "collapsed": false,
    "scrolled": true
   },
   "outputs": [],
   "source": [
    "dir(x)"
   ]
  },
  {
   "cell_type": "code",
   "execution_count": null,
   "metadata": {
    "collapsed": false
   },
   "outputs": [],
   "source": [
    "help(x.T.clip)"
   ]
  },
  {
   "cell_type": "code",
   "execution_count": null,
   "metadata": {
    "collapsed": false
   },
   "outputs": [],
   "source": [
    "help(x.norm)"
   ]
  },
  {
   "cell_type": "code",
   "execution_count": null,
   "metadata": {
    "collapsed": false
   },
   "outputs": [],
   "source": [
    "help(x.T.norm)"
   ]
  },
  {
   "cell_type": "code",
   "execution_count": null,
   "metadata": {
    "collapsed": true
   },
   "outputs": [],
   "source": [
    "x = shared(np.array([1, 2, 3, 4]).astype(config.floatX))"
   ]
  },
  {
   "cell_type": "code",
   "execution_count": null,
   "metadata": {
    "collapsed": false
   },
   "outputs": [],
   "source": [
    "x.get_value()[0].dtype"
   ]
  },
  {
   "cell_type": "code",
   "execution_count": null,
   "metadata": {
    "collapsed": false
   },
   "outputs": [],
   "source": [
    "network.adam_hyperparam_list.get_value()[0]"
   ]
  },
  {
   "cell_type": "code",
   "execution_count": null,
   "metadata": {
    "collapsed": true
   },
   "outputs": [],
   "source": [
    "y = np.ones(shape=(5,10))"
   ]
  },
  {
   "cell_type": "code",
   "execution_count": null,
   "metadata": {
    "collapsed": false
   },
   "outputs": [],
   "source": [
    "np.mean(y, axis=1)"
   ]
  }
 ],
 "metadata": {
  "kernelspec": {
   "display_name": "Python 2",
   "language": "python",
   "name": "python2"
  },
  "language_info": {
   "codemirror_mode": {
    "name": "ipython",
    "version": 2
   },
   "file_extension": ".py",
   "mimetype": "text/x-python",
   "name": "python",
   "nbconvert_exporter": "python",
   "pygments_lexer": "ipython2",
   "version": "2.7.6"
  }
 },
 "nbformat": 4,
 "nbformat_minor": 0
}
