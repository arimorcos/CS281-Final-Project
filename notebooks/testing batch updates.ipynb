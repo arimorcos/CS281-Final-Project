{
 "cells": [
  {
   "cell_type": "code",
   "execution_count": 13,
   "metadata": {
    "collapsed": false
   },
   "outputs": [],
   "source": [
    "import numpy as np\n",
    "import data_managers\n",
    "import network_optimizers\n",
    "import lstm_network_components\n",
    "import theano.tensor as T\n",
    "import theano"
   ]
  },
  {
   "cell_type": "code",
   "execution_count": 2,
   "metadata": {
    "collapsed": false
   },
   "outputs": [],
   "source": [
    "# Hire a data butler\n",
    "data_butler = data_managers.character_data_manager('/Users/alex/Desktop/data manager/', batch_size=10)"
   ]
  },
  {
   "cell_type": "code",
   "execution_count": 36,
   "metadata": {
    "collapsed": false
   },
   "outputs": [],
   "source": [
    "# Make a network for testing things\n",
    "\n",
    "reload(lstm_network_components)\n",
    "\n",
    "# LSTM stack details\n",
    "stack_specs = [\n",
    "    (128,100),\n",
    "    (128,100)\n",
    "    ]\n",
    "\n",
    "# Network components\n",
    "tst_stack = lstm_network_components.LSTM_stack( data_butler.ent_vecs.shape[1], stack_specs )\n",
    "tst_stack.initialize_stack_weights()\n",
    "tst_SR = lstm_network_components.soft_reader( sum([L.num_outputs for L in tst_stack.layers]), data_butler.ent_vecs.shape[0]-1 )\n",
    "\n",
    "# Symbolic players\n",
    "tst_inp         = T.tensor3()\n",
    "tst_seq_lengths = T.ivector()\n",
    "tst_targets     = T.dmatrix()\n",
    "\n",
    "# Symbolic outputs\n",
    "ys = tst_stack.process(tst_inp,tst_seq_lengths)\n",
    "ps = tst_SR.process(ys)\n",
    "cost = T.sum(T.nnet.binary_crossentropy(ps,tst_targets))\n",
    "\n",
    "# Functions to run the graph with real variables\n",
    "process_fun = theano.function([tst_inp,tst_seq_lengths], [ys,ps])\n",
    "cost_fun    = theano.function([tst_inp,tst_seq_lengths,tst_targets],cost)"
   ]
  },
  {
   "cell_type": "markdown",
   "metadata": {
    "collapsed": true
   },
   "source": [
    "#Test that the network and data butler get along"
   ]
  },
  {
   "cell_type": "code",
   "execution_count": 40,
   "metadata": {
    "collapsed": true
   },
   "outputs": [],
   "source": [
    "data_butler.set_batch_size(10)"
   ]
  },
  {
   "cell_type": "code",
   "execution_count": 41,
   "metadata": {
    "collapsed": false
   },
   "outputs": [
    {
     "data": {
      "text/plain": [
       "[1170, 1415, 1283, 1201, 1177, 1567, 1282, 1290, 1566, 1577]"
      ]
     },
     "execution_count": 41,
     "metadata": {},
     "output_type": "execute_result"
    }
   ],
   "source": [
    "# Use this to get data and ensure proper training scheduling\n",
    "data_butler.advance_schedule()\n",
    "V,L,A = data_butler.offer_data()\n",
    "L"
   ]
  },
  {
   "cell_type": "code",
   "execution_count": 42,
   "metadata": {
    "collapsed": false
   },
   "outputs": [
    {
     "name": "stdout",
     "output_type": "stream",
     "text": [
      "CPU times: user 4.85 s, sys: 580 ms, total: 5.43 s\n",
      "Wall time: 3.77 s\n"
     ]
    }
   ],
   "source": [
    "%%time\n",
    "# Use this to ensure the network runs\n",
    "\n",
    "Y,P = process_fun(V,L)\n",
    "C = cost_fun(V,L,A)"
   ]
  },
  {
   "cell_type": "markdown",
   "metadata": {},
   "source": [
    "#Test training initialization"
   ]
  },
  {
   "cell_type": "code",
   "execution_count": 193,
   "metadata": {
    "collapsed": true
   },
   "outputs": [],
   "source": [
    "inp_list   = [tst_inp, tst_seq_lengths, tst_targets]\n",
    "param_list = tst_stack.list_params() + tst_SR.list_params()"
   ]
  },
  {
   "cell_type": "markdown",
   "metadata": {},
   "source": [
    "adam"
   ]
  },
  {
   "cell_type": "code",
   "execution_count": 83,
   "metadata": {
    "collapsed": false
   },
   "outputs": [
    {
     "name": "stdout",
     "output_type": "stream",
     "text": [
      "CPU times: user 3min 14s, sys: 3.55 s, total: 3min 17s\n",
      "Wall time: 3min 24s\n"
     ]
    }
   ],
   "source": [
    "%%time\n",
    "train_adam = network_optimizers.adam_loves_theano(inp_list, cost, param_list)"
   ]
  },
  {
   "cell_type": "markdown",
   "metadata": {},
   "source": [
    "adadelta"
   ]
  },
  {
   "cell_type": "code",
   "execution_count": 194,
   "metadata": {
    "collapsed": false
   },
   "outputs": [
    {
     "name": "stdout",
     "output_type": "stream",
     "text": [
      "CPU times: user 3min 14s, sys: 6.78 s, total: 3min 21s\n",
      "Wall time: 3min 27s\n"
     ]
    }
   ],
   "source": [
    "%%time\n",
    "train_adadelta = network_optimizers.adadelta_fears_committment(inp_list, cost, param_list)"
   ]
  },
  {
   "cell_type": "markdown",
   "metadata": {},
   "source": [
    "SGD"
   ]
  },
  {
   "cell_type": "code",
   "execution_count": 195,
   "metadata": {
    "collapsed": false
   },
   "outputs": [
    {
     "name": "stdout",
     "output_type": "stream",
     "text": [
      "CPU times: user 1min 31s, sys: 3.2 s, total: 1min 34s\n",
      "Wall time: 1min 39s\n"
     ]
    }
   ],
   "source": [
    "%%time\n",
    "train_SGD = network_optimizers.i_hate_SGD(inp_list, cost, param_list)"
   ]
  },
  {
   "cell_type": "markdown",
   "metadata": {},
   "source": [
    "#Make sure trianing works"
   ]
  },
  {
   "cell_type": "code",
   "execution_count": 196,
   "metadata": {
    "collapsed": true
   },
   "outputs": [],
   "source": [
    "data_butler.set_batch_size(3)"
   ]
  },
  {
   "cell_type": "code",
   "execution_count": 197,
   "metadata": {
    "collapsed": false
   },
   "outputs": [
    {
     "name": "stdout",
     "output_type": "stream",
     "text": [
      "3 1191\n"
     ]
    }
   ],
   "source": [
    "# This should work here because it worked above... right?\n",
    "data_butler.advance_schedule()\n",
    "V,L,A = data_butler.offer_data()\n",
    "print len(L), max(L)"
   ]
  },
  {
   "cell_type": "markdown",
   "metadata": {},
   "source": [
    "adam"
   ]
  },
  {
   "cell_type": "code",
   "execution_count": 204,
   "metadata": {
    "collapsed": false
   },
   "outputs": [
    {
     "name": "stdout",
     "output_type": "stream",
     "text": [
      "Cost should go down:\n",
      "17.8032196945\n",
      "17.6432914141\n",
      "16.00736478\n",
      "CPU times: user 36.6 s, sys: 7.05 s, total: 43.6 s\n",
      "Wall time: 25.5 s\n"
     ]
    }
   ],
   "source": [
    "%%time\n",
    "print 'Cost should go down:'\n",
    "# Try a few training steps\n",
    "print train_adam(V,L,A)\n",
    "print train_adam(V,L,A)\n",
    "print train_adam(V,L,A)"
   ]
  },
  {
   "cell_type": "markdown",
   "metadata": {},
   "source": [
    "adadelta"
   ]
  },
  {
   "cell_type": "code",
   "execution_count": 205,
   "metadata": {
    "collapsed": false
   },
   "outputs": [
    {
     "name": "stdout",
     "output_type": "stream",
     "text": [
      "Cost should go down:\n",
      "17.4561301421\n",
      "16.4719853629\n",
      "7.70729775281\n",
      "CPU times: user 36.5 s, sys: 7.1 s, total: 43.6 s\n",
      "Wall time: 25.5 s\n"
     ]
    }
   ],
   "source": [
    "%%time\n",
    "print 'Cost should go down:'\n",
    "# Try a few training steps\n",
    "print train_adadelta(V,L,A)\n",
    "print train_adadelta(V,L,A)\n",
    "print train_adadelta(V,L,A)"
   ]
  },
  {
   "cell_type": "markdown",
   "metadata": {},
   "source": [
    "SGD"
   ]
  },
  {
   "cell_type": "code",
   "execution_count": 206,
   "metadata": {
    "collapsed": false
   },
   "outputs": [
    {
     "name": "stdout",
     "output_type": "stream",
     "text": [
      "Cost should go down:\n",
      "6.87551611886\n",
      "19.4243090837\n",
      "14.0978128436\n",
      "CPU times: user 34.1 s, sys: 6.74 s, total: 40.8 s\n",
      "Wall time: 23.7 s\n"
     ]
    }
   ],
   "source": [
    "%%time\n",
    "print 'Cost should go down (but maybe not because SGD sucks):'\n",
    "# Try a few training steps\n",
    "print train_SGD(V,L,A)\n",
    "print train_SGD(V,L,A)\n",
    "print train_SGD(V,L,A)"
   ]
  }
 ],
 "metadata": {
  "kernelspec": {
   "display_name": "Python 2",
   "language": "python",
   "name": "python2"
  },
  "language_info": {
   "codemirror_mode": {
    "name": "ipython",
    "version": 2
   },
   "file_extension": ".py",
   "mimetype": "text/x-python",
   "name": "python",
   "nbconvert_exporter": "python",
   "pygments_lexer": "ipython2",
   "version": "2.7.9"
  }
 },
 "nbformat": 4,
 "nbformat_minor": 0
}
